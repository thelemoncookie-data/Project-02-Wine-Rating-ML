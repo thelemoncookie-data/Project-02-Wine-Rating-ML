{
 "cells": [
  {
   "cell_type": "markdown",
   "id": "75ea57c5",
   "metadata": {},
   "source": [
    "### Darlene Phan\n",
    "August 11, 2022<br>\n",
    "Project 2"
   ]
  },
  {
   "cell_type": "code",
   "execution_count": 1,
   "id": "21b75585",
   "metadata": {},
   "outputs": [],
   "source": [
    "#imports\n",
    "import numpy as np\n",
    "import pandas as pd\n",
    "import matplotlib\n",
    "import matplotlib.pyplot as plt\n",
    "import seaborn as sns"
   ]
  },
  {
   "cell_type": "code",
   "execution_count": 2,
   "id": "e6490156",
   "metadata": {},
   "outputs": [
    {
     "data": {
      "text/html": [
       "<div>\n",
       "<style scoped>\n",
       "    .dataframe tbody tr th:only-of-type {\n",
       "        vertical-align: middle;\n",
       "    }\n",
       "\n",
       "    .dataframe tbody tr th {\n",
       "        vertical-align: top;\n",
       "    }\n",
       "\n",
       "    .dataframe thead th {\n",
       "        text-align: right;\n",
       "    }\n",
       "</style>\n",
       "<table border=\"1\" class=\"dataframe\">\n",
       "  <thead>\n",
       "    <tr style=\"text-align: right;\">\n",
       "      <th></th>\n",
       "      <th>winery</th>\n",
       "      <th>wine</th>\n",
       "      <th>year</th>\n",
       "      <th>rating</th>\n",
       "      <th>num_reviews</th>\n",
       "      <th>country</th>\n",
       "      <th>region</th>\n",
       "      <th>price</th>\n",
       "      <th>type</th>\n",
       "      <th>body</th>\n",
       "      <th>acidity</th>\n",
       "    </tr>\n",
       "  </thead>\n",
       "  <tbody>\n",
       "    <tr>\n",
       "      <th>0</th>\n",
       "      <td>Teso La Monja</td>\n",
       "      <td>Tinto</td>\n",
       "      <td>2013</td>\n",
       "      <td>4.9</td>\n",
       "      <td>58</td>\n",
       "      <td>Espana</td>\n",
       "      <td>Toro</td>\n",
       "      <td>995.00</td>\n",
       "      <td>Toro Red</td>\n",
       "      <td>5.0</td>\n",
       "      <td>3.0</td>\n",
       "    </tr>\n",
       "    <tr>\n",
       "      <th>1</th>\n",
       "      <td>Artadi</td>\n",
       "      <td>Vina El Pison</td>\n",
       "      <td>2018</td>\n",
       "      <td>4.9</td>\n",
       "      <td>31</td>\n",
       "      <td>Espana</td>\n",
       "      <td>Vino de Espana</td>\n",
       "      <td>313.50</td>\n",
       "      <td>Tempranillo</td>\n",
       "      <td>4.0</td>\n",
       "      <td>2.0</td>\n",
       "    </tr>\n",
       "    <tr>\n",
       "      <th>2</th>\n",
       "      <td>Vega Sicilia</td>\n",
       "      <td>Unico</td>\n",
       "      <td>2009</td>\n",
       "      <td>4.8</td>\n",
       "      <td>1793</td>\n",
       "      <td>Espana</td>\n",
       "      <td>Ribera del Duero</td>\n",
       "      <td>324.95</td>\n",
       "      <td>Ribera Del Duero Red</td>\n",
       "      <td>5.0</td>\n",
       "      <td>3.0</td>\n",
       "    </tr>\n",
       "    <tr>\n",
       "      <th>3</th>\n",
       "      <td>Vega Sicilia</td>\n",
       "      <td>Unico</td>\n",
       "      <td>1999</td>\n",
       "      <td>4.8</td>\n",
       "      <td>1705</td>\n",
       "      <td>Espana</td>\n",
       "      <td>Ribera del Duero</td>\n",
       "      <td>692.96</td>\n",
       "      <td>Ribera Del Duero Red</td>\n",
       "      <td>5.0</td>\n",
       "      <td>3.0</td>\n",
       "    </tr>\n",
       "    <tr>\n",
       "      <th>4</th>\n",
       "      <td>Vega Sicilia</td>\n",
       "      <td>Unico</td>\n",
       "      <td>1996</td>\n",
       "      <td>4.8</td>\n",
       "      <td>1309</td>\n",
       "      <td>Espana</td>\n",
       "      <td>Ribera del Duero</td>\n",
       "      <td>778.06</td>\n",
       "      <td>Ribera Del Duero Red</td>\n",
       "      <td>5.0</td>\n",
       "      <td>3.0</td>\n",
       "    </tr>\n",
       "  </tbody>\n",
       "</table>\n",
       "</div>"
      ],
      "text/plain": [
       "          winery           wine  year  rating  num_reviews country  \\\n",
       "0  Teso La Monja          Tinto  2013     4.9           58  Espana   \n",
       "1         Artadi  Vina El Pison  2018     4.9           31  Espana   \n",
       "2   Vega Sicilia          Unico  2009     4.8         1793  Espana   \n",
       "3   Vega Sicilia          Unico  1999     4.8         1705  Espana   \n",
       "4   Vega Sicilia          Unico  1996     4.8         1309  Espana   \n",
       "\n",
       "             region   price                  type  body  acidity  \n",
       "0              Toro  995.00              Toro Red   5.0      3.0  \n",
       "1    Vino de Espana  313.50           Tempranillo   4.0      2.0  \n",
       "2  Ribera del Duero  324.95  Ribera Del Duero Red   5.0      3.0  \n",
       "3  Ribera del Duero  692.96  Ribera Del Duero Red   5.0      3.0  \n",
       "4  Ribera del Duero  778.06  Ribera Del Duero Red   5.0      3.0  "
      ]
     },
     "execution_count": 2,
     "metadata": {},
     "output_type": "execute_result"
    }
   ],
   "source": [
    "df = pd.read_csv('../Data/wines_SPA.csv')\n",
    "df.head()"
   ]
  },
  {
   "cell_type": "code",
   "execution_count": 3,
   "id": "e12560f7",
   "metadata": {},
   "outputs": [
    {
     "data": {
      "text/plain": [
       "(7500, 11)"
      ]
     },
     "execution_count": 3,
     "metadata": {},
     "output_type": "execute_result"
    }
   ],
   "source": [
    "df.shape"
   ]
  },
  {
   "cell_type": "markdown",
   "id": "b6af5c78",
   "metadata": {},
   "source": [
    "NV stands for non vintage, which means that they are blends of multiple years. This does affect the price and possible rating of the wine. Since this doesn't fall in line with the other int in this column its best to drop so we don't have mixed data or create a bias<br>\n",
    "<br>\n",
    "Renaming year to vintage due to its bias. People associate year with price. "
   ]
  },
  {
   "cell_type": "code",
   "execution_count": 4,
   "id": "380dfbf6",
   "metadata": {},
   "outputs": [],
   "source": [
    "#Changing categorical values of N.V. to nan. \n",
    "df['year'] = df['year'].replace('N.V.', np.NaN)"
   ]
  },
  {
   "cell_type": "code",
   "execution_count": 5,
   "id": "e06d08de",
   "metadata": {},
   "outputs": [],
   "source": [
    "#Changing year to vintage\n",
    "dictionary = {'year': 'vintage'}\n",
    "df = df.rename(columns=dictionary)"
   ]
  },
  {
   "cell_type": "code",
   "execution_count": 6,
   "id": "c6c9345c",
   "metadata": {},
   "outputs": [
    {
     "data": {
      "text/plain": [
       "array(['2013', '2018', '2009', '1999', '1996', '1998', '2010', '1995',\n",
       "       '2015', '2011', '2016', '1970', '1946', '1962', '2019', '2004',\n",
       "       nan, '1931', '1979', '2005', '2020', '2014', '1985', '1929',\n",
       "       '2007', '2012', '2017', '2008', '2006', '2000', '2003', '2002',\n",
       "       '1991', '1994', '1990', '1989', '1987', '1986', '1981', '2001',\n",
       "       '1968', '1964', '1982', '1974', '1983', '1955', '1980', '1972',\n",
       "       '1953', '1958', '1942', '1965', '1992', '1973', '1997', '1967',\n",
       "       '1975', '1910', '1961', '1954', '1988', '1969', '1951', '1928',\n",
       "       '1976', '1949', '2021', '1959', '1922', '1978', '1925'],\n",
       "      dtype=object)"
      ]
     },
     "execution_count": 6,
     "metadata": {},
     "output_type": "execute_result"
    }
   ],
   "source": [
    "df.vintage.unique()"
   ]
  },
  {
   "cell_type": "code",
   "execution_count": 7,
   "id": "befefbd7",
   "metadata": {},
   "outputs": [],
   "source": [
    "#checking and dropping duplicates\n",
    "df.duplicated().sum()\n",
    "df.drop_duplicates(inplace=True)"
   ]
  },
  {
   "cell_type": "code",
   "execution_count": 8,
   "id": "5399d4d0",
   "metadata": {},
   "outputs": [
    {
     "data": {
      "text/plain": [
       "winery           0\n",
       "wine             0\n",
       "vintage         72\n",
       "rating           0\n",
       "num_reviews      0\n",
       "country          0\n",
       "region           0\n",
       "price            0\n",
       "type           106\n",
       "body           271\n",
       "acidity        271\n",
       "dtype: int64"
      ]
     },
     "execution_count": 8,
     "metadata": {},
     "output_type": "execute_result"
    }
   ],
   "source": [
    "#checking for null/missing values\n",
    "df.isnull().sum()"
   ]
  },
  {
   "cell_type": "markdown",
   "id": "ce963554",
   "metadata": {},
   "source": [
    "Dropping missing values in vintage as discussed earlier. Dropping type, because that's not something should be imputed since it greatly impacts the possible rating of the wine.\n",
    "\n",
    "'body' and 'acidity' will be handled differently"
   ]
  },
  {
   "cell_type": "code",
   "execution_count": 9,
   "id": "2f835e67",
   "metadata": {},
   "outputs": [],
   "source": [
    "#Dropping missing values\n",
    "df.dropna(subset=['type','vintage'], inplace=True)"
   ]
  },
  {
   "cell_type": "code",
   "execution_count": 10,
   "id": "bb1ff34d",
   "metadata": {},
   "outputs": [
    {
     "data": {
      "text/plain": [
       "winery           0\n",
       "wine             0\n",
       "vintage          0\n",
       "rating           0\n",
       "num_reviews      0\n",
       "country          0\n",
       "region           0\n",
       "price            0\n",
       "type             0\n",
       "body           163\n",
       "acidity        163\n",
       "dtype: int64"
      ]
     },
     "execution_count": 10,
     "metadata": {},
     "output_type": "execute_result"
    }
   ],
   "source": [
    "#confirming 'type' and 'vintage' columns have been dropped\n",
    "df.isnull().sum()"
   ]
  },
  {
   "cell_type": "code",
   "execution_count": 11,
   "id": "76c5f550",
   "metadata": {},
   "outputs": [],
   "source": [
    "#Correcting object type after dropping duplicates\n",
    "df['vintage'] = df['vintage'].astype(int)"
   ]
  },
  {
   "cell_type": "code",
   "execution_count": 12,
   "id": "27deaf1d",
   "metadata": {},
   "outputs": [
    {
     "name": "stdout",
     "output_type": "stream",
     "text": [
      "<class 'pandas.core.frame.DataFrame'>\n",
      "Int64Index: 1877 entries, 0 to 6100\n",
      "Data columns (total 11 columns):\n",
      " #   Column       Non-Null Count  Dtype  \n",
      "---  ------       --------------  -----  \n",
      " 0   winery       1877 non-null   object \n",
      " 1   wine         1877 non-null   object \n",
      " 2   vintage      1877 non-null   int64  \n",
      " 3   rating       1877 non-null   float64\n",
      " 4   num_reviews  1877 non-null   int64  \n",
      " 5   country      1877 non-null   object \n",
      " 6   region       1877 non-null   object \n",
      " 7   price        1877 non-null   float64\n",
      " 8   type         1877 non-null   object \n",
      " 9   body         1714 non-null   float64\n",
      " 10  acidity      1714 non-null   float64\n",
      "dtypes: float64(4), int64(2), object(5)\n",
      "memory usage: 176.0+ KB\n"
     ]
    }
   ],
   "source": [
    "df.info()"
   ]
  },
  {
   "cell_type": "code",
   "execution_count": 14,
   "id": "f02c17bd",
   "metadata": {},
   "outputs": [
    {
     "data": {
      "text/html": [
       "<div>\n",
       "<style scoped>\n",
       "    .dataframe tbody tr th:only-of-type {\n",
       "        vertical-align: middle;\n",
       "    }\n",
       "\n",
       "    .dataframe tbody tr th {\n",
       "        vertical-align: top;\n",
       "    }\n",
       "\n",
       "    .dataframe thead th {\n",
       "        text-align: right;\n",
       "    }\n",
       "</style>\n",
       "<table border=\"1\" class=\"dataframe\">\n",
       "  <thead>\n",
       "    <tr style=\"text-align: right;\">\n",
       "      <th></th>\n",
       "      <th>vintage</th>\n",
       "      <th>rating</th>\n",
       "      <th>num_reviews</th>\n",
       "      <th>price</th>\n",
       "      <th>body</th>\n",
       "      <th>acidity</th>\n",
       "    </tr>\n",
       "  </thead>\n",
       "  <tbody>\n",
       "    <tr>\n",
       "      <th>count</th>\n",
       "      <td>1877.000000</td>\n",
       "      <td>1877.000000</td>\n",
       "      <td>1877.000000</td>\n",
       "      <td>1877.000000</td>\n",
       "      <td>1714.000000</td>\n",
       "      <td>1714.000000</td>\n",
       "    </tr>\n",
       "    <tr>\n",
       "      <th>mean</th>\n",
       "      <td>2010.869473</td>\n",
       "      <td>4.404688</td>\n",
       "      <td>579.998934</td>\n",
       "      <td>142.612586</td>\n",
       "      <td>4.263127</td>\n",
       "      <td>2.928238</td>\n",
       "    </tr>\n",
       "    <tr>\n",
       "      <th>std</th>\n",
       "      <td>11.300344</td>\n",
       "      <td>0.148552</td>\n",
       "      <td>1181.990378</td>\n",
       "      <td>282.560181</td>\n",
       "      <td>0.660949</td>\n",
       "      <td>0.313328</td>\n",
       "    </tr>\n",
       "    <tr>\n",
       "      <th>min</th>\n",
       "      <td>1910.000000</td>\n",
       "      <td>4.200000</td>\n",
       "      <td>25.000000</td>\n",
       "      <td>6.260000</td>\n",
       "      <td>2.000000</td>\n",
       "      <td>1.000000</td>\n",
       "    </tr>\n",
       "    <tr>\n",
       "      <th>25%</th>\n",
       "      <td>2010.000000</td>\n",
       "      <td>4.300000</td>\n",
       "      <td>60.000000</td>\n",
       "      <td>32.550000</td>\n",
       "      <td>4.000000</td>\n",
       "      <td>3.000000</td>\n",
       "    </tr>\n",
       "    <tr>\n",
       "      <th>50%</th>\n",
       "      <td>2015.000000</td>\n",
       "      <td>4.400000</td>\n",
       "      <td>151.000000</td>\n",
       "      <td>55.140000</td>\n",
       "      <td>4.000000</td>\n",
       "      <td>3.000000</td>\n",
       "    </tr>\n",
       "    <tr>\n",
       "      <th>75%</th>\n",
       "      <td>2017.000000</td>\n",
       "      <td>4.500000</td>\n",
       "      <td>513.000000</td>\n",
       "      <td>117.300000</td>\n",
       "      <td>5.000000</td>\n",
       "      <td>3.000000</td>\n",
       "    </tr>\n",
       "    <tr>\n",
       "      <th>max</th>\n",
       "      <td>2021.000000</td>\n",
       "      <td>4.900000</td>\n",
       "      <td>16505.000000</td>\n",
       "      <td>3119.080000</td>\n",
       "      <td>5.000000</td>\n",
       "      <td>3.000000</td>\n",
       "    </tr>\n",
       "  </tbody>\n",
       "</table>\n",
       "</div>"
      ],
      "text/plain": [
       "           vintage       rating   num_reviews        price         body  \\\n",
       "count  1877.000000  1877.000000   1877.000000  1877.000000  1714.000000   \n",
       "mean   2010.869473     4.404688    579.998934   142.612586     4.263127   \n",
       "std      11.300344     0.148552   1181.990378   282.560181     0.660949   \n",
       "min    1910.000000     4.200000     25.000000     6.260000     2.000000   \n",
       "25%    2010.000000     4.300000     60.000000    32.550000     4.000000   \n",
       "50%    2015.000000     4.400000    151.000000    55.140000     4.000000   \n",
       "75%    2017.000000     4.500000    513.000000   117.300000     5.000000   \n",
       "max    2021.000000     4.900000  16505.000000  3119.080000     5.000000   \n",
       "\n",
       "           acidity  \n",
       "count  1714.000000  \n",
       "mean      2.928238  \n",
       "std       0.313328  \n",
       "min       1.000000  \n",
       "25%       3.000000  \n",
       "50%       3.000000  \n",
       "75%       3.000000  \n",
       "max       3.000000  "
      ]
     },
     "execution_count": 14,
     "metadata": {},
     "output_type": "execute_result"
    }
   ],
   "source": [
    "df.describe()"
   ]
  },
  {
   "cell_type": "code",
   "execution_count": 15,
   "id": "cff022f9",
   "metadata": {},
   "outputs": [],
   "source": [
    "#copy for machine learning\n",
    "df_ml = df.copy()"
   ]
  },
  {
   "cell_type": "markdown",
   "id": "caa10a12",
   "metadata": {},
   "source": [
    "Imputing mean for viz. Using this method because it makes more sense to fill it with an average to not skew the current data."
   ]
  },
  {
   "cell_type": "code",
   "execution_count": 16,
   "id": "065408da",
   "metadata": {},
   "outputs": [],
   "source": [
    "#imputing\n",
    "df['body'] = df['body'].fillna(round(df['body'].mean()))\n",
    "df['acidity'] = df['acidity'].fillna(round(df['acidity'].mean()))"
   ]
  },
  {
   "cell_type": "code",
   "execution_count": 17,
   "id": "1bc68fe4",
   "metadata": {},
   "outputs": [
    {
     "data": {
      "text/plain": [
       "winery         0\n",
       "wine           0\n",
       "vintage        0\n",
       "rating         0\n",
       "num_reviews    0\n",
       "country        0\n",
       "region         0\n",
       "price          0\n",
       "type           0\n",
       "body           0\n",
       "acidity        0\n",
       "dtype: int64"
      ]
     },
     "execution_count": 17,
     "metadata": {},
     "output_type": "execute_result"
    }
   ],
   "source": [
    "df.isnull().sum()"
   ]
  },
  {
   "cell_type": "markdown",
   "id": "e27a45ec",
   "metadata": {},
   "source": [
    "## Exploratory Data Viz\n",
    "Univariate visuals for the target and all features"
   ]
  },
  {
   "cell_type": "code",
   "execution_count": 18,
   "id": "9587608e",
   "metadata": {},
   "outputs": [
    {
     "name": "stdout",
     "output_type": "stream",
     "text": [
      "winery          410\n",
      "wine            706\n",
      "vintage          70\n",
      "rating            8\n",
      "num_reviews     793\n",
      "country           1\n",
      "region           65\n",
      "price          1210\n",
      "type             21\n",
      "body              4\n",
      "acidity           3\n",
      "dtype: int64\n"
     ]
    }
   ],
   "source": [
    "#Total unique counts of each column\n",
    "print(df.apply(lambda col: col.nunique()))"
   ]
  },
  {
   "cell_type": "code",
   "execution_count": 19,
   "id": "b1dacb7d",
   "metadata": {},
   "outputs": [
    {
     "data": {
      "image/png": "[encoded data removed]",
      "text/plain": [
       "<Figure size 640x480 with 1 Axes>"
      ]
     },
     "metadata": {},
     "output_type": "display_data"
    }
   ],
   "source": [
    "#Visualizing the top 10 Wineries\n",
    "plt.figure(figsize=(8, 6), dpi=80)\n",
    "c=['darkmagenta', 'purple', 'darkviolet', 'darkorchid', 'mediumorchid','mediumpurple', 'orchid', 'violet', 'plum', 'thistle']\n",
    "df.winery.value_counts().sort_values(ascending=False).head(10).plot(kind='pie', \n",
    "                                                                    autopct='%1.1f%%', \n",
    "                                                                    colors=c,\n",
    "                                                                    fontsize=12)\n",
    "plt.ylabel('')\n",
    "plt.title('Top Ten Wineries of 410', fontsize=14)\n",
    "plt.show()"
   ]
  },
  {
   "cell_type": "code",
   "execution_count": 20,
   "id": "dcfd3d5d",
   "metadata": {},
   "outputs": [
    {
     "data": {
      "image/png": "[encoded data removed]",
      "text/plain": [
       "<Figure size 576x432 with 1 Axes>"
      ]
     },
     "metadata": {
      "needs_background": "light"
     },
     "output_type": "display_data"
    }
   ],
   "source": [
    "#top ten wines viz\n",
    "plt.figure(figsize=(8, 6))\n",
    "df.wine.value_counts(ascending=False).head(10).plot(kind='barh', width=.8, color=c)\n",
    "plt.ylabel('')\n",
    "plt.title('Top Ten Wines of 706', fontsize=14)\n",
    "plt.show()"
   ]
  },
  {
   "cell_type": "code",
   "execution_count": 21,
   "id": "2555250a",
   "metadata": {},
   "outputs": [
    {
     "data": {
      "image/png": "[encoded data removed]",
      "text/plain": [
       "<Figure size 864x432 with 1 Axes>"
      ]
     },
     "metadata": {
      "needs_background": "light"
     },
     "output_type": "display_data"
    }
   ],
   "source": [
    "#Wine vintages outliers boxenplot\n",
    "plt.figure(figsize=(12,6))\n",
    "sns.set_style('whitegrid')\n",
    "sns.boxenplot(data=df, x='vintage', color='purple')\n",
    "plt.title(\"Wine Vintage's\", fontsize=14)\n",
    "plt.show()"
   ]
  },
  {
   "cell_type": "code",
   "execution_count": 22,
   "id": "cff043cb",
   "metadata": {},
   "outputs": [
    {
     "data": {
      "image/png": "[encoded data removed]",
      "text/plain": [
       "<Figure size 576x432 with 1 Axes>"
      ]
     },
     "metadata": {},
     "output_type": "display_data"
    }
   ],
   "source": [
    "#lol, I'll be deleting this row. This was for my own amusement. \n",
    "#HOWEVER, 100% of the wines come from Spain. \n",
    "plt.figure(figsize=(8, 6))\n",
    "df.country.value_counts().plot(kind='pie', autopct='%1.1f%%', fontsize=14, colors='m')\n",
    "plt.ylabel(' ')\n",
    "plt.title('Country of Origin', fontsize=15)\n",
    "plt.show()"
   ]
  },
  {
   "cell_type": "markdown",
   "id": "5ac88ce6",
   "metadata": {},
   "source": [
    "Interesting, turns out that the top regions for wine are taken up by 3 areas. "
   ]
  },
  {
   "cell_type": "code",
   "execution_count": 23,
   "id": "b1d56803",
   "metadata": {},
   "outputs": [
    {
     "data": {
      "image/png": "[encoded data removed]",
      "text/plain": [
       "<Figure size 576x432 with 1 Axes>"
      ]
     },
     "metadata": {},
     "output_type": "display_data"
    }
   ],
   "source": [
    "#Reigions bar plot\n",
    "plt.figure(figsize=(8, 6))\n",
    "df.region.value_counts().head(15).plot(kind='bar', color=c)\n",
    "plt.title('Top 15 Regions of 65', fontsize=14)\n",
    "plt.show()"
   ]
  },
  {
   "cell_type": "markdown",
   "id": "ec7ef6a6",
   "metadata": {},
   "source": [
    "A deeper dive shows us that the lower 50% has less that 5 wines per reigon. Which means the top 3 are majority outliers. Curious as to how many unique wineries are in these locations and how many of them are mass produced."
   ]
  },
  {
   "cell_type": "code",
   "execution_count": 24,
   "id": "ae1d0672",
   "metadata": {},
   "outputs": [
    {
     "data": {
      "image/png": "[encoded data removed]",
      "text/plain": [
       "<Figure size 576x432 with 1 Axes>"
      ]
     },
     "metadata": {},
     "output_type": "display_data"
    }
   ],
   "source": [
    "#bottom 50% bar plot\n",
    "plt.figure(figsize=(8, 6))\n",
    "df.region.value_counts().tail(33).plot(kind='bar', color=c)\n",
    "plt.title('Bottom 50% of Region', fontsize=14)\n",
    "plt.show()"
   ]
  },
  {
   "cell_type": "code",
   "execution_count": 25,
   "id": "93d8989e",
   "metadata": {},
   "outputs": [
    {
     "data": {
      "image/png": "[encoded data removed]",
      "text/plain": [
       "<Figure size 576x432 with 1 Axes>"
      ]
     },
     "metadata": {},
     "output_type": "display_data"
    }
   ],
   "source": [
    "#Wine price distribution\n",
    "fig, ax = plt.subplots(figsize=(8, 6))\n",
    "n_bins = 33\n",
    "ax.hist(df['price'], \n",
    "        n_bins, \n",
    "        color='purple',\n",
    "        histtype ='bar')\n",
    "plt.title('Distribution of Wine Price', fontsize=14)\n",
    "ax.xaxis.set_major_formatter('${x:1.0f}')\n",
    "plt.show()"
   ]
  },
  {
   "cell_type": "code",
   "execution_count": 26,
   "id": "81145a41",
   "metadata": {},
   "outputs": [
    {
     "data": {
      "image/png": "[encoded data removed]",
      "text/plain": [
       "<Figure size 576x432 with 1 Axes>"
      ]
     },
     "metadata": {},
     "output_type": "display_data"
    }
   ],
   "source": [
    "plt.figure(figsize=(8, 6))\n",
    "df.type.value_counts().sort_values(ascending=True).plot(kind='barh', width=.8, color=c)\n",
    "plt.title('Types of Wine by Count')\n",
    "plt.show()"
   ]
  },
  {
   "cell_type": "code",
   "execution_count": 27,
   "id": "ecd3c2e0",
   "metadata": {},
   "outputs": [
    {
     "data": {
      "image/png": "[encoded data removed]",
      "text/plain": [
       "<Figure size 1080x432 with 2 Axes>"
      ]
     },
     "metadata": {},
     "output_type": "display_data"
    }
   ],
   "source": [
    "large = 14\n",
    "plt.rc('axes', labelsize=large)\n",
    "f, axes = plt.subplots(1,2, figsize=(15,6))\n",
    "\n",
    "ax1=sns.countplot(data=df, x=\"acidity\", ax=axes[0],  palette='flare', alpha=.9)\n",
    "axes[0].set_title('Acidity Rating Count', fontsize=14)\n",
    "axes[0].set_xlabel('Acidity Level', fontsize=13)\n",
    "axes[0].set_ylabel('Total Count', fontsize=13)\n",
    "\n",
    "sns.countplot(data=df, x=\"body\", ax=axes[1], palette='rocket_r', alpha=.9)\n",
    "axes[1].set_title('Body Rating Count', fontsize=14)\n",
    "axes[1].set_xlabel('Rating', fontsize=13)\n",
    "axes[1].set_ylabel('Total Count', fontsize=13)\n",
    "\n",
    "plt.show()"
   ]
  },
  {
   "cell_type": "code",
   "execution_count": 28,
   "id": "78bdb9f8",
   "metadata": {},
   "outputs": [
    {
     "data": {
      "image/png": "[encoded data removed]",
      "text/plain": [
       "<Figure size 1080x720 with 5 Axes>"
      ]
     },
     "metadata": {},
     "output_type": "display_data"
    }
   ],
   "source": [
    "large = 14\n",
    "plt.rc('axes', labelsize=large)\n",
    "f, axes = plt.subplots(1,5, figsize=(15,10))\n",
    "\n",
    "ax1=sns.boxplot(y='rating', data=df, ax=axes[0], color='mediumpurple', width=.6)\n",
    "axes[0].set_title('Wine Rating', fontsize=large)\n",
    "plt.ylabel('')\n",
    "sns.boxplot(y='price', data=df, ax=axes[1], color='darkorchid', width=.6)\n",
    "axes[1].set_title('Wine Price', fontsize=large)\n",
    "\n",
    "sns.boxplot(y='body', data=df, ax=axes[2], color='orchid', width=.6)\n",
    "axes[2].set_title('Body Rating', fontsize=large)\n",
    "\n",
    "sns.boxplot(y='acidity', data=df, ax=axes[3], color='mediumorchid', width=.6)\n",
    "axes[3].set_title('Acidity Level', fontsize=large)\n",
    "\n",
    "sns.boxplot(y='num_reviews', data=df, ax=axes[4], color='purple', width=.6)\n",
    "axes[4].set_title('Number of Reviews', fontsize=large)\n",
    "\n",
    "plt.suptitle('Identifying Outliers', fontsize=16)\n",
    "\n",
    "#hide y axis label\n",
    "for ax in axes.flat:\n",
    "    ax.set(xlabel='', ylabel='')\n",
    "plt.tight_layout()\n",
    "plt.show()"
   ]
  },
  {
   "cell_type": "markdown",
   "id": "53677e78",
   "metadata": {},
   "source": [
    "## The Target (Univariate and Multivariate)"
   ]
  },
  {
   "cell_type": "code",
   "execution_count": 29,
   "id": "829c9b7e",
   "metadata": {},
   "outputs": [
    {
     "data": {
      "image/png": "[encoded data removed]",
      "text/plain": [
       "<Figure size 1152x504 with 2 Axes>"
      ]
     },
     "metadata": {},
     "output_type": "display_data"
    }
   ],
   "source": [
    "#Distribution of wine rating. \n",
    "color = ['darkmagenta', 'purple', 'darkviolet', 'darkorchid', 'mediumorchid','mediumpurple', 'orchid', 'violet', 'plum', 'thistle']\n",
    "plt.rc('axes')\n",
    "f, axes = plt.subplots(1,2, figsize=(16,7))\n",
    "\n",
    "#Left Plot\n",
    "ax1=sns.countplot(data=df, x=\"rating\", ax=axes[0],  \n",
    "                  palette=['darkmagenta', 'purple', 'darkviolet', 'darkorchid', 'mediumorchid','mediumpurple', 'orchid', 'violet', 'plum', 'thistle'], \n",
    "                  alpha=.8)\n",
    "#title\n",
    "ax1.set_title('Total Wines Rated', fontsize=15)\n",
    "#x,y labels/formats\n",
    "ax1.bar_label(ax1.containers[0]) #bar labels\n",
    "ax1.set_xlabel('Wine Rating', fontsize=13)\n",
    "ax1.set_ylabel('Number of Wines', fontsize=13)\n",
    "\n",
    "\n",
    "#Right Plot\n",
    "ax2=df.groupby('rating')['num_reviews'].sum().plot(kind='bar', \n",
    "                                                   color=color, width=.8, alpha=.8)\n",
    "ax2.grid(axis='x')\n",
    "\n",
    "#title\n",
    "ax2.set_title('Number of Reviews for Each Rating', fontsize=15)\n",
    "#x,y labels/formats\n",
    "plt.xticks(rotation=0)\n",
    "ax2.bar_label(ax2.containers[0]) #bar labels\n",
    "ax2.set_xlabel('Wine Rating', fontsize=13)\n",
    "ax2.set_ylabel('Number of Reviews', fontsize=13)\n",
    "\n",
    "ax2.get_yaxis().set_major_formatter(\n",
    "matplotlib.ticker.FuncFormatter(lambda x, p: format(int(x), ',')))\n",
    "plt.ylim([0,325000])\n",
    "plt.show()"
   ]
  },
  {
   "cell_type": "markdown",
   "id": "824069f9",
   "metadata": {},
   "source": [
    "I have 15+ years of hospitality experience, and was able to correlate what I already knew about Spanish wines to these visuals. It was not surprising to find out that majority of Spanish wines have higher acidity levels(great for cutting through fatty foods), medium-full body (will hold up against food) and natrually very good mean rating between 4.3 - 4.7. \n",
    "\n",
    "Most wines are enjoyed with food. Since Spanish wines have characteristics that allow them to stand up to food and not be washed out, it's understandable why the majority of these ratings are as high as they are. I always knew, Spanish wines were great with food, I never realized that the majority of them had similar characteristics regardless of types or reigons. Situations like this is where my domain expertise will shine.\n",
    "\n",
    "Based on my background and visualizations, there are a couple different ways we could approach wine ratings. Since there are so many wine types, regions, on top of dropped rows that had missing wine types, there is always room for us to go back and create a more specific ML learning model. One that could be more focused on the regions of Spain or the types of wines. But for now, we will work on a ML model for the wines as a whole"
   ]
  },
  {
   "cell_type": "markdown",
   "id": "82393154",
   "metadata": {},
   "source": [
    "## Multivariate EDA "
   ]
  },
  {
   "cell_type": "markdown",
   "id": "ebdfe16a",
   "metadata": {},
   "source": [
    "#### Identifying moderate or strong correlations"
   ]
  },
  {
   "cell_type": "code",
   "execution_count": 30,
   "id": "517ce311",
   "metadata": {},
   "outputs": [
    {
     "data": {
      "image/png": "[encoded data removed]",
      "text/plain": [
       "<Figure size 720x864 with 2 Axes>"
      ]
     },
     "metadata": {},
     "output_type": "display_data"
    },
    {
     "name": "stdout",
     "output_type": "stream",
     "text": [
      "Larger positive correlation between rating/price and vintage/acidity\n",
      "\n"
     ]
    }
   ],
   "source": [
    "#Correlation Plot\n",
    "plt.figure(figsize=(10,12))\n",
    "corr = df.corr()\n",
    "matrix = np.triu(corr)\n",
    "sns.heatmap(corr, annot=True, cmap='Purples', mask=matrix, linecolor='white', linewidths=2, cbar_kws={\"orientation\": \"horizontal\"})\n",
    "plt.title('Correlation Heatmap', fontsize=15)\n",
    "plt.show()\n",
    "print('Larger positive correlation between rating/price and vintage/acidity\\n')"
   ]
  },
  {
   "cell_type": "code",
   "execution_count": 31,
   "id": "81c8afe2",
   "metadata": {},
   "outputs": [
    {
     "data": {
      "image/png": "[encoded data removed]",
      "text/plain": [
       "<Figure size 864x576 with 1 Axes>"
      ]
     },
     "metadata": {},
     "output_type": "display_data"
    },
    {
     "name": "stdout",
     "output_type": "stream",
     "text": [
      "Older vintages have no effect on price\n",
      "\n"
     ]
    }
   ],
   "source": [
    "#scatterplot\n",
    "fig, ax = plt.subplots(figsize=(12,8))\n",
    "#plot\n",
    "ax = sns.scatterplot(data=df, y='price', x='vintage', color='mediumorchid')\n",
    "plt.title('Wines by Price and Vintage', fontsize=15)\n",
    "#x,y formats/labels\n",
    "ax.yaxis.set_major_formatter('${x:1,.0f}')\n",
    "plt.ylabel('Price')\n",
    "plt.xlabel('Vintage')\n",
    "\n",
    "plt.show()\n",
    "print('Older vintages have no effect on price\\n')"
   ]
  },
  {
   "cell_type": "code",
   "execution_count": 32,
   "id": "c64fdee4",
   "metadata": {},
   "outputs": [
    {
     "data": {
      "image/png": "[encoded data removed]",
      "text/plain": [
       "<Figure size 864x576 with 1 Axes>"
      ]
     },
     "metadata": {},
     "output_type": "display_data"
    },
    {
     "name": "stdout",
     "output_type": "stream",
     "text": [
      "Higher rating wines have a larger distribution in pricing when above 4.5. However, dips at 4.8 rating.\n",
      "\n"
     ]
    }
   ],
   "source": [
    "#scatterplot\n",
    "fig, ax = plt.subplots(figsize=(12,8))\n",
    "#plot\n",
    "ax = sns.scatterplot(data=df, y='price', x='rating', color='mediumpurple')\n",
    "plt.title('Wines by Rating and Price', fontsize=15)\n",
    "\n",
    "#x,y formats/labels\n",
    "ax.yaxis.set_major_formatter('${x:1,.0f}')\n",
    "plt.ylabel('Price')\n",
    "plt.xlabel('Wine Ratings')\n",
    "\n",
    "plt.show()\n",
    "print('Higher rating wines have a larger distribution in pricing when above 4.5. However, dips at 4.8 rating.\\n')"
   ]
  },
  {
   "cell_type": "markdown",
   "id": "265c760c",
   "metadata": {},
   "source": [
    "# Part 4"
   ]
  },
  {
   "cell_type": "code",
   "execution_count": 35,
   "id": "9f2852b8",
   "metadata": {},
   "outputs": [],
   "source": [
    "#imports\n",
    "from sklearn.model_selection import train_test_split\n",
    "from sklearn.preprocessing import StandardScaler, OneHotEncoder\n",
    "from sklearn.compose import make_column_selector, make_column_transformer\n",
    "from sklearn.pipeline import make_pipeline\n",
    "from sklearn.decomposition import PCA\n",
    "\n",
    "from sklearn.tree import DecisionTreeRegressor\n",
    "from sklearn.linear_model import LinearRegression\n",
    "from sklearn.linear_model import Ridge\n",
    "from sklearn.model_selection import GridSearchCV\n",
    "\n",
    "from sklearn.metrics import mean_absolute_error, mean_squared_error, r2_score\n",
    "from sklearn import set_config\n",
    "set_config(display='diagram')"
   ]
  },
  {
   "cell_type": "markdown",
   "id": "4b04113c",
   "metadata": {},
   "source": [
    "### Data cleaning"
   ]
  },
  {
   "cell_type": "code",
   "execution_count": 36,
   "id": "4b880f78",
   "metadata": {},
   "outputs": [
    {
     "data": {
      "text/html": [
       "<div>\n",
       "<style scoped>\n",
       "    .dataframe tbody tr th:only-of-type {\n",
       "        vertical-align: middle;\n",
       "    }\n",
       "\n",
       "    .dataframe tbody tr th {\n",
       "        vertical-align: top;\n",
       "    }\n",
       "\n",
       "    .dataframe thead th {\n",
       "        text-align: right;\n",
       "    }\n",
       "</style>\n",
       "<table border=\"1\" class=\"dataframe\">\n",
       "  <thead>\n",
       "    <tr style=\"text-align: right;\">\n",
       "      <th></th>\n",
       "      <th>winery</th>\n",
       "      <th>wine</th>\n",
       "      <th>vintage</th>\n",
       "      <th>rating</th>\n",
       "      <th>num_reviews</th>\n",
       "      <th>region</th>\n",
       "      <th>price</th>\n",
       "      <th>type</th>\n",
       "      <th>body</th>\n",
       "      <th>acidity</th>\n",
       "    </tr>\n",
       "  </thead>\n",
       "  <tbody>\n",
       "    <tr>\n",
       "      <th>0</th>\n",
       "      <td>Teso La Monja</td>\n",
       "      <td>Tinto</td>\n",
       "      <td>2013</td>\n",
       "      <td>4.9</td>\n",
       "      <td>58</td>\n",
       "      <td>Toro</td>\n",
       "      <td>995.00</td>\n",
       "      <td>Toro Red</td>\n",
       "      <td>5.0</td>\n",
       "      <td>3.0</td>\n",
       "    </tr>\n",
       "    <tr>\n",
       "      <th>1</th>\n",
       "      <td>Artadi</td>\n",
       "      <td>Vina El Pison</td>\n",
       "      <td>2018</td>\n",
       "      <td>4.9</td>\n",
       "      <td>31</td>\n",
       "      <td>Vino de Espana</td>\n",
       "      <td>313.50</td>\n",
       "      <td>Tempranillo</td>\n",
       "      <td>4.0</td>\n",
       "      <td>2.0</td>\n",
       "    </tr>\n",
       "    <tr>\n",
       "      <th>2</th>\n",
       "      <td>Vega Sicilia</td>\n",
       "      <td>Unico</td>\n",
       "      <td>2009</td>\n",
       "      <td>4.8</td>\n",
       "      <td>1793</td>\n",
       "      <td>Ribera del Duero</td>\n",
       "      <td>324.95</td>\n",
       "      <td>Ribera Del Duero Red</td>\n",
       "      <td>5.0</td>\n",
       "      <td>3.0</td>\n",
       "    </tr>\n",
       "    <tr>\n",
       "      <th>3</th>\n",
       "      <td>Vega Sicilia</td>\n",
       "      <td>Unico</td>\n",
       "      <td>1999</td>\n",
       "      <td>4.8</td>\n",
       "      <td>1705</td>\n",
       "      <td>Ribera del Duero</td>\n",
       "      <td>692.96</td>\n",
       "      <td>Ribera Del Duero Red</td>\n",
       "      <td>5.0</td>\n",
       "      <td>3.0</td>\n",
       "    </tr>\n",
       "    <tr>\n",
       "      <th>4</th>\n",
       "      <td>Vega Sicilia</td>\n",
       "      <td>Unico</td>\n",
       "      <td>1996</td>\n",
       "      <td>4.8</td>\n",
       "      <td>1309</td>\n",
       "      <td>Ribera del Duero</td>\n",
       "      <td>778.06</td>\n",
       "      <td>Ribera Del Duero Red</td>\n",
       "      <td>5.0</td>\n",
       "      <td>3.0</td>\n",
       "    </tr>\n",
       "  </tbody>\n",
       "</table>\n",
       "</div>"
      ],
      "text/plain": [
       "          winery           wine  vintage  rating  num_reviews  \\\n",
       "0  Teso La Monja          Tinto     2013     4.9           58   \n",
       "1         Artadi  Vina El Pison     2018     4.9           31   \n",
       "2   Vega Sicilia          Unico     2009     4.8         1793   \n",
       "3   Vega Sicilia          Unico     1999     4.8         1705   \n",
       "4   Vega Sicilia          Unico     1996     4.8         1309   \n",
       "\n",
       "             region   price                  type  body  acidity  \n",
       "0              Toro  995.00              Toro Red   5.0      3.0  \n",
       "1    Vino de Espana  313.50           Tempranillo   4.0      2.0  \n",
       "2  Ribera del Duero  324.95  Ribera Del Duero Red   5.0      3.0  \n",
       "3  Ribera del Duero  692.96  Ribera Del Duero Red   5.0      3.0  \n",
       "4  Ribera del Duero  778.06  Ribera Del Duero Red   5.0      3.0  "
      ]
     },
     "execution_count": 36,
     "metadata": {},
     "output_type": "execute_result"
    }
   ],
   "source": [
    "#drop country \n",
    "df_ml.drop(columns='country', inplace=True)\n",
    "df_ml.head()"
   ]
  },
  {
   "cell_type": "code",
   "execution_count": 37,
   "id": "05c556fa",
   "metadata": {},
   "outputs": [
    {
     "data": {
      "text/plain": [
       "winery           0\n",
       "wine             0\n",
       "vintage          0\n",
       "rating           0\n",
       "num_reviews      0\n",
       "region           0\n",
       "price            0\n",
       "type             0\n",
       "body           163\n",
       "acidity        163\n",
       "dtype: int64"
      ]
     },
     "execution_count": 37,
     "metadata": {},
     "output_type": "execute_result"
    }
   ],
   "source": [
    "#checking missing values\n",
    "df_ml.isnull().sum()"
   ]
  },
  {
   "cell_type": "code",
   "execution_count": 38,
   "id": "e9826b58",
   "metadata": {},
   "outputs": [],
   "source": [
    "#drop missing values\n",
    "df_ml.dropna(subset=['body', 'acidity'], inplace=True)"
   ]
  },
  {
   "cell_type": "markdown",
   "id": "80adc471",
   "metadata": {},
   "source": [
    "### Eval Metrics Function"
   ]
  },
  {
   "cell_type": "code",
   "execution_count": 39,
   "id": "7b4b78b1",
   "metadata": {},
   "outputs": [],
   "source": [
    "def eval_regression(true, pred):\n",
    "    mse = mean_squared_error(true, pred)\n",
    "    rmse = np.sqrt(mse)\n",
    "    r2 = r2_score(true, pred)\n",
    "    return [rmse, r2]"
   ]
  },
  {
   "cell_type": "markdown",
   "id": "4f6ee0db",
   "metadata": {},
   "source": [
    "## Preprocessing"
   ]
  },
  {
   "cell_type": "code",
   "execution_count": 40,
   "id": "59d43a1b",
   "metadata": {},
   "outputs": [],
   "source": [
    "#DF copy\n",
    "df1 = df_ml.copy()"
   ]
  },
  {
   "cell_type": "code",
   "execution_count": 41,
   "id": "d99ab1df",
   "metadata": {},
   "outputs": [
    {
     "data": {
      "text/html": [
       "<div>\n",
       "<style scoped>\n",
       "    .dataframe tbody tr th:only-of-type {\n",
       "        vertical-align: middle;\n",
       "    }\n",
       "\n",
       "    .dataframe tbody tr th {\n",
       "        vertical-align: top;\n",
       "    }\n",
       "\n",
       "    .dataframe thead th {\n",
       "        text-align: right;\n",
       "    }\n",
       "</style>\n",
       "<table border=\"1\" class=\"dataframe\">\n",
       "  <thead>\n",
       "    <tr style=\"text-align: right;\">\n",
       "      <th></th>\n",
       "      <th>winery</th>\n",
       "      <th>wine</th>\n",
       "      <th>vintage</th>\n",
       "      <th>rating</th>\n",
       "      <th>num_reviews</th>\n",
       "      <th>region</th>\n",
       "      <th>price</th>\n",
       "      <th>type</th>\n",
       "      <th>body</th>\n",
       "      <th>acidity</th>\n",
       "    </tr>\n",
       "  </thead>\n",
       "  <tbody>\n",
       "    <tr>\n",
       "      <th>0</th>\n",
       "      <td>Teso La Monja</td>\n",
       "      <td>Tinto</td>\n",
       "      <td>2013</td>\n",
       "      <td>4.9</td>\n",
       "      <td>58</td>\n",
       "      <td>Toro</td>\n",
       "      <td>995.00</td>\n",
       "      <td>Toro Red</td>\n",
       "      <td>5.0</td>\n",
       "      <td>3.0</td>\n",
       "    </tr>\n",
       "    <tr>\n",
       "      <th>1</th>\n",
       "      <td>Artadi</td>\n",
       "      <td>Vina El Pison</td>\n",
       "      <td>2018</td>\n",
       "      <td>4.9</td>\n",
       "      <td>31</td>\n",
       "      <td>Vino de Espana</td>\n",
       "      <td>313.50</td>\n",
       "      <td>Tempranillo</td>\n",
       "      <td>4.0</td>\n",
       "      <td>2.0</td>\n",
       "    </tr>\n",
       "    <tr>\n",
       "      <th>2</th>\n",
       "      <td>Vega Sicilia</td>\n",
       "      <td>Unico</td>\n",
       "      <td>2009</td>\n",
       "      <td>4.8</td>\n",
       "      <td>1793</td>\n",
       "      <td>Ribera del Duero</td>\n",
       "      <td>324.95</td>\n",
       "      <td>Ribera Del Duero Red</td>\n",
       "      <td>5.0</td>\n",
       "      <td>3.0</td>\n",
       "    </tr>\n",
       "    <tr>\n",
       "      <th>3</th>\n",
       "      <td>Vega Sicilia</td>\n",
       "      <td>Unico</td>\n",
       "      <td>1999</td>\n",
       "      <td>4.8</td>\n",
       "      <td>1705</td>\n",
       "      <td>Ribera del Duero</td>\n",
       "      <td>692.96</td>\n",
       "      <td>Ribera Del Duero Red</td>\n",
       "      <td>5.0</td>\n",
       "      <td>3.0</td>\n",
       "    </tr>\n",
       "    <tr>\n",
       "      <th>4</th>\n",
       "      <td>Vega Sicilia</td>\n",
       "      <td>Unico</td>\n",
       "      <td>1996</td>\n",
       "      <td>4.8</td>\n",
       "      <td>1309</td>\n",
       "      <td>Ribera del Duero</td>\n",
       "      <td>778.06</td>\n",
       "      <td>Ribera Del Duero Red</td>\n",
       "      <td>5.0</td>\n",
       "      <td>3.0</td>\n",
       "    </tr>\n",
       "  </tbody>\n",
       "</table>\n",
       "</div>"
      ],
      "text/plain": [
       "          winery           wine  vintage  rating  num_reviews  \\\n",
       "0  Teso La Monja          Tinto     2013     4.9           58   \n",
       "1         Artadi  Vina El Pison     2018     4.9           31   \n",
       "2   Vega Sicilia          Unico     2009     4.8         1793   \n",
       "3   Vega Sicilia          Unico     1999     4.8         1705   \n",
       "4   Vega Sicilia          Unico     1996     4.8         1309   \n",
       "\n",
       "             region   price                  type  body  acidity  \n",
       "0              Toro  995.00              Toro Red   5.0      3.0  \n",
       "1    Vino de Espana  313.50           Tempranillo   4.0      2.0  \n",
       "2  Ribera del Duero  324.95  Ribera Del Duero Red   5.0      3.0  \n",
       "3  Ribera del Duero  692.96  Ribera Del Duero Red   5.0      3.0  \n",
       "4  Ribera del Duero  778.06  Ribera Del Duero Red   5.0      3.0  "
      ]
     },
     "execution_count": 41,
     "metadata": {},
     "output_type": "execute_result"
    }
   ],
   "source": [
    "df1.head()"
   ]
  },
  {
   "cell_type": "code",
   "execution_count": 42,
   "id": "7d4b502d",
   "metadata": {},
   "outputs": [],
   "source": [
    "#Features and Target\n",
    "X = df1.drop(columns='rating')\n",
    "y = df1['rating']\n",
    "#Train Test Split\n",
    "X_train, X_test, y_train, y_test = train_test_split(X, y, random_state=55)"
   ]
  },
  {
   "cell_type": "code",
   "execution_count": 43,
   "id": "7b874da0",
   "metadata": {},
   "outputs": [],
   "source": [
    "#Column Selector\n",
    "num_selector = make_column_selector(dtype_include='number')\n",
    "cat_selector = make_column_selector(dtype_include='object')"
   ]
  },
  {
   "cell_type": "code",
   "execution_count": 44,
   "id": "8d12316d",
   "metadata": {},
   "outputs": [],
   "source": [
    "#OHE\n",
    "ohe = OneHotEncoder(handle_unknown='ignore', sparse=False)\n",
    "#scaler\n",
    "scaler = StandardScaler()"
   ]
  },
  {
   "cell_type": "markdown",
   "id": "4830d678",
   "metadata": {},
   "source": [
    "## Method 1 - Decision Tree"
   ]
  },
  {
   "cell_type": "markdown",
   "id": "78d84bdd",
   "metadata": {},
   "source": [
    "### Decision Tree Model - Default Model"
   ]
  },
  {
   "cell_type": "code",
   "execution_count": 45,
   "id": "478ef964",
   "metadata": {},
   "outputs": [],
   "source": [
    "#Pipelines for Decision Tree\n",
    "dec_cat_pipe = make_pipeline(ohe)\n",
    "dec_num_pipe = make_pipeline(scaler)"
   ]
  },
  {
   "cell_type": "code",
   "execution_count": 46,
   "id": "ba30dcf6",
   "metadata": {},
   "outputs": [],
   "source": [
    "#Tuples\n",
    "dec_num_tuple = (dec_num_pipe, num_selector)\n",
    "dec_cat_tuple = (dec_cat_pipe, cat_selector)"
   ]
  },
  {
   "cell_type": "code",
   "execution_count": 47,
   "id": "ea1c0043",
   "metadata": {},
   "outputs": [
    {
     "data": {
      "text/html": [
       "<style>#sk-258c7367-46ba-451d-9039-c388f0459031 {color: black;background-color: white;}#sk-258c7367-46ba-451d-9039-c388f0459031 pre{padding: 0;}#sk-258c7367-46ba-451d-9039-c388f0459031 div.sk-toggleable {background-color: white;}#sk-258c7367-46ba-451d-9039-c388f0459031 label.sk-toggleable__label {cursor: pointer;display: block;width: 100%;margin-bottom: 0;padding: 0.3em;box-sizing: border-box;text-align: center;}#sk-258c7367-46ba-451d-9039-c388f0459031 label.sk-toggleable__label-arrow:before {content: \"▸\";float: left;margin-right: 0.25em;color: #696969;}#sk-258c7367-46ba-451d-9039-c388f0459031 label.sk-toggleable__label-arrow:hover:before {color: black;}#sk-258c7367-46ba-451d-9039-c388f0459031 div.sk-estimator:hover label.sk-toggleable__label-arrow:before {color: black;}#sk-258c7367-46ba-451d-9039-c388f0459031 div.sk-toggleable__content {max-height: 0;max-width: 0;overflow: hidden;text-align: left;background-color: #f0f8ff;}#sk-258c7367-46ba-451d-9039-c388f0459031 div.sk-toggleable__content pre {margin: 0.2em;color: black;border-radius: 0.25em;background-color: #f0f8ff;}#sk-258c7367-46ba-451d-9039-c388f0459031 input.sk-toggleable__control:checked~div.sk-toggleable__content {max-height: 200px;max-width: 100%;overflow: auto;}#sk-258c7367-46ba-451d-9039-c388f0459031 input.sk-toggleable__control:checked~label.sk-toggleable__label-arrow:before {content: \"▾\";}#sk-258c7367-46ba-451d-9039-c388f0459031 div.sk-estimator input.sk-toggleable__control:checked~label.sk-toggleable__label {background-color: #d4ebff;}#sk-258c7367-46ba-451d-9039-c388f0459031 div.sk-label input.sk-toggleable__control:checked~label.sk-toggleable__label {background-color: #d4ebff;}#sk-258c7367-46ba-451d-9039-c388f0459031 input.sk-hidden--visually {border: 0;clip: rect(1px 1px 1px 1px);clip: rect(1px, 1px, 1px, 1px);height: 1px;margin: -1px;overflow: hidden;padding: 0;position: absolute;width: 1px;}#sk-258c7367-46ba-451d-9039-c388f0459031 div.sk-estimator {font-family: monospace;background-color: #f0f8ff;border: 1px dotted black;border-radius: 0.25em;box-sizing: border-box;margin-bottom: 0.5em;}#sk-258c7367-46ba-451d-9039-c388f0459031 div.sk-estimator:hover {background-color: #d4ebff;}#sk-258c7367-46ba-451d-9039-c388f0459031 div.sk-parallel-item::after {content: \"\";width: 100%;border-bottom: 1px solid gray;flex-grow: 1;}#sk-258c7367-46ba-451d-9039-c388f0459031 div.sk-label:hover label.sk-toggleable__label {background-color: #d4ebff;}#sk-258c7367-46ba-451d-9039-c388f0459031 div.sk-serial::before {content: \"\";position: absolute;border-left: 1px solid gray;box-sizing: border-box;top: 2em;bottom: 0;left: 50%;}#sk-258c7367-46ba-451d-9039-c388f0459031 div.sk-serial {display: flex;flex-direction: column;align-items: center;background-color: white;padding-right: 0.2em;padding-left: 0.2em;}#sk-258c7367-46ba-451d-9039-c388f0459031 div.sk-item {z-index: 1;}#sk-258c7367-46ba-451d-9039-c388f0459031 div.sk-parallel {display: flex;align-items: stretch;justify-content: center;background-color: white;}#sk-258c7367-46ba-451d-9039-c388f0459031 div.sk-parallel::before {content: \"\";position: absolute;border-left: 1px solid gray;box-sizing: border-box;top: 2em;bottom: 0;left: 50%;}#sk-258c7367-46ba-451d-9039-c388f0459031 div.sk-parallel-item {display: flex;flex-direction: column;position: relative;background-color: white;}#sk-258c7367-46ba-451d-9039-c388f0459031 div.sk-parallel-item:first-child::after {align-self: flex-end;width: 50%;}#sk-258c7367-46ba-451d-9039-c388f0459031 div.sk-parallel-item:last-child::after {align-self: flex-start;width: 50%;}#sk-258c7367-46ba-451d-9039-c388f0459031 div.sk-parallel-item:only-child::after {width: 0;}#sk-258c7367-46ba-451d-9039-c388f0459031 div.sk-dashed-wrapped {border: 1px dashed gray;margin: 0 0.4em 0.5em 0.4em;box-sizing: border-box;padding-bottom: 0.4em;background-color: white;position: relative;}#sk-258c7367-46ba-451d-9039-c388f0459031 div.sk-label label {font-family: monospace;font-weight: bold;background-color: white;display: inline-block;line-height: 1.2em;}#sk-258c7367-46ba-451d-9039-c388f0459031 div.sk-label-container {position: relative;z-index: 2;text-align: center;}#sk-258c7367-46ba-451d-9039-c388f0459031 div.sk-container {/* jupyter's `normalize.less` sets `[hidden] { display: none; }` but bootstrap.min.css set `[hidden] { display: none !important; }` so we also need the `!important` here to be able to override the default hidden behavior on the sphinx rendered scikit-learn.org. See: https://github.com/scikit-learn/scikit-learn/issues/21755 */display: inline-block !important;position: relative;}#sk-258c7367-46ba-451d-9039-c388f0459031 div.sk-text-repr-fallback {display: none;}</style><div id=\"sk-258c7367-46ba-451d-9039-c388f0459031\" class=\"sk-top-container\"><div class=\"sk-text-repr-fallback\"><pre>ColumnTransformer(remainder=&#x27;passthrough&#x27;,\n",
       "                  transformers=[(&#x27;pipeline-1&#x27;,\n",
       "                                 Pipeline(steps=[(&#x27;standardscaler&#x27;,\n",
       "                                                  StandardScaler())]),\n",
       "                                 &lt;sklearn.compose._column_transformer.make_column_selector object at 0x7faff4c63340&gt;),\n",
       "                                (&#x27;pipeline-2&#x27;,\n",
       "                                 Pipeline(steps=[(&#x27;onehotencoder&#x27;,\n",
       "                                                  OneHotEncoder(handle_unknown=&#x27;ignore&#x27;,\n",
       "                                                                sparse=False))]),\n",
       "                                 &lt;sklearn.compose._column_transformer.make_column_selector object at 0x7faff4c63520&gt;)])</pre><b>Please rerun this cell to show the HTML repr or trust the notebook.</b></div><div class=\"sk-container\" hidden><div class=\"sk-item sk-dashed-wrapped\"><div class=\"sk-label-container\"><div class=\"sk-label sk-toggleable\"><input class=\"sk-toggleable__control sk-hidden--visually\" id=\"29af79a5-1451-4dc2-ba75-33d81f123de2\" type=\"checkbox\" ><label for=\"29af79a5-1451-4dc2-ba75-33d81f123de2\" class=\"sk-toggleable__label sk-toggleable__label-arrow\">ColumnTransformer</label><div class=\"sk-toggleable__content\"><pre>ColumnTransformer(remainder=&#x27;passthrough&#x27;,\n",
       "                  transformers=[(&#x27;pipeline-1&#x27;,\n",
       "                                 Pipeline(steps=[(&#x27;standardscaler&#x27;,\n",
       "                                                  StandardScaler())]),\n",
       "                                 &lt;sklearn.compose._column_transformer.make_column_selector object at 0x7faff4c63340&gt;),\n",
       "                                (&#x27;pipeline-2&#x27;,\n",
       "                                 Pipeline(steps=[(&#x27;onehotencoder&#x27;,\n",
       "                                                  OneHotEncoder(handle_unknown=&#x27;ignore&#x27;,\n",
       "                                                                sparse=False))]),\n",
       "                                 &lt;sklearn.compose._column_transformer.make_column_selector object at 0x7faff4c63520&gt;)])</pre></div></div></div><div class=\"sk-parallel\"><div class=\"sk-parallel-item\"><div class=\"sk-item\"><div class=\"sk-label-container\"><div class=\"sk-label sk-toggleable\"><input class=\"sk-toggleable__control sk-hidden--visually\" id=\"5b43da74-71d3-4c5b-b194-17e4fa387e9f\" type=\"checkbox\" ><label for=\"5b43da74-71d3-4c5b-b194-17e4fa387e9f\" class=\"sk-toggleable__label sk-toggleable__label-arrow\">pipeline-1</label><div class=\"sk-toggleable__content\"><pre>&lt;sklearn.compose._column_transformer.make_column_selector object at 0x7faff4c63340&gt;</pre></div></div></div><div class=\"sk-serial\"><div class=\"sk-item\"><div class=\"sk-serial\"><div class=\"sk-item\"><div class=\"sk-estimator sk-toggleable\"><input class=\"sk-toggleable__control sk-hidden--visually\" id=\"2b1f18b9-96aa-45b8-a2f8-164fe9cc7300\" type=\"checkbox\" ><label for=\"2b1f18b9-96aa-45b8-a2f8-164fe9cc7300\" class=\"sk-toggleable__label sk-toggleable__label-arrow\">StandardScaler</label><div class=\"sk-toggleable__content\"><pre>StandardScaler()</pre></div></div></div></div></div></div></div></div><div class=\"sk-parallel-item\"><div class=\"sk-item\"><div class=\"sk-label-container\"><div class=\"sk-label sk-toggleable\"><input class=\"sk-toggleable__control sk-hidden--visually\" id=\"e7c02341-130f-42f0-9502-cd9ce23455bd\" type=\"checkbox\" ><label for=\"e7c02341-130f-42f0-9502-cd9ce23455bd\" class=\"sk-toggleable__label sk-toggleable__label-arrow\">pipeline-2</label><div class=\"sk-toggleable__content\"><pre>&lt;sklearn.compose._column_transformer.make_column_selector object at 0x7faff4c63520&gt;</pre></div></div></div><div class=\"sk-serial\"><div class=\"sk-item\"><div class=\"sk-serial\"><div class=\"sk-item\"><div class=\"sk-estimator sk-toggleable\"><input class=\"sk-toggleable__control sk-hidden--visually\" id=\"c7f267b8-56ff-44f2-bec0-973cfedb0b27\" type=\"checkbox\" ><label for=\"c7f267b8-56ff-44f2-bec0-973cfedb0b27\" class=\"sk-toggleable__label sk-toggleable__label-arrow\">OneHotEncoder</label><div class=\"sk-toggleable__content\"><pre>OneHotEncoder(handle_unknown=&#x27;ignore&#x27;, sparse=False)</pre></div></div></div></div></div></div></div></div><div class=\"sk-parallel-item\"><div class=\"sk-item\"><div class=\"sk-label-container\"><div class=\"sk-label sk-toggleable\"><input class=\"sk-toggleable__control sk-hidden--visually\" id=\"ee821133-b9d7-4711-9409-b7d00f52a552\" type=\"checkbox\" ><label for=\"ee821133-b9d7-4711-9409-b7d00f52a552\" class=\"sk-toggleable__label sk-toggleable__label-arrow\">remainder</label><div class=\"sk-toggleable__content\"><pre></pre></div></div></div><div class=\"sk-serial\"><div class=\"sk-item\"><div class=\"sk-estimator sk-toggleable\"><input class=\"sk-toggleable__control sk-hidden--visually\" id=\"744dc660-2cea-448d-bd38-cfba96c4588d\" type=\"checkbox\" ><label for=\"744dc660-2cea-448d-bd38-cfba96c4588d\" class=\"sk-toggleable__label sk-toggleable__label-arrow\">passthrough</label><div class=\"sk-toggleable__content\"><pre>passthrough</pre></div></div></div></div></div></div></div></div></div></div>"
      ],
      "text/plain": [
       "ColumnTransformer(remainder='passthrough',\n",
       "                  transformers=[('pipeline-1',\n",
       "                                 Pipeline(steps=[('standardscaler',\n",
       "                                                  StandardScaler())]),\n",
       "                                 <sklearn.compose._column_transformer.make_column_selector object at 0x7faff4c63340>),\n",
       "                                ('pipeline-2',\n",
       "                                 Pipeline(steps=[('onehotencoder',\n",
       "                                                  OneHotEncoder(handle_unknown='ignore',\n",
       "                                                                sparse=False))]),\n",
       "                                 <sklearn.compose._column_transformer.make_column_selector object at 0x7faff4c63520>)])"
      ]
     },
     "execution_count": 47,
     "metadata": {},
     "output_type": "execute_result"
    }
   ],
   "source": [
    "dec_preprocessor = make_column_transformer(dec_num_tuple, dec_cat_tuple, remainder='passthrough')\n",
    "dec_preprocessor"
   ]
  },
  {
   "cell_type": "code",
   "execution_count": 48,
   "id": "6cfaf843",
   "metadata": {},
   "outputs": [],
   "source": [
    "#Instantiate Decision Tree Model\n",
    "dec_tree = DecisionTreeRegressor(random_state=42)\n",
    "\n",
    "#Dec Tree Pipe\n",
    "dec_tree_pipe = make_pipeline(dec_preprocessor, dec_tree)"
   ]
  },
  {
   "cell_type": "code",
   "execution_count": 49,
   "id": "d534d0e5",
   "metadata": {},
   "outputs": [
    {
     "data": {
      "text/html": [
       "<style>#sk-7fb18a69-ac27-43f2-9409-4f233f2f1886 {color: black;background-color: white;}#sk-7fb18a69-ac27-43f2-9409-4f233f2f1886 pre{padding: 0;}#sk-7fb18a69-ac27-43f2-9409-4f233f2f1886 div.sk-toggleable {background-color: white;}#sk-7fb18a69-ac27-43f2-9409-4f233f2f1886 label.sk-toggleable__label {cursor: pointer;display: block;width: 100%;margin-bottom: 0;padding: 0.3em;box-sizing: border-box;text-align: center;}#sk-7fb18a69-ac27-43f2-9409-4f233f2f1886 label.sk-toggleable__label-arrow:before {content: \"▸\";float: left;margin-right: 0.25em;color: #696969;}#sk-7fb18a69-ac27-43f2-9409-4f233f2f1886 label.sk-toggleable__label-arrow:hover:before {color: black;}#sk-7fb18a69-ac27-43f2-9409-4f233f2f1886 div.sk-estimator:hover label.sk-toggleable__label-arrow:before {color: black;}#sk-7fb18a69-ac27-43f2-9409-4f233f2f1886 div.sk-toggleable__content {max-height: 0;max-width: 0;overflow: hidden;text-align: left;background-color: #f0f8ff;}#sk-7fb18a69-ac27-43f2-9409-4f233f2f1886 div.sk-toggleable__content pre {margin: 0.2em;color: black;border-radius: 0.25em;background-color: #f0f8ff;}#sk-7fb18a69-ac27-43f2-9409-4f233f2f1886 input.sk-toggleable__control:checked~div.sk-toggleable__content {max-height: 200px;max-width: 100%;overflow: auto;}#sk-7fb18a69-ac27-43f2-9409-4f233f2f1886 input.sk-toggleable__control:checked~label.sk-toggleable__label-arrow:before {content: \"▾\";}#sk-7fb18a69-ac27-43f2-9409-4f233f2f1886 div.sk-estimator input.sk-toggleable__control:checked~label.sk-toggleable__label {background-color: #d4ebff;}#sk-7fb18a69-ac27-43f2-9409-4f233f2f1886 div.sk-label input.sk-toggleable__control:checked~label.sk-toggleable__label {background-color: #d4ebff;}#sk-7fb18a69-ac27-43f2-9409-4f233f2f1886 input.sk-hidden--visually {border: 0;clip: rect(1px 1px 1px 1px);clip: rect(1px, 1px, 1px, 1px);height: 1px;margin: -1px;overflow: hidden;padding: 0;position: absolute;width: 1px;}#sk-7fb18a69-ac27-43f2-9409-4f233f2f1886 div.sk-estimator {font-family: monospace;background-color: #f0f8ff;border: 1px dotted black;border-radius: 0.25em;box-sizing: border-box;margin-bottom: 0.5em;}#sk-7fb18a69-ac27-43f2-9409-4f233f2f1886 div.sk-estimator:hover {background-color: #d4ebff;}#sk-7fb18a69-ac27-43f2-9409-4f233f2f1886 div.sk-parallel-item::after {content: \"\";width: 100%;border-bottom: 1px solid gray;flex-grow: 1;}#sk-7fb18a69-ac27-43f2-9409-4f233f2f1886 div.sk-label:hover label.sk-toggleable__label {background-color: #d4ebff;}#sk-7fb18a69-ac27-43f2-9409-4f233f2f1886 div.sk-serial::before {content: \"\";position: absolute;border-left: 1px solid gray;box-sizing: border-box;top: 2em;bottom: 0;left: 50%;}#sk-7fb18a69-ac27-43f2-9409-4f233f2f1886 div.sk-serial {display: flex;flex-direction: column;align-items: center;background-color: white;padding-right: 0.2em;padding-left: 0.2em;}#sk-7fb18a69-ac27-43f2-9409-4f233f2f1886 div.sk-item {z-index: 1;}#sk-7fb18a69-ac27-43f2-9409-4f233f2f1886 div.sk-parallel {display: flex;align-items: stretch;justify-content: center;background-color: white;}#sk-7fb18a69-ac27-43f2-9409-4f233f2f1886 div.sk-parallel::before {content: \"\";position: absolute;border-left: 1px solid gray;box-sizing: border-box;top: 2em;bottom: 0;left: 50%;}#sk-7fb18a69-ac27-43f2-9409-4f233f2f1886 div.sk-parallel-item {display: flex;flex-direction: column;position: relative;background-color: white;}#sk-7fb18a69-ac27-43f2-9409-4f233f2f1886 div.sk-parallel-item:first-child::after {align-self: flex-end;width: 50%;}#sk-7fb18a69-ac27-43f2-9409-4f233f2f1886 div.sk-parallel-item:last-child::after {align-self: flex-start;width: 50%;}#sk-7fb18a69-ac27-43f2-9409-4f233f2f1886 div.sk-parallel-item:only-child::after {width: 0;}#sk-7fb18a69-ac27-43f2-9409-4f233f2f1886 div.sk-dashed-wrapped {border: 1px dashed gray;margin: 0 0.4em 0.5em 0.4em;box-sizing: border-box;padding-bottom: 0.4em;background-color: white;position: relative;}#sk-7fb18a69-ac27-43f2-9409-4f233f2f1886 div.sk-label label {font-family: monospace;font-weight: bold;background-color: white;display: inline-block;line-height: 1.2em;}#sk-7fb18a69-ac27-43f2-9409-4f233f2f1886 div.sk-label-container {position: relative;z-index: 2;text-align: center;}#sk-7fb18a69-ac27-43f2-9409-4f233f2f1886 div.sk-container {/* jupyter's `normalize.less` sets `[hidden] { display: none; }` but bootstrap.min.css set `[hidden] { display: none !important; }` so we also need the `!important` here to be able to override the default hidden behavior on the sphinx rendered scikit-learn.org. See: https://github.com/scikit-learn/scikit-learn/issues/21755 */display: inline-block !important;position: relative;}#sk-7fb18a69-ac27-43f2-9409-4f233f2f1886 div.sk-text-repr-fallback {display: none;}</style><div id=\"sk-7fb18a69-ac27-43f2-9409-4f233f2f1886\" class=\"sk-top-container\"><div class=\"sk-text-repr-fallback\"><pre>Pipeline(steps=[(&#x27;columntransformer&#x27;,\n",
       "                 ColumnTransformer(remainder=&#x27;passthrough&#x27;,\n",
       "                                   transformers=[(&#x27;pipeline-1&#x27;,\n",
       "                                                  Pipeline(steps=[(&#x27;standardscaler&#x27;,\n",
       "                                                                   StandardScaler())]),\n",
       "                                                  &lt;sklearn.compose._column_transformer.make_column_selector object at 0x7faff4c63340&gt;),\n",
       "                                                 (&#x27;pipeline-2&#x27;,\n",
       "                                                  Pipeline(steps=[(&#x27;onehotencoder&#x27;,\n",
       "                                                                   OneHotEncoder(handle_unknown=&#x27;ignore&#x27;,\n",
       "                                                                                 sparse=False))]),\n",
       "                                                  &lt;sklearn.compose._column_transformer.make_column_selector object at 0x7faff4c63520&gt;)])),\n",
       "                (&#x27;decisiontreeregressor&#x27;,\n",
       "                 DecisionTreeRegressor(random_state=42))])</pre><b>Please rerun this cell to show the HTML repr or trust the notebook.</b></div><div class=\"sk-container\" hidden><div class=\"sk-item sk-dashed-wrapped\"><div class=\"sk-label-container\"><div class=\"sk-label sk-toggleable\"><input class=\"sk-toggleable__control sk-hidden--visually\" id=\"ebacb067-02d3-46c5-9022-31b581237dac\" type=\"checkbox\" ><label for=\"ebacb067-02d3-46c5-9022-31b581237dac\" class=\"sk-toggleable__label sk-toggleable__label-arrow\">Pipeline</label><div class=\"sk-toggleable__content\"><pre>Pipeline(steps=[(&#x27;columntransformer&#x27;,\n",
       "                 ColumnTransformer(remainder=&#x27;passthrough&#x27;,\n",
       "                                   transformers=[(&#x27;pipeline-1&#x27;,\n",
       "                                                  Pipeline(steps=[(&#x27;standardscaler&#x27;,\n",
       "                                                                   StandardScaler())]),\n",
       "                                                  &lt;sklearn.compose._column_transformer.make_column_selector object at 0x7faff4c63340&gt;),\n",
       "                                                 (&#x27;pipeline-2&#x27;,\n",
       "                                                  Pipeline(steps=[(&#x27;onehotencoder&#x27;,\n",
       "                                                                   OneHotEncoder(handle_unknown=&#x27;ignore&#x27;,\n",
       "                                                                                 sparse=False))]),\n",
       "                                                  &lt;sklearn.compose._column_transformer.make_column_selector object at 0x7faff4c63520&gt;)])),\n",
       "                (&#x27;decisiontreeregressor&#x27;,\n",
       "                 DecisionTreeRegressor(random_state=42))])</pre></div></div></div><div class=\"sk-serial\"><div class=\"sk-item sk-dashed-wrapped\"><div class=\"sk-label-container\"><div class=\"sk-label sk-toggleable\"><input class=\"sk-toggleable__control sk-hidden--visually\" id=\"5783fdbd-1472-41b2-9fce-3b883187ebdd\" type=\"checkbox\" ><label for=\"5783fdbd-1472-41b2-9fce-3b883187ebdd\" class=\"sk-toggleable__label sk-toggleable__label-arrow\">columntransformer: ColumnTransformer</label><div class=\"sk-toggleable__content\"><pre>ColumnTransformer(remainder=&#x27;passthrough&#x27;,\n",
       "                  transformers=[(&#x27;pipeline-1&#x27;,\n",
       "                                 Pipeline(steps=[(&#x27;standardscaler&#x27;,\n",
       "                                                  StandardScaler())]),\n",
       "                                 &lt;sklearn.compose._column_transformer.make_column_selector object at 0x7faff4c63340&gt;),\n",
       "                                (&#x27;pipeline-2&#x27;,\n",
       "                                 Pipeline(steps=[(&#x27;onehotencoder&#x27;,\n",
       "                                                  OneHotEncoder(handle_unknown=&#x27;ignore&#x27;,\n",
       "                                                                sparse=False))]),\n",
       "                                 &lt;sklearn.compose._column_transformer.make_column_selector object at 0x7faff4c63520&gt;)])</pre></div></div></div><div class=\"sk-parallel\"><div class=\"sk-parallel-item\"><div class=\"sk-item\"><div class=\"sk-label-container\"><div class=\"sk-label sk-toggleable\"><input class=\"sk-toggleable__control sk-hidden--visually\" id=\"c0bdfa05-2a76-4471-ba94-03a44f67f904\" type=\"checkbox\" ><label for=\"c0bdfa05-2a76-4471-ba94-03a44f67f904\" class=\"sk-toggleable__label sk-toggleable__label-arrow\">pipeline-1</label><div class=\"sk-toggleable__content\"><pre>&lt;sklearn.compose._column_transformer.make_column_selector object at 0x7faff4c63340&gt;</pre></div></div></div><div class=\"sk-serial\"><div class=\"sk-item\"><div class=\"sk-serial\"><div class=\"sk-item\"><div class=\"sk-estimator sk-toggleable\"><input class=\"sk-toggleable__control sk-hidden--visually\" id=\"78b1ba8d-92e2-4a00-a3c9-0927ae28cf4b\" type=\"checkbox\" ><label for=\"78b1ba8d-92e2-4a00-a3c9-0927ae28cf4b\" class=\"sk-toggleable__label sk-toggleable__label-arrow\">StandardScaler</label><div class=\"sk-toggleable__content\"><pre>StandardScaler()</pre></div></div></div></div></div></div></div></div><div class=\"sk-parallel-item\"><div class=\"sk-item\"><div class=\"sk-label-container\"><div class=\"sk-label sk-toggleable\"><input class=\"sk-toggleable__control sk-hidden--visually\" id=\"5562502b-1924-42f0-88a5-aefc33ed7b99\" type=\"checkbox\" ><label for=\"5562502b-1924-42f0-88a5-aefc33ed7b99\" class=\"sk-toggleable__label sk-toggleable__label-arrow\">pipeline-2</label><div class=\"sk-toggleable__content\"><pre>&lt;sklearn.compose._column_transformer.make_column_selector object at 0x7faff4c63520&gt;</pre></div></div></div><div class=\"sk-serial\"><div class=\"sk-item\"><div class=\"sk-serial\"><div class=\"sk-item\"><div class=\"sk-estimator sk-toggleable\"><input class=\"sk-toggleable__control sk-hidden--visually\" id=\"022321a0-7b14-48ec-9e07-42e02b9ae9f9\" type=\"checkbox\" ><label for=\"022321a0-7b14-48ec-9e07-42e02b9ae9f9\" class=\"sk-toggleable__label sk-toggleable__label-arrow\">OneHotEncoder</label><div class=\"sk-toggleable__content\"><pre>OneHotEncoder(handle_unknown=&#x27;ignore&#x27;, sparse=False)</pre></div></div></div></div></div></div></div></div><div class=\"sk-parallel-item\"><div class=\"sk-item\"><div class=\"sk-label-container\"><div class=\"sk-label sk-toggleable\"><input class=\"sk-toggleable__control sk-hidden--visually\" id=\"fbf19a3d-6837-4ef0-a32b-c4d8cd467cb2\" type=\"checkbox\" ><label for=\"fbf19a3d-6837-4ef0-a32b-c4d8cd467cb2\" class=\"sk-toggleable__label sk-toggleable__label-arrow\">remainder</label><div class=\"sk-toggleable__content\"><pre>[]</pre></div></div></div><div class=\"sk-serial\"><div class=\"sk-item\"><div class=\"sk-estimator sk-toggleable\"><input class=\"sk-toggleable__control sk-hidden--visually\" id=\"e0fc1e66-a033-430f-b540-40d98e2f2e82\" type=\"checkbox\" ><label for=\"e0fc1e66-a033-430f-b540-40d98e2f2e82\" class=\"sk-toggleable__label sk-toggleable__label-arrow\">passthrough</label><div class=\"sk-toggleable__content\"><pre>passthrough</pre></div></div></div></div></div></div></div></div><div class=\"sk-item\"><div class=\"sk-estimator sk-toggleable\"><input class=\"sk-toggleable__control sk-hidden--visually\" id=\"c9eefb25-ab34-4367-a4d1-929e68c46d13\" type=\"checkbox\" ><label for=\"c9eefb25-ab34-4367-a4d1-929e68c46d13\" class=\"sk-toggleable__label sk-toggleable__label-arrow\">DecisionTreeRegressor</label><div class=\"sk-toggleable__content\"><pre>DecisionTreeRegressor(random_state=42)</pre></div></div></div></div></div></div></div>"
      ],
      "text/plain": [
       "Pipeline(steps=[('columntransformer',\n",
       "                 ColumnTransformer(remainder='passthrough',\n",
       "                                   transformers=[('pipeline-1',\n",
       "                                                  Pipeline(steps=[('standardscaler',\n",
       "                                                                   StandardScaler())]),\n",
       "                                                  <sklearn.compose._column_transformer.make_column_selector object at 0x7faff4c63340>),\n",
       "                                                 ('pipeline-2',\n",
       "                                                  Pipeline(steps=[('onehotencoder',\n",
       "                                                                   OneHotEncoder(handle_unknown='ignore',\n",
       "                                                                                 sparse=False))]),\n",
       "                                                  <sklearn.compose._column_transformer.make_column_selector object at 0x7faff4c63520>)])),\n",
       "                ('decisiontreeregressor',\n",
       "                 DecisionTreeRegressor(random_state=42))])"
      ]
     },
     "execution_count": 49,
     "metadata": {},
     "output_type": "execute_result"
    }
   ],
   "source": [
    "dec_tree_pipe.fit(X_train, y_train)"
   ]
  },
  {
   "cell_type": "code",
   "execution_count": 50,
   "id": "d4ce5bf6",
   "metadata": {},
   "outputs": [
    {
     "name": "stdout",
     "output_type": "stream",
     "text": [
      "Regression Tree Training Results\n",
      "RMSE Score: 2.3110443468466103e-16\n",
      "R^2 Score: 1.0\n",
      "\n",
      "Regression Tree Testing Results\n",
      "RMSE Score:  0.12746405864825677\n",
      "R^2 Score: 0.27443753154482264\n",
      "\n",
      "CPU times: user 23 ms, sys: 5.67 ms, total: 28.7 ms\n",
      "Wall time: 27.1 ms\n"
     ]
    }
   ],
   "source": [
    "%%time\n",
    "#Predictions \n",
    "dec_train_score = eval_regression(y_train, dec_tree_pipe.predict(X_train))\n",
    "dec_test_score = eval_regression(y_test, dec_tree_pipe.predict(X_test))\n",
    "print('Regression Tree Training Results')\n",
    "print(f'RMSE Score: {dec_train_score[0]}')\n",
    "print(f'R^2 Score: {dec_train_score[1]}\\n')\n",
    "\n",
    "print('Regression Tree Testing Results')\n",
    "print(f'RMSE Score:  {dec_test_score[0]}')\n",
    "print(f'R^2 Score: {dec_test_score[1]}\\n')"
   ]
  },
  {
   "cell_type": "code",
   "execution_count": 51,
   "id": "513a358d",
   "metadata": {},
   "outputs": [
    {
     "data": {
      "text/html": [
       "<div>\n",
       "<style scoped>\n",
       "    .dataframe tbody tr th:only-of-type {\n",
       "        vertical-align: middle;\n",
       "    }\n",
       "\n",
       "    .dataframe tbody tr th {\n",
       "        vertical-align: top;\n",
       "    }\n",
       "\n",
       "    .dataframe thead th {\n",
       "        text-align: right;\n",
       "    }\n",
       "</style>\n",
       "<table border=\"1\" class=\"dataframe\">\n",
       "  <thead>\n",
       "    <tr style=\"text-align: right;\">\n",
       "      <th></th>\n",
       "      <th>RMSE</th>\n",
       "      <th>R^2</th>\n",
       "    </tr>\n",
       "  </thead>\n",
       "  <tbody>\n",
       "    <tr>\n",
       "      <th>Reg Train</th>\n",
       "      <td>0.0</td>\n",
       "      <td>1.0</td>\n",
       "    </tr>\n",
       "    <tr>\n",
       "      <th>Reg Test</th>\n",
       "      <td>0.127464</td>\n",
       "      <td>0.274438</td>\n",
       "    </tr>\n",
       "  </tbody>\n",
       "</table>\n",
       "</div>"
      ],
      "text/plain": [
       "               RMSE       R^2\n",
       "Reg Train       0.0       1.0\n",
       "Reg Test   0.127464  0.274438"
      ]
     },
     "execution_count": 51,
     "metadata": {},
     "output_type": "execute_result"
    }
   ],
   "source": [
    "#Keeping track of scores\n",
    "df_index = ['Reg Train', 'Reg Test']\n",
    "scores_df = pd.DataFrame(index=df_index, columns=['RMSE', 'R^2'])\n",
    "#default reg tree\n",
    "scores_df.loc['Reg Train'] = [dec_train_score[0], dec_train_score[1]]\n",
    "scores_df.loc['Reg Test'] = [dec_test_score[0], dec_test_score[1]]\n",
    "scores_df"
   ]
  },
  {
   "cell_type": "markdown",
   "id": "53856c71",
   "metadata": {},
   "source": [
    "### Decision Tree Model - with PCA "
   ]
  },
  {
   "cell_type": "code",
   "execution_count": 52,
   "id": "8187a387",
   "metadata": {},
   "outputs": [],
   "source": [
    "#Instantiate PCA\n",
    "pca = PCA(n_components=.95)"
   ]
  },
  {
   "cell_type": "code",
   "execution_count": 53,
   "id": "ab3ee7e5",
   "metadata": {},
   "outputs": [],
   "source": [
    "#PCA Dec Tree Pipe\n",
    "pca_dec_tree_pipe = make_pipeline(dec_preprocessor, pca, dec_tree)"
   ]
  },
  {
   "cell_type": "code",
   "execution_count": 54,
   "id": "8b3c91ba",
   "metadata": {},
   "outputs": [
    {
     "data": {
      "text/html": [
       "<style>#sk-a026a704-a06c-4fc3-be0c-f76623e46cd0 {color: black;background-color: white;}#sk-a026a704-a06c-4fc3-be0c-f76623e46cd0 pre{padding: 0;}#sk-a026a704-a06c-4fc3-be0c-f76623e46cd0 div.sk-toggleable {background-color: white;}#sk-a026a704-a06c-4fc3-be0c-f76623e46cd0 label.sk-toggleable__label {cursor: pointer;display: block;width: 100%;margin-bottom: 0;padding: 0.3em;box-sizing: border-box;text-align: center;}#sk-a026a704-a06c-4fc3-be0c-f76623e46cd0 label.sk-toggleable__label-arrow:before {content: \"▸\";float: left;margin-right: 0.25em;color: #696969;}#sk-a026a704-a06c-4fc3-be0c-f76623e46cd0 label.sk-toggleable__label-arrow:hover:before {color: black;}#sk-a026a704-a06c-4fc3-be0c-f76623e46cd0 div.sk-estimator:hover label.sk-toggleable__label-arrow:before {color: black;}#sk-a026a704-a06c-4fc3-be0c-f76623e46cd0 div.sk-toggleable__content {max-height: 0;max-width: 0;overflow: hidden;text-align: left;background-color: #f0f8ff;}#sk-a026a704-a06c-4fc3-be0c-f76623e46cd0 div.sk-toggleable__content pre {margin: 0.2em;color: black;border-radius: 0.25em;background-color: #f0f8ff;}#sk-a026a704-a06c-4fc3-be0c-f76623e46cd0 input.sk-toggleable__control:checked~div.sk-toggleable__content {max-height: 200px;max-width: 100%;overflow: auto;}#sk-a026a704-a06c-4fc3-be0c-f76623e46cd0 input.sk-toggleable__control:checked~label.sk-toggleable__label-arrow:before {content: \"▾\";}#sk-a026a704-a06c-4fc3-be0c-f76623e46cd0 div.sk-estimator input.sk-toggleable__control:checked~label.sk-toggleable__label {background-color: #d4ebff;}#sk-a026a704-a06c-4fc3-be0c-f76623e46cd0 div.sk-label input.sk-toggleable__control:checked~label.sk-toggleable__label {background-color: #d4ebff;}#sk-a026a704-a06c-4fc3-be0c-f76623e46cd0 input.sk-hidden--visually {border: 0;clip: rect(1px 1px 1px 1px);clip: rect(1px, 1px, 1px, 1px);height: 1px;margin: -1px;overflow: hidden;padding: 0;position: absolute;width: 1px;}#sk-a026a704-a06c-4fc3-be0c-f76623e46cd0 div.sk-estimator {font-family: monospace;background-color: #f0f8ff;border: 1px dotted black;border-radius: 0.25em;box-sizing: border-box;margin-bottom: 0.5em;}#sk-a026a704-a06c-4fc3-be0c-f76623e46cd0 div.sk-estimator:hover {background-color: #d4ebff;}#sk-a026a704-a06c-4fc3-be0c-f76623e46cd0 div.sk-parallel-item::after {content: \"\";width: 100%;border-bottom: 1px solid gray;flex-grow: 1;}#sk-a026a704-a06c-4fc3-be0c-f76623e46cd0 div.sk-label:hover label.sk-toggleable__label {background-color: #d4ebff;}#sk-a026a704-a06c-4fc3-be0c-f76623e46cd0 div.sk-serial::before {content: \"\";position: absolute;border-left: 1px solid gray;box-sizing: border-box;top: 2em;bottom: 0;left: 50%;}#sk-a026a704-a06c-4fc3-be0c-f76623e46cd0 div.sk-serial {display: flex;flex-direction: column;align-items: center;background-color: white;padding-right: 0.2em;padding-left: 0.2em;}#sk-a026a704-a06c-4fc3-be0c-f76623e46cd0 div.sk-item {z-index: 1;}#sk-a026a704-a06c-4fc3-be0c-f76623e46cd0 div.sk-parallel {display: flex;align-items: stretch;justify-content: center;background-color: white;}#sk-a026a704-a06c-4fc3-be0c-f76623e46cd0 div.sk-parallel::before {content: \"\";position: absolute;border-left: 1px solid gray;box-sizing: border-box;top: 2em;bottom: 0;left: 50%;}#sk-a026a704-a06c-4fc3-be0c-f76623e46cd0 div.sk-parallel-item {display: flex;flex-direction: column;position: relative;background-color: white;}#sk-a026a704-a06c-4fc3-be0c-f76623e46cd0 div.sk-parallel-item:first-child::after {align-self: flex-end;width: 50%;}#sk-a026a704-a06c-4fc3-be0c-f76623e46cd0 div.sk-parallel-item:last-child::after {align-self: flex-start;width: 50%;}#sk-a026a704-a06c-4fc3-be0c-f76623e46cd0 div.sk-parallel-item:only-child::after {width: 0;}#sk-a026a704-a06c-4fc3-be0c-f76623e46cd0 div.sk-dashed-wrapped {border: 1px dashed gray;margin: 0 0.4em 0.5em 0.4em;box-sizing: border-box;padding-bottom: 0.4em;background-color: white;position: relative;}#sk-a026a704-a06c-4fc3-be0c-f76623e46cd0 div.sk-label label {font-family: monospace;font-weight: bold;background-color: white;display: inline-block;line-height: 1.2em;}#sk-a026a704-a06c-4fc3-be0c-f76623e46cd0 div.sk-label-container {position: relative;z-index: 2;text-align: center;}#sk-a026a704-a06c-4fc3-be0c-f76623e46cd0 div.sk-container {/* jupyter's `normalize.less` sets `[hidden] { display: none; }` but bootstrap.min.css set `[hidden] { display: none !important; }` so we also need the `!important` here to be able to override the default hidden behavior on the sphinx rendered scikit-learn.org. See: https://github.com/scikit-learn/scikit-learn/issues/21755 */display: inline-block !important;position: relative;}#sk-a026a704-a06c-4fc3-be0c-f76623e46cd0 div.sk-text-repr-fallback {display: none;}</style><div id=\"sk-a026a704-a06c-4fc3-be0c-f76623e46cd0\" class=\"sk-top-container\"><div class=\"sk-text-repr-fallback\"><pre>Pipeline(steps=[(&#x27;columntransformer&#x27;,\n",
       "                 ColumnTransformer(remainder=&#x27;passthrough&#x27;,\n",
       "                                   transformers=[(&#x27;pipeline-1&#x27;,\n",
       "                                                  Pipeline(steps=[(&#x27;standardscaler&#x27;,\n",
       "                                                                   StandardScaler())]),\n",
       "                                                  &lt;sklearn.compose._column_transformer.make_column_selector object at 0x7faff4c63340&gt;),\n",
       "                                                 (&#x27;pipeline-2&#x27;,\n",
       "                                                  Pipeline(steps=[(&#x27;onehotencoder&#x27;,\n",
       "                                                                   OneHotEncoder(handle_unknown=&#x27;ignore&#x27;,\n",
       "                                                                                 sparse=False))]),\n",
       "                                                  &lt;sklearn.compose._column_transformer.make_column_selector object at 0x7faff4c63520&gt;)])),\n",
       "                (&#x27;pca&#x27;, PCA(n_components=0.95)),\n",
       "                (&#x27;decisiontreeregressor&#x27;,\n",
       "                 DecisionTreeRegressor(random_state=42))])</pre><b>Please rerun this cell to show the HTML repr or trust the notebook.</b></div><div class=\"sk-container\" hidden><div class=\"sk-item sk-dashed-wrapped\"><div class=\"sk-label-container\"><div class=\"sk-label sk-toggleable\"><input class=\"sk-toggleable__control sk-hidden--visually\" id=\"40bba2e8-cf99-44a7-8503-499475d83121\" type=\"checkbox\" ><label for=\"40bba2e8-cf99-44a7-8503-499475d83121\" class=\"sk-toggleable__label sk-toggleable__label-arrow\">Pipeline</label><div class=\"sk-toggleable__content\"><pre>Pipeline(steps=[(&#x27;columntransformer&#x27;,\n",
       "                 ColumnTransformer(remainder=&#x27;passthrough&#x27;,\n",
       "                                   transformers=[(&#x27;pipeline-1&#x27;,\n",
       "                                                  Pipeline(steps=[(&#x27;standardscaler&#x27;,\n",
       "                                                                   StandardScaler())]),\n",
       "                                                  &lt;sklearn.compose._column_transformer.make_column_selector object at 0x7faff4c63340&gt;),\n",
       "                                                 (&#x27;pipeline-2&#x27;,\n",
       "                                                  Pipeline(steps=[(&#x27;onehotencoder&#x27;,\n",
       "                                                                   OneHotEncoder(handle_unknown=&#x27;ignore&#x27;,\n",
       "                                                                                 sparse=False))]),\n",
       "                                                  &lt;sklearn.compose._column_transformer.make_column_selector object at 0x7faff4c63520&gt;)])),\n",
       "                (&#x27;pca&#x27;, PCA(n_components=0.95)),\n",
       "                (&#x27;decisiontreeregressor&#x27;,\n",
       "                 DecisionTreeRegressor(random_state=42))])</pre></div></div></div><div class=\"sk-serial\"><div class=\"sk-item sk-dashed-wrapped\"><div class=\"sk-label-container\"><div class=\"sk-label sk-toggleable\"><input class=\"sk-toggleable__control sk-hidden--visually\" id=\"a01c75c0-ea28-4f48-a81e-2c7e5c2c929d\" type=\"checkbox\" ><label for=\"a01c75c0-ea28-4f48-a81e-2c7e5c2c929d\" class=\"sk-toggleable__label sk-toggleable__label-arrow\">columntransformer: ColumnTransformer</label><div class=\"sk-toggleable__content\"><pre>ColumnTransformer(remainder=&#x27;passthrough&#x27;,\n",
       "                  transformers=[(&#x27;pipeline-1&#x27;,\n",
       "                                 Pipeline(steps=[(&#x27;standardscaler&#x27;,\n",
       "                                                  StandardScaler())]),\n",
       "                                 &lt;sklearn.compose._column_transformer.make_column_selector object at 0x7faff4c63340&gt;),\n",
       "                                (&#x27;pipeline-2&#x27;,\n",
       "                                 Pipeline(steps=[(&#x27;onehotencoder&#x27;,\n",
       "                                                  OneHotEncoder(handle_unknown=&#x27;ignore&#x27;,\n",
       "                                                                sparse=False))]),\n",
       "                                 &lt;sklearn.compose._column_transformer.make_column_selector object at 0x7faff4c63520&gt;)])</pre></div></div></div><div class=\"sk-parallel\"><div class=\"sk-parallel-item\"><div class=\"sk-item\"><div class=\"sk-label-container\"><div class=\"sk-label sk-toggleable\"><input class=\"sk-toggleable__control sk-hidden--visually\" id=\"b8e944bf-4d42-4ac2-95fa-4bdd7da6a8f7\" type=\"checkbox\" ><label for=\"b8e944bf-4d42-4ac2-95fa-4bdd7da6a8f7\" class=\"sk-toggleable__label sk-toggleable__label-arrow\">pipeline-1</label><div class=\"sk-toggleable__content\"><pre>&lt;sklearn.compose._column_transformer.make_column_selector object at 0x7faff4c63340&gt;</pre></div></div></div><div class=\"sk-serial\"><div class=\"sk-item\"><div class=\"sk-serial\"><div class=\"sk-item\"><div class=\"sk-estimator sk-toggleable\"><input class=\"sk-toggleable__control sk-hidden--visually\" id=\"e1bbfc82-2a4c-4f05-afe2-7bd5d0a47d5a\" type=\"checkbox\" ><label for=\"e1bbfc82-2a4c-4f05-afe2-7bd5d0a47d5a\" class=\"sk-toggleable__label sk-toggleable__label-arrow\">StandardScaler</label><div class=\"sk-toggleable__content\"><pre>StandardScaler()</pre></div></div></div></div></div></div></div></div><div class=\"sk-parallel-item\"><div class=\"sk-item\"><div class=\"sk-label-container\"><div class=\"sk-label sk-toggleable\"><input class=\"sk-toggleable__control sk-hidden--visually\" id=\"cdf5feb7-0921-4aa9-be47-370ada40af28\" type=\"checkbox\" ><label for=\"cdf5feb7-0921-4aa9-be47-370ada40af28\" class=\"sk-toggleable__label sk-toggleable__label-arrow\">pipeline-2</label><div class=\"sk-toggleable__content\"><pre>&lt;sklearn.compose._column_transformer.make_column_selector object at 0x7faff4c63520&gt;</pre></div></div></div><div class=\"sk-serial\"><div class=\"sk-item\"><div class=\"sk-serial\"><div class=\"sk-item\"><div class=\"sk-estimator sk-toggleable\"><input class=\"sk-toggleable__control sk-hidden--visually\" id=\"70e21962-0584-46ca-9d76-69fdb4f316c8\" type=\"checkbox\" ><label for=\"70e21962-0584-46ca-9d76-69fdb4f316c8\" class=\"sk-toggleable__label sk-toggleable__label-arrow\">OneHotEncoder</label><div class=\"sk-toggleable__content\"><pre>OneHotEncoder(handle_unknown=&#x27;ignore&#x27;, sparse=False)</pre></div></div></div></div></div></div></div></div><div class=\"sk-parallel-item\"><div class=\"sk-item\"><div class=\"sk-label-container\"><div class=\"sk-label sk-toggleable\"><input class=\"sk-toggleable__control sk-hidden--visually\" id=\"223fb2ca-dcd2-4717-934c-c1eb57ef0885\" type=\"checkbox\" ><label for=\"223fb2ca-dcd2-4717-934c-c1eb57ef0885\" class=\"sk-toggleable__label sk-toggleable__label-arrow\">remainder</label><div class=\"sk-toggleable__content\"><pre>[]</pre></div></div></div><div class=\"sk-serial\"><div class=\"sk-item\"><div class=\"sk-estimator sk-toggleable\"><input class=\"sk-toggleable__control sk-hidden--visually\" id=\"c530cbcf-42f3-45fb-a7ab-3ef2c0f7e66d\" type=\"checkbox\" ><label for=\"c530cbcf-42f3-45fb-a7ab-3ef2c0f7e66d\" class=\"sk-toggleable__label sk-toggleable__label-arrow\">passthrough</label><div class=\"sk-toggleable__content\"><pre>passthrough</pre></div></div></div></div></div></div></div></div><div class=\"sk-item\"><div class=\"sk-estimator sk-toggleable\"><input class=\"sk-toggleable__control sk-hidden--visually\" id=\"53fb6db4-dd8e-45d3-afda-ec2e99674a6e\" type=\"checkbox\" ><label for=\"53fb6db4-dd8e-45d3-afda-ec2e99674a6e\" class=\"sk-toggleable__label sk-toggleable__label-arrow\">PCA</label><div class=\"sk-toggleable__content\"><pre>PCA(n_components=0.95)</pre></div></div></div><div class=\"sk-item\"><div class=\"sk-estimator sk-toggleable\"><input class=\"sk-toggleable__control sk-hidden--visually\" id=\"66184cae-9247-4911-98e2-72131120d945\" type=\"checkbox\" ><label for=\"66184cae-9247-4911-98e2-72131120d945\" class=\"sk-toggleable__label sk-toggleable__label-arrow\">DecisionTreeRegressor</label><div class=\"sk-toggleable__content\"><pre>DecisionTreeRegressor(random_state=42)</pre></div></div></div></div></div></div></div>"
      ],
      "text/plain": [
       "Pipeline(steps=[('columntransformer',\n",
       "                 ColumnTransformer(remainder='passthrough',\n",
       "                                   transformers=[('pipeline-1',\n",
       "                                                  Pipeline(steps=[('standardscaler',\n",
       "                                                                   StandardScaler())]),\n",
       "                                                  <sklearn.compose._column_transformer.make_column_selector object at 0x7faff4c63340>),\n",
       "                                                 ('pipeline-2',\n",
       "                                                  Pipeline(steps=[('onehotencoder',\n",
       "                                                                   OneHotEncoder(handle_unknown='ignore',\n",
       "                                                                                 sparse=False))]),\n",
       "                                                  <sklearn.compose._column_transformer.make_column_selector object at 0x7faff4c63520>)])),\n",
       "                ('pca', PCA(n_components=0.95)),\n",
       "                ('decisiontreeregressor',\n",
       "                 DecisionTreeRegressor(random_state=42))])"
      ]
     },
     "execution_count": 54,
     "metadata": {},
     "output_type": "execute_result"
    }
   ],
   "source": [
    "pca_dec_tree_pipe.fit(X_train, y_train)"
   ]
  },
  {
   "cell_type": "code",
   "execution_count": 55,
   "id": "a476ff4a",
   "metadata": {},
   "outputs": [
    {
     "name": "stdout",
     "output_type": "stream",
     "text": [
      "Regression Tree Training Results\n",
      "RMSE Score: 3.909744042096702e-16\n",
      "R^2 Score: 1.0\n",
      "\n",
      "Regression Tree Testing Results\n",
      "RMSE Score:  0.12223634869270655\n",
      "R^2 Score: 0.33273236401754835\n",
      "\n",
      "CPU times: user 120 ms, sys: 11.2 ms, total: 131 ms\n",
      "Wall time: 46.2 ms\n"
     ]
    }
   ],
   "source": [
    "%%time\n",
    "#Predictions \n",
    "pca_dec_train_score = eval_regression(y_train, pca_dec_tree_pipe.predict(X_train))\n",
    "pca_dec_test_score = eval_regression(y_test, pca_dec_tree_pipe.predict(X_test))\n",
    "print('Regression Tree Training Results')\n",
    "print(f'RMSE Score: {pca_dec_train_score[0]}')\n",
    "print(f'R^2 Score: {pca_dec_train_score[1]}\\n')\n",
    "\n",
    "print('Regression Tree Testing Results')\n",
    "print(f'RMSE Score:  {pca_dec_test_score[0]}')\n",
    "print(f'R^2 Score: {pca_dec_test_score[1]}\\n')"
   ]
  },
  {
   "cell_type": "code",
   "execution_count": 56,
   "id": "aa7c9f23",
   "metadata": {},
   "outputs": [
    {
     "data": {
      "text/html": [
       "<div>\n",
       "<style scoped>\n",
       "    .dataframe tbody tr th:only-of-type {\n",
       "        vertical-align: middle;\n",
       "    }\n",
       "\n",
       "    .dataframe tbody tr th {\n",
       "        vertical-align: top;\n",
       "    }\n",
       "\n",
       "    .dataframe thead th {\n",
       "        text-align: right;\n",
       "    }\n",
       "</style>\n",
       "<table border=\"1\" class=\"dataframe\">\n",
       "  <thead>\n",
       "    <tr style=\"text-align: right;\">\n",
       "      <th></th>\n",
       "      <th>RMSE</th>\n",
       "      <th>R^2</th>\n",
       "    </tr>\n",
       "  </thead>\n",
       "  <tbody>\n",
       "    <tr>\n",
       "      <th>Reg Train</th>\n",
       "      <td>0.0</td>\n",
       "      <td>1.0</td>\n",
       "    </tr>\n",
       "    <tr>\n",
       "      <th>Reg Test</th>\n",
       "      <td>0.127464</td>\n",
       "      <td>0.274438</td>\n",
       "    </tr>\n",
       "    <tr>\n",
       "      <th>Reg PCA Train</th>\n",
       "      <td>0.0</td>\n",
       "      <td>1.0</td>\n",
       "    </tr>\n",
       "    <tr>\n",
       "      <th>Reg PCA Test</th>\n",
       "      <td>0.122236</td>\n",
       "      <td>0.332732</td>\n",
       "    </tr>\n",
       "  </tbody>\n",
       "</table>\n",
       "</div>"
      ],
      "text/plain": [
       "                   RMSE       R^2\n",
       "Reg Train           0.0       1.0\n",
       "Reg Test       0.127464  0.274438\n",
       "Reg PCA Train       0.0       1.0\n",
       "Reg PCA Test   0.122236  0.332732"
      ]
     },
     "execution_count": 56,
     "metadata": {},
     "output_type": "execute_result"
    }
   ],
   "source": [
    "#Keeping track of scores\n",
    "scores_df.loc['Reg PCA Train'] = [pca_dec_train_score[0], pca_dec_train_score[1]]\n",
    "scores_df.loc['Reg PCA Test'] = [pca_dec_test_score[0], pca_dec_test_score[1]]\n",
    "scores_df"
   ]
  },
  {
   "cell_type": "markdown",
   "id": "ad7eded1",
   "metadata": {},
   "source": [
    "## Decision Tree w/Hyperparams\n",
    "on model with better metrics. "
   ]
  },
  {
   "cell_type": "code",
   "execution_count": 57,
   "id": "28e8be30",
   "metadata": {},
   "outputs": [
    {
     "data": {
      "text/plain": [
       "{'ccp_alpha': 0.0,\n",
       " 'criterion': 'squared_error',\n",
       " 'max_depth': None,\n",
       " 'max_features': None,\n",
       " 'max_leaf_nodes': None,\n",
       " 'min_impurity_decrease': 0.0,\n",
       " 'min_samples_leaf': 1,\n",
       " 'min_samples_split': 2,\n",
       " 'min_weight_fraction_leaf': 0.0,\n",
       " 'random_state': 42,\n",
       " 'splitter': 'best'}"
      ]
     },
     "execution_count": 57,
     "metadata": {},
     "output_type": "execute_result"
    }
   ],
   "source": [
    "dec_tree.get_params()"
   ]
  },
  {
   "cell_type": "code",
   "execution_count": 58,
   "id": "8f234b76",
   "metadata": {},
   "outputs": [
    {
     "name": "stdout",
     "output_type": "stream",
     "text": [
      "26\n",
      "520\n"
     ]
    }
   ],
   "source": [
    "print(dec_tree.get_depth())\n",
    "print(dec_tree.get_n_leaves())"
   ]
  },
  {
   "cell_type": "code",
   "execution_count": 59,
   "id": "f52178f9",
   "metadata": {},
   "outputs": [],
   "source": [
    "depths = list(range(2,30))\n",
    "scores = pd.DataFrame(index=depths, columns=['Train Score', 'Test Score'])\n",
    "\n",
    "for d in depths:\n",
    "    model_dec_tree = DecisionTreeRegressor(max_depth=d, random_state=42)\n",
    "    model_dec_pipe = make_pipeline(dec_preprocessor, pca, model_dec_tree)\n",
    "    model_dec_pipe.fit(X_train, y_train)\n",
    "    train_score = model_dec_pipe.score(X_train, y_train)\n",
    "    test_score = model_dec_pipe.score(X_test, y_test)\n",
    "    scores.loc[d, 'Train Score'] = train_score\n",
    "    scores.loc[d, 'Test Score'] = test_score"
   ]
  },
  {
   "cell_type": "code",
   "execution_count": 60,
   "id": "eef99bbf",
   "metadata": {},
   "outputs": [
    {
     "data": {
      "text/html": [
       "<div>\n",
       "<style scoped>\n",
       "    .dataframe tbody tr th:only-of-type {\n",
       "        vertical-align: middle;\n",
       "    }\n",
       "\n",
       "    .dataframe tbody tr th {\n",
       "        vertical-align: top;\n",
       "    }\n",
       "\n",
       "    .dataframe thead th {\n",
       "        text-align: right;\n",
       "    }\n",
       "</style>\n",
       "<table border=\"1\" class=\"dataframe\">\n",
       "  <thead>\n",
       "    <tr style=\"text-align: right;\">\n",
       "      <th></th>\n",
       "      <th>Train Score</th>\n",
       "      <th>Test Score</th>\n",
       "    </tr>\n",
       "  </thead>\n",
       "  <tbody>\n",
       "    <tr>\n",
       "      <th>2</th>\n",
       "      <td>0.299953</td>\n",
       "      <td>0.306379</td>\n",
       "    </tr>\n",
       "    <tr>\n",
       "      <th>3</th>\n",
       "      <td>0.391124</td>\n",
       "      <td>0.361274</td>\n",
       "    </tr>\n",
       "    <tr>\n",
       "      <th>4</th>\n",
       "      <td>0.491688</td>\n",
       "      <td>0.419715</td>\n",
       "    </tr>\n",
       "    <tr>\n",
       "      <th>5</th>\n",
       "      <td>0.59796</td>\n",
       "      <td>0.37159</td>\n",
       "    </tr>\n",
       "    <tr>\n",
       "      <th>6</th>\n",
       "      <td>0.690687</td>\n",
       "      <td>0.378325</td>\n",
       "    </tr>\n",
       "  </tbody>\n",
       "</table>\n",
       "</div>"
      ],
      "text/plain": [
       "  Train Score Test Score\n",
       "2    0.299953   0.306379\n",
       "3    0.391124   0.361274\n",
       "4    0.491688   0.419715\n",
       "5     0.59796    0.37159\n",
       "6    0.690687   0.378325"
      ]
     },
     "execution_count": 60,
     "metadata": {},
     "output_type": "execute_result"
    }
   ],
   "source": [
    "#Checking new scores\n",
    "scores.head()"
   ]
  },
  {
   "cell_type": "code",
   "execution_count": 61,
   "id": "2e945985",
   "metadata": {},
   "outputs": [
    {
     "data": {
      "text/html": [
       "<div>\n",
       "<style scoped>\n",
       "    .dataframe tbody tr th:only-of-type {\n",
       "        vertical-align: middle;\n",
       "    }\n",
       "\n",
       "    .dataframe tbody tr th {\n",
       "        vertical-align: top;\n",
       "    }\n",
       "\n",
       "    .dataframe thead th {\n",
       "        text-align: right;\n",
       "    }\n",
       "</style>\n",
       "<table border=\"1\" class=\"dataframe\">\n",
       "  <thead>\n",
       "    <tr style=\"text-align: right;\">\n",
       "      <th></th>\n",
       "      <th>Train Score</th>\n",
       "      <th>Test Score</th>\n",
       "    </tr>\n",
       "  </thead>\n",
       "  <tbody>\n",
       "    <tr>\n",
       "      <th>4</th>\n",
       "      <td>0.491688</td>\n",
       "      <td>0.419715</td>\n",
       "    </tr>\n",
       "    <tr>\n",
       "      <th>6</th>\n",
       "      <td>0.690687</td>\n",
       "      <td>0.378325</td>\n",
       "    </tr>\n",
       "    <tr>\n",
       "      <th>5</th>\n",
       "      <td>0.59796</td>\n",
       "      <td>0.37159</td>\n",
       "    </tr>\n",
       "    <tr>\n",
       "      <th>3</th>\n",
       "      <td>0.391124</td>\n",
       "      <td>0.361274</td>\n",
       "    </tr>\n",
       "    <tr>\n",
       "      <th>8</th>\n",
       "      <td>0.847076</td>\n",
       "      <td>0.35816</td>\n",
       "    </tr>\n",
       "  </tbody>\n",
       "</table>\n",
       "</div>"
      ],
      "text/plain": [
       "  Train Score Test Score\n",
       "4    0.491688   0.419715\n",
       "6    0.690687   0.378325\n",
       "5     0.59796    0.37159\n",
       "3    0.391124   0.361274\n",
       "8    0.847076    0.35816"
      ]
     },
     "execution_count": 61,
     "metadata": {},
     "output_type": "execute_result"
    }
   ],
   "source": [
    "#Sort results by highest Test Score\n",
    "sorted_scores = scores.sort_values('Test Score', ascending=False)\n",
    "sorted_scores.head()"
   ]
  },
  {
   "cell_type": "code",
   "execution_count": 62,
   "id": "2399ee8b",
   "metadata": {},
   "outputs": [
    {
     "data": {
      "image/png": "[encoded data removed]",
      "text/plain": [
       "<Figure size 720x504 with 1 Axes>"
      ]
     },
     "metadata": {},
     "output_type": "display_data"
    }
   ],
   "source": [
    "plt.figure(figsize=(10,7))\n",
    "plt.style.use('seaborn-whitegrid')\n",
    "#plt.plot(depths, scores['Test Score'])\n",
    "plt.step(depths, scores['Test Score'], where='post', color='purple')\n",
    "plt.plot(depths, scores['Test Score'], 'o--', color='grey', alpha=0.3)\n",
    "plt.xlabel('Max Depth')\n",
    "plt.ylabel('R2')\n",
    "plt.show()"
   ]
  },
  {
   "cell_type": "code",
   "execution_count": 63,
   "id": "280800ba",
   "metadata": {},
   "outputs": [
    {
     "data": {
      "text/html": [
       "<style>#sk-3ce638c9-6fdc-4262-a2aa-358f8987e5d7 {color: black;background-color: white;}#sk-3ce638c9-6fdc-4262-a2aa-358f8987e5d7 pre{padding: 0;}#sk-3ce638c9-6fdc-4262-a2aa-358f8987e5d7 div.sk-toggleable {background-color: white;}#sk-3ce638c9-6fdc-4262-a2aa-358f8987e5d7 label.sk-toggleable__label {cursor: pointer;display: block;width: 100%;margin-bottom: 0;padding: 0.3em;box-sizing: border-box;text-align: center;}#sk-3ce638c9-6fdc-4262-a2aa-358f8987e5d7 label.sk-toggleable__label-arrow:before {content: \"▸\";float: left;margin-right: 0.25em;color: #696969;}#sk-3ce638c9-6fdc-4262-a2aa-358f8987e5d7 label.sk-toggleable__label-arrow:hover:before {color: black;}#sk-3ce638c9-6fdc-4262-a2aa-358f8987e5d7 div.sk-estimator:hover label.sk-toggleable__label-arrow:before {color: black;}#sk-3ce638c9-6fdc-4262-a2aa-358f8987e5d7 div.sk-toggleable__content {max-height: 0;max-width: 0;overflow: hidden;text-align: left;background-color: #f0f8ff;}#sk-3ce638c9-6fdc-4262-a2aa-358f8987e5d7 div.sk-toggleable__content pre {margin: 0.2em;color: black;border-radius: 0.25em;background-color: #f0f8ff;}#sk-3ce638c9-6fdc-4262-a2aa-358f8987e5d7 input.sk-toggleable__control:checked~div.sk-toggleable__content {max-height: 200px;max-width: 100%;overflow: auto;}#sk-3ce638c9-6fdc-4262-a2aa-358f8987e5d7 input.sk-toggleable__control:checked~label.sk-toggleable__label-arrow:before {content: \"▾\";}#sk-3ce638c9-6fdc-4262-a2aa-358f8987e5d7 div.sk-estimator input.sk-toggleable__control:checked~label.sk-toggleable__label {background-color: #d4ebff;}#sk-3ce638c9-6fdc-4262-a2aa-358f8987e5d7 div.sk-label input.sk-toggleable__control:checked~label.sk-toggleable__label {background-color: #d4ebff;}#sk-3ce638c9-6fdc-4262-a2aa-358f8987e5d7 input.sk-hidden--visually {border: 0;clip: rect(1px 1px 1px 1px);clip: rect(1px, 1px, 1px, 1px);height: 1px;margin: -1px;overflow: hidden;padding: 0;position: absolute;width: 1px;}#sk-3ce638c9-6fdc-4262-a2aa-358f8987e5d7 div.sk-estimator {font-family: monospace;background-color: #f0f8ff;border: 1px dotted black;border-radius: 0.25em;box-sizing: border-box;margin-bottom: 0.5em;}#sk-3ce638c9-6fdc-4262-a2aa-358f8987e5d7 div.sk-estimator:hover {background-color: #d4ebff;}#sk-3ce638c9-6fdc-4262-a2aa-358f8987e5d7 div.sk-parallel-item::after {content: \"\";width: 100%;border-bottom: 1px solid gray;flex-grow: 1;}#sk-3ce638c9-6fdc-4262-a2aa-358f8987e5d7 div.sk-label:hover label.sk-toggleable__label {background-color: #d4ebff;}#sk-3ce638c9-6fdc-4262-a2aa-358f8987e5d7 div.sk-serial::before {content: \"\";position: absolute;border-left: 1px solid gray;box-sizing: border-box;top: 2em;bottom: 0;left: 50%;}#sk-3ce638c9-6fdc-4262-a2aa-358f8987e5d7 div.sk-serial {display: flex;flex-direction: column;align-items: center;background-color: white;padding-right: 0.2em;padding-left: 0.2em;}#sk-3ce638c9-6fdc-4262-a2aa-358f8987e5d7 div.sk-item {z-index: 1;}#sk-3ce638c9-6fdc-4262-a2aa-358f8987e5d7 div.sk-parallel {display: flex;align-items: stretch;justify-content: center;background-color: white;}#sk-3ce638c9-6fdc-4262-a2aa-358f8987e5d7 div.sk-parallel::before {content: \"\";position: absolute;border-left: 1px solid gray;box-sizing: border-box;top: 2em;bottom: 0;left: 50%;}#sk-3ce638c9-6fdc-4262-a2aa-358f8987e5d7 div.sk-parallel-item {display: flex;flex-direction: column;position: relative;background-color: white;}#sk-3ce638c9-6fdc-4262-a2aa-358f8987e5d7 div.sk-parallel-item:first-child::after {align-self: flex-end;width: 50%;}#sk-3ce638c9-6fdc-4262-a2aa-358f8987e5d7 div.sk-parallel-item:last-child::after {align-self: flex-start;width: 50%;}#sk-3ce638c9-6fdc-4262-a2aa-358f8987e5d7 div.sk-parallel-item:only-child::after {width: 0;}#sk-3ce638c9-6fdc-4262-a2aa-358f8987e5d7 div.sk-dashed-wrapped {border: 1px dashed gray;margin: 0 0.4em 0.5em 0.4em;box-sizing: border-box;padding-bottom: 0.4em;background-color: white;position: relative;}#sk-3ce638c9-6fdc-4262-a2aa-358f8987e5d7 div.sk-label label {font-family: monospace;font-weight: bold;background-color: white;display: inline-block;line-height: 1.2em;}#sk-3ce638c9-6fdc-4262-a2aa-358f8987e5d7 div.sk-label-container {position: relative;z-index: 2;text-align: center;}#sk-3ce638c9-6fdc-4262-a2aa-358f8987e5d7 div.sk-container {/* jupyter's `normalize.less` sets `[hidden] { display: none; }` but bootstrap.min.css set `[hidden] { display: none !important; }` so we also need the `!important` here to be able to override the default hidden behavior on the sphinx rendered scikit-learn.org. See: https://github.com/scikit-learn/scikit-learn/issues/21755 */display: inline-block !important;position: relative;}#sk-3ce638c9-6fdc-4262-a2aa-358f8987e5d7 div.sk-text-repr-fallback {display: none;}</style><div id=\"sk-3ce638c9-6fdc-4262-a2aa-358f8987e5d7\" class=\"sk-top-container\"><div class=\"sk-text-repr-fallback\"><pre>Pipeline(steps=[(&#x27;columntransformer&#x27;,\n",
       "                 ColumnTransformer(remainder=&#x27;passthrough&#x27;,\n",
       "                                   transformers=[(&#x27;pipeline-1&#x27;,\n",
       "                                                  Pipeline(steps=[(&#x27;standardscaler&#x27;,\n",
       "                                                                   StandardScaler())]),\n",
       "                                                  &lt;sklearn.compose._column_transformer.make_column_selector object at 0x7faff4c63340&gt;),\n",
       "                                                 (&#x27;pipeline-2&#x27;,\n",
       "                                                  Pipeline(steps=[(&#x27;onehotencoder&#x27;,\n",
       "                                                                   OneHotEncoder(handle_unknown=&#x27;ignore&#x27;,\n",
       "                                                                                 sparse=False))]),\n",
       "                                                  &lt;sklearn.compose._column_transformer.make_column_selector object at 0x7faff4c63520&gt;)])),\n",
       "                (&#x27;pca&#x27;, PCA(n_components=0.95)),\n",
       "                (&#x27;decisiontreeregressor&#x27;,\n",
       "                 DecisionTreeRegressor(max_depth=4, random_state=42))])</pre><b>Please rerun this cell to show the HTML repr or trust the notebook.</b></div><div class=\"sk-container\" hidden><div class=\"sk-item sk-dashed-wrapped\"><div class=\"sk-label-container\"><div class=\"sk-label sk-toggleable\"><input class=\"sk-toggleable__control sk-hidden--visually\" id=\"30e73dd8-d168-4c7f-8de2-7242bd046a00\" type=\"checkbox\" ><label for=\"30e73dd8-d168-4c7f-8de2-7242bd046a00\" class=\"sk-toggleable__label sk-toggleable__label-arrow\">Pipeline</label><div class=\"sk-toggleable__content\"><pre>Pipeline(steps=[(&#x27;columntransformer&#x27;,\n",
       "                 ColumnTransformer(remainder=&#x27;passthrough&#x27;,\n",
       "                                   transformers=[(&#x27;pipeline-1&#x27;,\n",
       "                                                  Pipeline(steps=[(&#x27;standardscaler&#x27;,\n",
       "                                                                   StandardScaler())]),\n",
       "                                                  &lt;sklearn.compose._column_transformer.make_column_selector object at 0x7faff4c63340&gt;),\n",
       "                                                 (&#x27;pipeline-2&#x27;,\n",
       "                                                  Pipeline(steps=[(&#x27;onehotencoder&#x27;,\n",
       "                                                                   OneHotEncoder(handle_unknown=&#x27;ignore&#x27;,\n",
       "                                                                                 sparse=False))]),\n",
       "                                                  &lt;sklearn.compose._column_transformer.make_column_selector object at 0x7faff4c63520&gt;)])),\n",
       "                (&#x27;pca&#x27;, PCA(n_components=0.95)),\n",
       "                (&#x27;decisiontreeregressor&#x27;,\n",
       "                 DecisionTreeRegressor(max_depth=4, random_state=42))])</pre></div></div></div><div class=\"sk-serial\"><div class=\"sk-item sk-dashed-wrapped\"><div class=\"sk-label-container\"><div class=\"sk-label sk-toggleable\"><input class=\"sk-toggleable__control sk-hidden--visually\" id=\"d578c28d-f0a2-4ff2-9c22-b33997c1b2b5\" type=\"checkbox\" ><label for=\"d578c28d-f0a2-4ff2-9c22-b33997c1b2b5\" class=\"sk-toggleable__label sk-toggleable__label-arrow\">columntransformer: ColumnTransformer</label><div class=\"sk-toggleable__content\"><pre>ColumnTransformer(remainder=&#x27;passthrough&#x27;,\n",
       "                  transformers=[(&#x27;pipeline-1&#x27;,\n",
       "                                 Pipeline(steps=[(&#x27;standardscaler&#x27;,\n",
       "                                                  StandardScaler())]),\n",
       "                                 &lt;sklearn.compose._column_transformer.make_column_selector object at 0x7faff4c63340&gt;),\n",
       "                                (&#x27;pipeline-2&#x27;,\n",
       "                                 Pipeline(steps=[(&#x27;onehotencoder&#x27;,\n",
       "                                                  OneHotEncoder(handle_unknown=&#x27;ignore&#x27;,\n",
       "                                                                sparse=False))]),\n",
       "                                 &lt;sklearn.compose._column_transformer.make_column_selector object at 0x7faff4c63520&gt;)])</pre></div></div></div><div class=\"sk-parallel\"><div class=\"sk-parallel-item\"><div class=\"sk-item\"><div class=\"sk-label-container\"><div class=\"sk-label sk-toggleable\"><input class=\"sk-toggleable__control sk-hidden--visually\" id=\"3b64b992-308c-4df0-a8d1-0b1f0c77597a\" type=\"checkbox\" ><label for=\"3b64b992-308c-4df0-a8d1-0b1f0c77597a\" class=\"sk-toggleable__label sk-toggleable__label-arrow\">pipeline-1</label><div class=\"sk-toggleable__content\"><pre>&lt;sklearn.compose._column_transformer.make_column_selector object at 0x7faff4c63340&gt;</pre></div></div></div><div class=\"sk-serial\"><div class=\"sk-item\"><div class=\"sk-serial\"><div class=\"sk-item\"><div class=\"sk-estimator sk-toggleable\"><input class=\"sk-toggleable__control sk-hidden--visually\" id=\"cdf84f89-972b-4bbb-90ae-de5f3046b5ca\" type=\"checkbox\" ><label for=\"cdf84f89-972b-4bbb-90ae-de5f3046b5ca\" class=\"sk-toggleable__label sk-toggleable__label-arrow\">StandardScaler</label><div class=\"sk-toggleable__content\"><pre>StandardScaler()</pre></div></div></div></div></div></div></div></div><div class=\"sk-parallel-item\"><div class=\"sk-item\"><div class=\"sk-label-container\"><div class=\"sk-label sk-toggleable\"><input class=\"sk-toggleable__control sk-hidden--visually\" id=\"7dbdd214-1cf2-48e7-809e-c2183694e483\" type=\"checkbox\" ><label for=\"7dbdd214-1cf2-48e7-809e-c2183694e483\" class=\"sk-toggleable__label sk-toggleable__label-arrow\">pipeline-2</label><div class=\"sk-toggleable__content\"><pre>&lt;sklearn.compose._column_transformer.make_column_selector object at 0x7faff4c63520&gt;</pre></div></div></div><div class=\"sk-serial\"><div class=\"sk-item\"><div class=\"sk-serial\"><div class=\"sk-item\"><div class=\"sk-estimator sk-toggleable\"><input class=\"sk-toggleable__control sk-hidden--visually\" id=\"c23b29d8-b0fa-430c-a554-12514bb16a40\" type=\"checkbox\" ><label for=\"c23b29d8-b0fa-430c-a554-12514bb16a40\" class=\"sk-toggleable__label sk-toggleable__label-arrow\">OneHotEncoder</label><div class=\"sk-toggleable__content\"><pre>OneHotEncoder(handle_unknown=&#x27;ignore&#x27;, sparse=False)</pre></div></div></div></div></div></div></div></div><div class=\"sk-parallel-item\"><div class=\"sk-item\"><div class=\"sk-label-container\"><div class=\"sk-label sk-toggleable\"><input class=\"sk-toggleable__control sk-hidden--visually\" id=\"fa3f6b59-e1b7-47b0-88a5-fb2e7c861683\" type=\"checkbox\" ><label for=\"fa3f6b59-e1b7-47b0-88a5-fb2e7c861683\" class=\"sk-toggleable__label sk-toggleable__label-arrow\">remainder</label><div class=\"sk-toggleable__content\"><pre>[]</pre></div></div></div><div class=\"sk-serial\"><div class=\"sk-item\"><div class=\"sk-estimator sk-toggleable\"><input class=\"sk-toggleable__control sk-hidden--visually\" id=\"9922d244-0542-4fc7-8b7a-d9827f099b37\" type=\"checkbox\" ><label for=\"9922d244-0542-4fc7-8b7a-d9827f099b37\" class=\"sk-toggleable__label sk-toggleable__label-arrow\">passthrough</label><div class=\"sk-toggleable__content\"><pre>passthrough</pre></div></div></div></div></div></div></div></div><div class=\"sk-item\"><div class=\"sk-estimator sk-toggleable\"><input class=\"sk-toggleable__control sk-hidden--visually\" id=\"f0d458b9-005d-4e06-ba9f-565a9c7faae1\" type=\"checkbox\" ><label for=\"f0d458b9-005d-4e06-ba9f-565a9c7faae1\" class=\"sk-toggleable__label sk-toggleable__label-arrow\">PCA</label><div class=\"sk-toggleable__content\"><pre>PCA(n_components=0.95)</pre></div></div></div><div class=\"sk-item\"><div class=\"sk-estimator sk-toggleable\"><input class=\"sk-toggleable__control sk-hidden--visually\" id=\"69fff89d-2371-4ba5-a976-5ac51701455b\" type=\"checkbox\" ><label for=\"69fff89d-2371-4ba5-a976-5ac51701455b\" class=\"sk-toggleable__label sk-toggleable__label-arrow\">DecisionTreeRegressor</label><div class=\"sk-toggleable__content\"><pre>DecisionTreeRegressor(max_depth=4, random_state=42)</pre></div></div></div></div></div></div></div>"
      ],
      "text/plain": [
       "Pipeline(steps=[('columntransformer',\n",
       "                 ColumnTransformer(remainder='passthrough',\n",
       "                                   transformers=[('pipeline-1',\n",
       "                                                  Pipeline(steps=[('standardscaler',\n",
       "                                                                   StandardScaler())]),\n",
       "                                                  <sklearn.compose._column_transformer.make_column_selector object at 0x7faff4c63340>),\n",
       "                                                 ('pipeline-2',\n",
       "                                                  Pipeline(steps=[('onehotencoder',\n",
       "                                                                   OneHotEncoder(handle_unknown='ignore',\n",
       "                                                                                 sparse=False))]),\n",
       "                                                  <sklearn.compose._column_transformer.make_column_selector object at 0x7faff4c63520>)])),\n",
       "                ('pca', PCA(n_components=0.95)),\n",
       "                ('decisiontreeregressor',\n",
       "                 DecisionTreeRegressor(max_depth=4, random_state=42))])"
      ]
     },
     "execution_count": 63,
     "metadata": {},
     "output_type": "execute_result"
    }
   ],
   "source": [
    "#Decision Tree Model with optimal depth with PCA\n",
    "opt_dec_tree = DecisionTreeRegressor(max_depth=4, random_state=42)\n",
    "#Create Pipeline\n",
    "opt_dec_pipe = make_pipeline(dec_preprocessor, pca, opt_dec_tree)\n",
    "#fit the model\n",
    "opt_dec_pipe.fit(X_train, y_train)"
   ]
  },
  {
   "cell_type": "code",
   "execution_count": 64,
   "id": "6e498d66",
   "metadata": {},
   "outputs": [
    {
     "name": "stdout",
     "output_type": "stream",
     "text": [
      "Regression Tree Training Results\n",
      "RMSE Score: 0.10829826456486874\n",
      "R^2 Score: 0.49168792136188233\n",
      "\n",
      "Regression Tree Testing Results\n",
      "RMSE Score:  0.11399108872532693\n",
      "R^2 Score: 0.4197152906207132\n",
      "\n",
      "CPU times: user 111 ms, sys: 13.2 ms, total: 124 ms\n",
      "Wall time: 86.4 ms\n"
     ]
    }
   ],
   "source": [
    "%%time\n",
    "#Predictions \n",
    "opt_dec_train_score = eval_regression(y_train, opt_dec_pipe.predict(X_train))\n",
    "opt_dec_test_score = eval_regression(y_test, opt_dec_pipe.predict(X_test))\n",
    "print('Regression Tree Training Results')\n",
    "print(f'RMSE Score: {opt_dec_train_score[0]}')\n",
    "print(f'R^2 Score: {opt_dec_train_score[1]}\\n')\n",
    "\n",
    "print('Regression Tree Testing Results')\n",
    "print(f'RMSE Score:  {opt_dec_test_score[0]}')\n",
    "print(f'R^2 Score: {opt_dec_test_score[1]}\\n')"
   ]
  },
  {
   "cell_type": "code",
   "execution_count": 65,
   "id": "bd384cb3",
   "metadata": {},
   "outputs": [
    {
     "data": {
      "text/html": [
       "<div>\n",
       "<style scoped>\n",
       "    .dataframe tbody tr th:only-of-type {\n",
       "        vertical-align: middle;\n",
       "    }\n",
       "\n",
       "    .dataframe tbody tr th {\n",
       "        vertical-align: top;\n",
       "    }\n",
       "\n",
       "    .dataframe thead th {\n",
       "        text-align: right;\n",
       "    }\n",
       "</style>\n",
       "<table border=\"1\" class=\"dataframe\">\n",
       "  <thead>\n",
       "    <tr style=\"text-align: right;\">\n",
       "      <th></th>\n",
       "      <th>RMSE</th>\n",
       "      <th>R^2</th>\n",
       "    </tr>\n",
       "  </thead>\n",
       "  <tbody>\n",
       "    <tr>\n",
       "      <th>Reg Train</th>\n",
       "      <td>0.0</td>\n",
       "      <td>1.0</td>\n",
       "    </tr>\n",
       "    <tr>\n",
       "      <th>Reg Test</th>\n",
       "      <td>0.127464</td>\n",
       "      <td>0.274438</td>\n",
       "    </tr>\n",
       "    <tr>\n",
       "      <th>Reg PCA Train</th>\n",
       "      <td>0.0</td>\n",
       "      <td>1.0</td>\n",
       "    </tr>\n",
       "    <tr>\n",
       "      <th>Reg PCA Test</th>\n",
       "      <td>0.122236</td>\n",
       "      <td>0.332732</td>\n",
       "    </tr>\n",
       "    <tr>\n",
       "      <th>OPT Reg Train</th>\n",
       "      <td>0.108298</td>\n",
       "      <td>0.491688</td>\n",
       "    </tr>\n",
       "    <tr>\n",
       "      <th>OPT Reg Test</th>\n",
       "      <td>0.113991</td>\n",
       "      <td>0.419715</td>\n",
       "    </tr>\n",
       "  </tbody>\n",
       "</table>\n",
       "</div>"
      ],
      "text/plain": [
       "                   RMSE       R^2\n",
       "Reg Train           0.0       1.0\n",
       "Reg Test       0.127464  0.274438\n",
       "Reg PCA Train       0.0       1.0\n",
       "Reg PCA Test   0.122236  0.332732\n",
       "OPT Reg Train  0.108298  0.491688\n",
       "OPT Reg Test   0.113991  0.419715"
      ]
     },
     "execution_count": 65,
     "metadata": {},
     "output_type": "execute_result"
    }
   ],
   "source": [
    "#Keeping track of scores\n",
    "scores_df.loc['OPT Reg Train'] = [opt_dec_train_score[0], opt_dec_train_score[1]]\n",
    "scores_df.loc['OPT Reg Test'] = [opt_dec_test_score[0], opt_dec_test_score[1]]\n",
    "scores_df"
   ]
  },
  {
   "cell_type": "markdown",
   "id": "731b8781",
   "metadata": {},
   "source": [
    "## Method 2 - Linear Regression"
   ]
  },
  {
   "cell_type": "markdown",
   "id": "83f2c793",
   "metadata": {},
   "source": [
    "### Linear Regression - Default Model"
   ]
  },
  {
   "cell_type": "code",
   "execution_count": 66,
   "id": "1a0890be",
   "metadata": {},
   "outputs": [],
   "source": [
    "#Pipelines for Linear Regreassion\n",
    "lr_cat_pipe = make_pipeline(ohe, scaler)\n",
    "lr_num_pipe = make_pipeline(scaler)"
   ]
  },
  {
   "cell_type": "code",
   "execution_count": 67,
   "id": "65583c62",
   "metadata": {},
   "outputs": [],
   "source": [
    "#Tuples\n",
    "lr_num_tuple = (lr_num_pipe, num_selector)\n",
    "lr_cat_tuple = (lr_cat_pipe, cat_selector)"
   ]
  },
  {
   "cell_type": "code",
   "execution_count": 68,
   "id": "d889c2d5",
   "metadata": {},
   "outputs": [
    {
     "data": {
      "text/html": [
       "<style>#sk-9e27a6a9-5d7f-413f-af38-fddcf3d5ade3 {color: black;background-color: white;}#sk-9e27a6a9-5d7f-413f-af38-fddcf3d5ade3 pre{padding: 0;}#sk-9e27a6a9-5d7f-413f-af38-fddcf3d5ade3 div.sk-toggleable {background-color: white;}#sk-9e27a6a9-5d7f-413f-af38-fddcf3d5ade3 label.sk-toggleable__label {cursor: pointer;display: block;width: 100%;margin-bottom: 0;padding: 0.3em;box-sizing: border-box;text-align: center;}#sk-9e27a6a9-5d7f-413f-af38-fddcf3d5ade3 label.sk-toggleable__label-arrow:before {content: \"▸\";float: left;margin-right: 0.25em;color: #696969;}#sk-9e27a6a9-5d7f-413f-af38-fddcf3d5ade3 label.sk-toggleable__label-arrow:hover:before {color: black;}#sk-9e27a6a9-5d7f-413f-af38-fddcf3d5ade3 div.sk-estimator:hover label.sk-toggleable__label-arrow:before {color: black;}#sk-9e27a6a9-5d7f-413f-af38-fddcf3d5ade3 div.sk-toggleable__content {max-height: 0;max-width: 0;overflow: hidden;text-align: left;background-color: #f0f8ff;}#sk-9e27a6a9-5d7f-413f-af38-fddcf3d5ade3 div.sk-toggleable__content pre {margin: 0.2em;color: black;border-radius: 0.25em;background-color: #f0f8ff;}#sk-9e27a6a9-5d7f-413f-af38-fddcf3d5ade3 input.sk-toggleable__control:checked~div.sk-toggleable__content {max-height: 200px;max-width: 100%;overflow: auto;}#sk-9e27a6a9-5d7f-413f-af38-fddcf3d5ade3 input.sk-toggleable__control:checked~label.sk-toggleable__label-arrow:before {content: \"▾\";}#sk-9e27a6a9-5d7f-413f-af38-fddcf3d5ade3 div.sk-estimator input.sk-toggleable__control:checked~label.sk-toggleable__label {background-color: #d4ebff;}#sk-9e27a6a9-5d7f-413f-af38-fddcf3d5ade3 div.sk-label input.sk-toggleable__control:checked~label.sk-toggleable__label {background-color: #d4ebff;}#sk-9e27a6a9-5d7f-413f-af38-fddcf3d5ade3 input.sk-hidden--visually {border: 0;clip: rect(1px 1px 1px 1px);clip: rect(1px, 1px, 1px, 1px);height: 1px;margin: -1px;overflow: hidden;padding: 0;position: absolute;width: 1px;}#sk-9e27a6a9-5d7f-413f-af38-fddcf3d5ade3 div.sk-estimator {font-family: monospace;background-color: #f0f8ff;border: 1px dotted black;border-radius: 0.25em;box-sizing: border-box;margin-bottom: 0.5em;}#sk-9e27a6a9-5d7f-413f-af38-fddcf3d5ade3 div.sk-estimator:hover {background-color: #d4ebff;}#sk-9e27a6a9-5d7f-413f-af38-fddcf3d5ade3 div.sk-parallel-item::after {content: \"\";width: 100%;border-bottom: 1px solid gray;flex-grow: 1;}#sk-9e27a6a9-5d7f-413f-af38-fddcf3d5ade3 div.sk-label:hover label.sk-toggleable__label {background-color: #d4ebff;}#sk-9e27a6a9-5d7f-413f-af38-fddcf3d5ade3 div.sk-serial::before {content: \"\";position: absolute;border-left: 1px solid gray;box-sizing: border-box;top: 2em;bottom: 0;left: 50%;}#sk-9e27a6a9-5d7f-413f-af38-fddcf3d5ade3 div.sk-serial {display: flex;flex-direction: column;align-items: center;background-color: white;padding-right: 0.2em;padding-left: 0.2em;}#sk-9e27a6a9-5d7f-413f-af38-fddcf3d5ade3 div.sk-item {z-index: 1;}#sk-9e27a6a9-5d7f-413f-af38-fddcf3d5ade3 div.sk-parallel {display: flex;align-items: stretch;justify-content: center;background-color: white;}#sk-9e27a6a9-5d7f-413f-af38-fddcf3d5ade3 div.sk-parallel::before {content: \"\";position: absolute;border-left: 1px solid gray;box-sizing: border-box;top: 2em;bottom: 0;left: 50%;}#sk-9e27a6a9-5d7f-413f-af38-fddcf3d5ade3 div.sk-parallel-item {display: flex;flex-direction: column;position: relative;background-color: white;}#sk-9e27a6a9-5d7f-413f-af38-fddcf3d5ade3 div.sk-parallel-item:first-child::after {align-self: flex-end;width: 50%;}#sk-9e27a6a9-5d7f-413f-af38-fddcf3d5ade3 div.sk-parallel-item:last-child::after {align-self: flex-start;width: 50%;}#sk-9e27a6a9-5d7f-413f-af38-fddcf3d5ade3 div.sk-parallel-item:only-child::after {width: 0;}#sk-9e27a6a9-5d7f-413f-af38-fddcf3d5ade3 div.sk-dashed-wrapped {border: 1px dashed gray;margin: 0 0.4em 0.5em 0.4em;box-sizing: border-box;padding-bottom: 0.4em;background-color: white;position: relative;}#sk-9e27a6a9-5d7f-413f-af38-fddcf3d5ade3 div.sk-label label {font-family: monospace;font-weight: bold;background-color: white;display: inline-block;line-height: 1.2em;}#sk-9e27a6a9-5d7f-413f-af38-fddcf3d5ade3 div.sk-label-container {position: relative;z-index: 2;text-align: center;}#sk-9e27a6a9-5d7f-413f-af38-fddcf3d5ade3 div.sk-container {/* jupyter's `normalize.less` sets `[hidden] { display: none; }` but bootstrap.min.css set `[hidden] { display: none !important; }` so we also need the `!important` here to be able to override the default hidden behavior on the sphinx rendered scikit-learn.org. See: https://github.com/scikit-learn/scikit-learn/issues/21755 */display: inline-block !important;position: relative;}#sk-9e27a6a9-5d7f-413f-af38-fddcf3d5ade3 div.sk-text-repr-fallback {display: none;}</style><div id=\"sk-9e27a6a9-5d7f-413f-af38-fddcf3d5ade3\" class=\"sk-top-container\"><div class=\"sk-text-repr-fallback\"><pre>ColumnTransformer(remainder=&#x27;passthrough&#x27;,\n",
       "                  transformers=[(&#x27;pipeline-1&#x27;,\n",
       "                                 Pipeline(steps=[(&#x27;onehotencoder&#x27;,\n",
       "                                                  OneHotEncoder(handle_unknown=&#x27;ignore&#x27;,\n",
       "                                                                sparse=False)),\n",
       "                                                 (&#x27;standardscaler&#x27;,\n",
       "                                                  StandardScaler())]),\n",
       "                                 &lt;sklearn.compose._column_transformer.make_column_selector object at 0x7faff4c63520&gt;),\n",
       "                                (&#x27;pipeline-2&#x27;,\n",
       "                                 Pipeline(steps=[(&#x27;standardscaler&#x27;,\n",
       "                                                  StandardScaler())]),\n",
       "                                 &lt;sklearn.compose._column_transformer.make_column_selector object at 0x7faff4c63340&gt;)])</pre><b>Please rerun this cell to show the HTML repr or trust the notebook.</b></div><div class=\"sk-container\" hidden><div class=\"sk-item sk-dashed-wrapped\"><div class=\"sk-label-container\"><div class=\"sk-label sk-toggleable\"><input class=\"sk-toggleable__control sk-hidden--visually\" id=\"b8d992cc-1ca7-4a1e-aae0-3050f812b031\" type=\"checkbox\" ><label for=\"b8d992cc-1ca7-4a1e-aae0-3050f812b031\" class=\"sk-toggleable__label sk-toggleable__label-arrow\">ColumnTransformer</label><div class=\"sk-toggleable__content\"><pre>ColumnTransformer(remainder=&#x27;passthrough&#x27;,\n",
       "                  transformers=[(&#x27;pipeline-1&#x27;,\n",
       "                                 Pipeline(steps=[(&#x27;onehotencoder&#x27;,\n",
       "                                                  OneHotEncoder(handle_unknown=&#x27;ignore&#x27;,\n",
       "                                                                sparse=False)),\n",
       "                                                 (&#x27;standardscaler&#x27;,\n",
       "                                                  StandardScaler())]),\n",
       "                                 &lt;sklearn.compose._column_transformer.make_column_selector object at 0x7faff4c63520&gt;),\n",
       "                                (&#x27;pipeline-2&#x27;,\n",
       "                                 Pipeline(steps=[(&#x27;standardscaler&#x27;,\n",
       "                                                  StandardScaler())]),\n",
       "                                 &lt;sklearn.compose._column_transformer.make_column_selector object at 0x7faff4c63340&gt;)])</pre></div></div></div><div class=\"sk-parallel\"><div class=\"sk-parallel-item\"><div class=\"sk-item\"><div class=\"sk-label-container\"><div class=\"sk-label sk-toggleable\"><input class=\"sk-toggleable__control sk-hidden--visually\" id=\"65842ce7-2ef8-4e04-b797-f8cdab187624\" type=\"checkbox\" ><label for=\"65842ce7-2ef8-4e04-b797-f8cdab187624\" class=\"sk-toggleable__label sk-toggleable__label-arrow\">pipeline-1</label><div class=\"sk-toggleable__content\"><pre>&lt;sklearn.compose._column_transformer.make_column_selector object at 0x7faff4c63520&gt;</pre></div></div></div><div class=\"sk-serial\"><div class=\"sk-item\"><div class=\"sk-serial\"><div class=\"sk-item\"><div class=\"sk-estimator sk-toggleable\"><input class=\"sk-toggleable__control sk-hidden--visually\" id=\"1fe11e5a-f133-49fe-8bed-18de111ffdc7\" type=\"checkbox\" ><label for=\"1fe11e5a-f133-49fe-8bed-18de111ffdc7\" class=\"sk-toggleable__label sk-toggleable__label-arrow\">OneHotEncoder</label><div class=\"sk-toggleable__content\"><pre>OneHotEncoder(handle_unknown=&#x27;ignore&#x27;, sparse=False)</pre></div></div></div><div class=\"sk-item\"><div class=\"sk-estimator sk-toggleable\"><input class=\"sk-toggleable__control sk-hidden--visually\" id=\"5270ce57-2c86-4395-89e1-4111c036283f\" type=\"checkbox\" ><label for=\"5270ce57-2c86-4395-89e1-4111c036283f\" class=\"sk-toggleable__label sk-toggleable__label-arrow\">StandardScaler</label><div class=\"sk-toggleable__content\"><pre>StandardScaler()</pre></div></div></div></div></div></div></div></div><div class=\"sk-parallel-item\"><div class=\"sk-item\"><div class=\"sk-label-container\"><div class=\"sk-label sk-toggleable\"><input class=\"sk-toggleable__control sk-hidden--visually\" id=\"ccab8448-e440-4ea7-a613-8a2a71142c5f\" type=\"checkbox\" ><label for=\"ccab8448-e440-4ea7-a613-8a2a71142c5f\" class=\"sk-toggleable__label sk-toggleable__label-arrow\">pipeline-2</label><div class=\"sk-toggleable__content\"><pre>&lt;sklearn.compose._column_transformer.make_column_selector object at 0x7faff4c63340&gt;</pre></div></div></div><div class=\"sk-serial\"><div class=\"sk-item\"><div class=\"sk-serial\"><div class=\"sk-item\"><div class=\"sk-estimator sk-toggleable\"><input class=\"sk-toggleable__control sk-hidden--visually\" id=\"d5d8d707-3437-4917-b4c0-ec864e187be5\" type=\"checkbox\" ><label for=\"d5d8d707-3437-4917-b4c0-ec864e187be5\" class=\"sk-toggleable__label sk-toggleable__label-arrow\">StandardScaler</label><div class=\"sk-toggleable__content\"><pre>StandardScaler()</pre></div></div></div></div></div></div></div></div><div class=\"sk-parallel-item\"><div class=\"sk-item\"><div class=\"sk-label-container\"><div class=\"sk-label sk-toggleable\"><input class=\"sk-toggleable__control sk-hidden--visually\" id=\"4c26e1f8-1767-45f3-bd3f-c8f28719cefe\" type=\"checkbox\" ><label for=\"4c26e1f8-1767-45f3-bd3f-c8f28719cefe\" class=\"sk-toggleable__label sk-toggleable__label-arrow\">remainder</label><div class=\"sk-toggleable__content\"><pre></pre></div></div></div><div class=\"sk-serial\"><div class=\"sk-item\"><div class=\"sk-estimator sk-toggleable\"><input class=\"sk-toggleable__control sk-hidden--visually\" id=\"67e5b47e-46a4-4384-a3de-7527f8afca0f\" type=\"checkbox\" ><label for=\"67e5b47e-46a4-4384-a3de-7527f8afca0f\" class=\"sk-toggleable__label sk-toggleable__label-arrow\">passthrough</label><div class=\"sk-toggleable__content\"><pre>passthrough</pre></div></div></div></div></div></div></div></div></div></div>"
      ],
      "text/plain": [
       "ColumnTransformer(remainder='passthrough',\n",
       "                  transformers=[('pipeline-1',\n",
       "                                 Pipeline(steps=[('onehotencoder',\n",
       "                                                  OneHotEncoder(handle_unknown='ignore',\n",
       "                                                                sparse=False)),\n",
       "                                                 ('standardscaler',\n",
       "                                                  StandardScaler())]),\n",
       "                                 <sklearn.compose._column_transformer.make_column_selector object at 0x7faff4c63520>),\n",
       "                                ('pipeline-2',\n",
       "                                 Pipeline(steps=[('standardscaler',\n",
       "                                                  StandardScaler())]),\n",
       "                                 <sklearn.compose._column_transformer.make_column_selector object at 0x7faff4c63340>)])"
      ]
     },
     "execution_count": 68,
     "metadata": {},
     "output_type": "execute_result"
    }
   ],
   "source": [
    "lr_preprocessor = make_column_transformer(lr_cat_tuple, lr_num_tuple, remainder='passthrough')\n",
    "lr_preprocessor"
   ]
  },
  {
   "cell_type": "code",
   "execution_count": 69,
   "id": "f97f017c",
   "metadata": {},
   "outputs": [],
   "source": [
    "#Instantiate Linear Regression Model\n",
    "lr = LinearRegression()\n",
    "#LR Pipeline\n",
    "lr_pipe = make_pipeline(lr_preprocessor, lr)"
   ]
  },
  {
   "cell_type": "code",
   "execution_count": 70,
   "id": "fea8e8fb",
   "metadata": {},
   "outputs": [
    {
     "data": {
      "text/html": [
       "<style>#sk-98d48222-8883-4184-80ce-bde13aae3fd4 {color: black;background-color: white;}#sk-98d48222-8883-4184-80ce-bde13aae3fd4 pre{padding: 0;}#sk-98d48222-8883-4184-80ce-bde13aae3fd4 div.sk-toggleable {background-color: white;}#sk-98d48222-8883-4184-80ce-bde13aae3fd4 label.sk-toggleable__label {cursor: pointer;display: block;width: 100%;margin-bottom: 0;padding: 0.3em;box-sizing: border-box;text-align: center;}#sk-98d48222-8883-4184-80ce-bde13aae3fd4 label.sk-toggleable__label-arrow:before {content: \"▸\";float: left;margin-right: 0.25em;color: #696969;}#sk-98d48222-8883-4184-80ce-bde13aae3fd4 label.sk-toggleable__label-arrow:hover:before {color: black;}#sk-98d48222-8883-4184-80ce-bde13aae3fd4 div.sk-estimator:hover label.sk-toggleable__label-arrow:before {color: black;}#sk-98d48222-8883-4184-80ce-bde13aae3fd4 div.sk-toggleable__content {max-height: 0;max-width: 0;overflow: hidden;text-align: left;background-color: #f0f8ff;}#sk-98d48222-8883-4184-80ce-bde13aae3fd4 div.sk-toggleable__content pre {margin: 0.2em;color: black;border-radius: 0.25em;background-color: #f0f8ff;}#sk-98d48222-8883-4184-80ce-bde13aae3fd4 input.sk-toggleable__control:checked~div.sk-toggleable__content {max-height: 200px;max-width: 100%;overflow: auto;}#sk-98d48222-8883-4184-80ce-bde13aae3fd4 input.sk-toggleable__control:checked~label.sk-toggleable__label-arrow:before {content: \"▾\";}#sk-98d48222-8883-4184-80ce-bde13aae3fd4 div.sk-estimator input.sk-toggleable__control:checked~label.sk-toggleable__label {background-color: #d4ebff;}#sk-98d48222-8883-4184-80ce-bde13aae3fd4 div.sk-label input.sk-toggleable__control:checked~label.sk-toggleable__label {background-color: #d4ebff;}#sk-98d48222-8883-4184-80ce-bde13aae3fd4 input.sk-hidden--visually {border: 0;clip: rect(1px 1px 1px 1px);clip: rect(1px, 1px, 1px, 1px);height: 1px;margin: -1px;overflow: hidden;padding: 0;position: absolute;width: 1px;}#sk-98d48222-8883-4184-80ce-bde13aae3fd4 div.sk-estimator {font-family: monospace;background-color: #f0f8ff;border: 1px dotted black;border-radius: 0.25em;box-sizing: border-box;margin-bottom: 0.5em;}#sk-98d48222-8883-4184-80ce-bde13aae3fd4 div.sk-estimator:hover {background-color: #d4ebff;}#sk-98d48222-8883-4184-80ce-bde13aae3fd4 div.sk-parallel-item::after {content: \"\";width: 100%;border-bottom: 1px solid gray;flex-grow: 1;}#sk-98d48222-8883-4184-80ce-bde13aae3fd4 div.sk-label:hover label.sk-toggleable__label {background-color: #d4ebff;}#sk-98d48222-8883-4184-80ce-bde13aae3fd4 div.sk-serial::before {content: \"\";position: absolute;border-left: 1px solid gray;box-sizing: border-box;top: 2em;bottom: 0;left: 50%;}#sk-98d48222-8883-4184-80ce-bde13aae3fd4 div.sk-serial {display: flex;flex-direction: column;align-items: center;background-color: white;padding-right: 0.2em;padding-left: 0.2em;}#sk-98d48222-8883-4184-80ce-bde13aae3fd4 div.sk-item {z-index: 1;}#sk-98d48222-8883-4184-80ce-bde13aae3fd4 div.sk-parallel {display: flex;align-items: stretch;justify-content: center;background-color: white;}#sk-98d48222-8883-4184-80ce-bde13aae3fd4 div.sk-parallel::before {content: \"\";position: absolute;border-left: 1px solid gray;box-sizing: border-box;top: 2em;bottom: 0;left: 50%;}#sk-98d48222-8883-4184-80ce-bde13aae3fd4 div.sk-parallel-item {display: flex;flex-direction: column;position: relative;background-color: white;}#sk-98d48222-8883-4184-80ce-bde13aae3fd4 div.sk-parallel-item:first-child::after {align-self: flex-end;width: 50%;}#sk-98d48222-8883-4184-80ce-bde13aae3fd4 div.sk-parallel-item:last-child::after {align-self: flex-start;width: 50%;}#sk-98d48222-8883-4184-80ce-bde13aae3fd4 div.sk-parallel-item:only-child::after {width: 0;}#sk-98d48222-8883-4184-80ce-bde13aae3fd4 div.sk-dashed-wrapped {border: 1px dashed gray;margin: 0 0.4em 0.5em 0.4em;box-sizing: border-box;padding-bottom: 0.4em;background-color: white;position: relative;}#sk-98d48222-8883-4184-80ce-bde13aae3fd4 div.sk-label label {font-family: monospace;font-weight: bold;background-color: white;display: inline-block;line-height: 1.2em;}#sk-98d48222-8883-4184-80ce-bde13aae3fd4 div.sk-label-container {position: relative;z-index: 2;text-align: center;}#sk-98d48222-8883-4184-80ce-bde13aae3fd4 div.sk-container {/* jupyter's `normalize.less` sets `[hidden] { display: none; }` but bootstrap.min.css set `[hidden] { display: none !important; }` so we also need the `!important` here to be able to override the default hidden behavior on the sphinx rendered scikit-learn.org. See: https://github.com/scikit-learn/scikit-learn/issues/21755 */display: inline-block !important;position: relative;}#sk-98d48222-8883-4184-80ce-bde13aae3fd4 div.sk-text-repr-fallback {display: none;}</style><div id=\"sk-98d48222-8883-4184-80ce-bde13aae3fd4\" class=\"sk-top-container\"><div class=\"sk-text-repr-fallback\"><pre>Pipeline(steps=[(&#x27;columntransformer&#x27;,\n",
       "                 ColumnTransformer(remainder=&#x27;passthrough&#x27;,\n",
       "                                   transformers=[(&#x27;pipeline-1&#x27;,\n",
       "                                                  Pipeline(steps=[(&#x27;onehotencoder&#x27;,\n",
       "                                                                   OneHotEncoder(handle_unknown=&#x27;ignore&#x27;,\n",
       "                                                                                 sparse=False)),\n",
       "                                                                  (&#x27;standardscaler&#x27;,\n",
       "                                                                   StandardScaler())]),\n",
       "                                                  &lt;sklearn.compose._column_transformer.make_column_selector object at 0x7faff4c63520&gt;),\n",
       "                                                 (&#x27;pipeline-2&#x27;,\n",
       "                                                  Pipeline(steps=[(&#x27;standardscaler&#x27;,\n",
       "                                                                   StandardScaler())]),\n",
       "                                                  &lt;sklearn.compose._column_transformer.make_column_selector object at 0x7faff4c63340&gt;)])),\n",
       "                (&#x27;linearregression&#x27;, LinearRegression())])</pre><b>Please rerun this cell to show the HTML repr or trust the notebook.</b></div><div class=\"sk-container\" hidden><div class=\"sk-item sk-dashed-wrapped\"><div class=\"sk-label-container\"><div class=\"sk-label sk-toggleable\"><input class=\"sk-toggleable__control sk-hidden--visually\" id=\"64f68782-8a89-46b3-b49b-c3b84d501120\" type=\"checkbox\" ><label for=\"64f68782-8a89-46b3-b49b-c3b84d501120\" class=\"sk-toggleable__label sk-toggleable__label-arrow\">Pipeline</label><div class=\"sk-toggleable__content\"><pre>Pipeline(steps=[(&#x27;columntransformer&#x27;,\n",
       "                 ColumnTransformer(remainder=&#x27;passthrough&#x27;,\n",
       "                                   transformers=[(&#x27;pipeline-1&#x27;,\n",
       "                                                  Pipeline(steps=[(&#x27;onehotencoder&#x27;,\n",
       "                                                                   OneHotEncoder(handle_unknown=&#x27;ignore&#x27;,\n",
       "                                                                                 sparse=False)),\n",
       "                                                                  (&#x27;standardscaler&#x27;,\n",
       "                                                                   StandardScaler())]),\n",
       "                                                  &lt;sklearn.compose._column_transformer.make_column_selector object at 0x7faff4c63520&gt;),\n",
       "                                                 (&#x27;pipeline-2&#x27;,\n",
       "                                                  Pipeline(steps=[(&#x27;standardscaler&#x27;,\n",
       "                                                                   StandardScaler())]),\n",
       "                                                  &lt;sklearn.compose._column_transformer.make_column_selector object at 0x7faff4c63340&gt;)])),\n",
       "                (&#x27;linearregression&#x27;, LinearRegression())])</pre></div></div></div><div class=\"sk-serial\"><div class=\"sk-item sk-dashed-wrapped\"><div class=\"sk-label-container\"><div class=\"sk-label sk-toggleable\"><input class=\"sk-toggleable__control sk-hidden--visually\" id=\"0bdf3ba0-d393-4eb3-863f-d6566d7f3738\" type=\"checkbox\" ><label for=\"0bdf3ba0-d393-4eb3-863f-d6566d7f3738\" class=\"sk-toggleable__label sk-toggleable__label-arrow\">columntransformer: ColumnTransformer</label><div class=\"sk-toggleable__content\"><pre>ColumnTransformer(remainder=&#x27;passthrough&#x27;,\n",
       "                  transformers=[(&#x27;pipeline-1&#x27;,\n",
       "                                 Pipeline(steps=[(&#x27;onehotencoder&#x27;,\n",
       "                                                  OneHotEncoder(handle_unknown=&#x27;ignore&#x27;,\n",
       "                                                                sparse=False)),\n",
       "                                                 (&#x27;standardscaler&#x27;,\n",
       "                                                  StandardScaler())]),\n",
       "                                 &lt;sklearn.compose._column_transformer.make_column_selector object at 0x7faff4c63520&gt;),\n",
       "                                (&#x27;pipeline-2&#x27;,\n",
       "                                 Pipeline(steps=[(&#x27;standardscaler&#x27;,\n",
       "                                                  StandardScaler())]),\n",
       "                                 &lt;sklearn.compose._column_transformer.make_column_selector object at 0x7faff4c63340&gt;)])</pre></div></div></div><div class=\"sk-parallel\"><div class=\"sk-parallel-item\"><div class=\"sk-item\"><div class=\"sk-label-container\"><div class=\"sk-label sk-toggleable\"><input class=\"sk-toggleable__control sk-hidden--visually\" id=\"15b350a9-79ec-41cf-a1b2-c45cbf7dc272\" type=\"checkbox\" ><label for=\"15b350a9-79ec-41cf-a1b2-c45cbf7dc272\" class=\"sk-toggleable__label sk-toggleable__label-arrow\">pipeline-1</label><div class=\"sk-toggleable__content\"><pre>&lt;sklearn.compose._column_transformer.make_column_selector object at 0x7faff4c63520&gt;</pre></div></div></div><div class=\"sk-serial\"><div class=\"sk-item\"><div class=\"sk-serial\"><div class=\"sk-item\"><div class=\"sk-estimator sk-toggleable\"><input class=\"sk-toggleable__control sk-hidden--visually\" id=\"22020126-f41c-48af-ac05-5320d1c7a2a7\" type=\"checkbox\" ><label for=\"22020126-f41c-48af-ac05-5320d1c7a2a7\" class=\"sk-toggleable__label sk-toggleable__label-arrow\">OneHotEncoder</label><div class=\"sk-toggleable__content\"><pre>OneHotEncoder(handle_unknown=&#x27;ignore&#x27;, sparse=False)</pre></div></div></div><div class=\"sk-item\"><div class=\"sk-estimator sk-toggleable\"><input class=\"sk-toggleable__control sk-hidden--visually\" id=\"c0af0fd7-d4fe-404d-a1d6-2188f42ebdf4\" type=\"checkbox\" ><label for=\"c0af0fd7-d4fe-404d-a1d6-2188f42ebdf4\" class=\"sk-toggleable__label sk-toggleable__label-arrow\">StandardScaler</label><div class=\"sk-toggleable__content\"><pre>StandardScaler()</pre></div></div></div></div></div></div></div></div><div class=\"sk-parallel-item\"><div class=\"sk-item\"><div class=\"sk-label-container\"><div class=\"sk-label sk-toggleable\"><input class=\"sk-toggleable__control sk-hidden--visually\" id=\"cbcd544b-8a34-4835-bcf4-b822910109c8\" type=\"checkbox\" ><label for=\"cbcd544b-8a34-4835-bcf4-b822910109c8\" class=\"sk-toggleable__label sk-toggleable__label-arrow\">pipeline-2</label><div class=\"sk-toggleable__content\"><pre>&lt;sklearn.compose._column_transformer.make_column_selector object at 0x7faff4c63340&gt;</pre></div></div></div><div class=\"sk-serial\"><div class=\"sk-item\"><div class=\"sk-serial\"><div class=\"sk-item\"><div class=\"sk-estimator sk-toggleable\"><input class=\"sk-toggleable__control sk-hidden--visually\" id=\"d70cb9a4-ba7c-47f3-a0b9-a8ac5b29dbd3\" type=\"checkbox\" ><label for=\"d70cb9a4-ba7c-47f3-a0b9-a8ac5b29dbd3\" class=\"sk-toggleable__label sk-toggleable__label-arrow\">StandardScaler</label><div class=\"sk-toggleable__content\"><pre>StandardScaler()</pre></div></div></div></div></div></div></div></div><div class=\"sk-parallel-item\"><div class=\"sk-item\"><div class=\"sk-label-container\"><div class=\"sk-label sk-toggleable\"><input class=\"sk-toggleable__control sk-hidden--visually\" id=\"972dc1b4-3b43-426f-8443-1af9e7ff3c26\" type=\"checkbox\" ><label for=\"972dc1b4-3b43-426f-8443-1af9e7ff3c26\" class=\"sk-toggleable__label sk-toggleable__label-arrow\">remainder</label><div class=\"sk-toggleable__content\"><pre>[]</pre></div></div></div><div class=\"sk-serial\"><div class=\"sk-item\"><div class=\"sk-estimator sk-toggleable\"><input class=\"sk-toggleable__control sk-hidden--visually\" id=\"8ce7c597-dd91-40fa-8a25-ae285cabf87d\" type=\"checkbox\" ><label for=\"8ce7c597-dd91-40fa-8a25-ae285cabf87d\" class=\"sk-toggleable__label sk-toggleable__label-arrow\">passthrough</label><div class=\"sk-toggleable__content\"><pre>passthrough</pre></div></div></div></div></div></div></div></div><div class=\"sk-item\"><div class=\"sk-estimator sk-toggleable\"><input class=\"sk-toggleable__control sk-hidden--visually\" id=\"0f704e6d-45a4-4ee8-a661-86e4a8bf6392\" type=\"checkbox\" ><label for=\"0f704e6d-45a4-4ee8-a661-86e4a8bf6392\" class=\"sk-toggleable__label sk-toggleable__label-arrow\">LinearRegression</label><div class=\"sk-toggleable__content\"><pre>LinearRegression()</pre></div></div></div></div></div></div></div>"
      ],
      "text/plain": [
       "Pipeline(steps=[('columntransformer',\n",
       "                 ColumnTransformer(remainder='passthrough',\n",
       "                                   transformers=[('pipeline-1',\n",
       "                                                  Pipeline(steps=[('onehotencoder',\n",
       "                                                                   OneHotEncoder(handle_unknown='ignore',\n",
       "                                                                                 sparse=False)),\n",
       "                                                                  ('standardscaler',\n",
       "                                                                   StandardScaler())]),\n",
       "                                                  <sklearn.compose._column_transformer.make_column_selector object at 0x7faff4c63520>),\n",
       "                                                 ('pipeline-2',\n",
       "                                                  Pipeline(steps=[('standardscaler',\n",
       "                                                                   StandardScaler())]),\n",
       "                                                  <sklearn.compose._column_transformer.make_column_selector object at 0x7faff4c63340>)])),\n",
       "                ('linearregression', LinearRegression())])"
      ]
     },
     "execution_count": 70,
     "metadata": {},
     "output_type": "execute_result"
    }
   ],
   "source": [
    "lr_pipe.fit(X_train, y_train)"
   ]
  },
  {
   "cell_type": "code",
   "execution_count": 71,
   "id": "a17ee986",
   "metadata": {
    "scrolled": true
   },
   "outputs": [
    {
     "name": "stdout",
     "output_type": "stream",
     "text": [
      "Linear Regression Training Results\n",
      "RMSE Score: 0.10726314517639836\n",
      "R^2 Score: 0.501358420565456\n",
      "\n",
      "Linear Regression Testing Results\n",
      "RMSE Score: 16700429514265.518\n",
      "R^2 Score: -1.2455311841198355e+28\n",
      "\n",
      "CPU times: user 74.9 ms, sys: 7.93 ms, total: 82.9 ms\n",
      "Wall time: 44 ms\n"
     ]
    }
   ],
   "source": [
    "%%time\n",
    "#predictions\n",
    "lr_train_score = eval_regression(y_train, lr_pipe.predict(X_train))\n",
    "lr_test_score = eval_regression(y_test, lr_pipe.predict(X_test))\n",
    "print('Linear Regression Training Results')\n",
    "print(f'RMSE Score: {lr_train_score[0]}')\n",
    "print(f'R^2 Score: {lr_train_score[1]}\\n')\n",
    "\n",
    "print('Linear Regression Testing Results')\n",
    "print(f'RMSE Score: {lr_test_score[0]}')\n",
    "print(f'R^2 Score: {lr_test_score[1]}\\n')\n"
   ]
  },
  {
   "cell_type": "code",
   "execution_count": 72,
   "id": "6fa13042",
   "metadata": {},
   "outputs": [
    {
     "data": {
      "text/html": [
       "<div>\n",
       "<style scoped>\n",
       "    .dataframe tbody tr th:only-of-type {\n",
       "        vertical-align: middle;\n",
       "    }\n",
       "\n",
       "    .dataframe tbody tr th {\n",
       "        vertical-align: top;\n",
       "    }\n",
       "\n",
       "    .dataframe thead th {\n",
       "        text-align: right;\n",
       "    }\n",
       "</style>\n",
       "<table border=\"1\" class=\"dataframe\">\n",
       "  <thead>\n",
       "    <tr style=\"text-align: right;\">\n",
       "      <th></th>\n",
       "      <th>RMSE</th>\n",
       "      <th>R^2</th>\n",
       "    </tr>\n",
       "  </thead>\n",
       "  <tbody>\n",
       "    <tr>\n",
       "      <th>Reg Train</th>\n",
       "      <td>0.0</td>\n",
       "      <td>1.0</td>\n",
       "    </tr>\n",
       "    <tr>\n",
       "      <th>Reg Test</th>\n",
       "      <td>0.127464</td>\n",
       "      <td>0.274438</td>\n",
       "    </tr>\n",
       "    <tr>\n",
       "      <th>Reg PCA Train</th>\n",
       "      <td>0.0</td>\n",
       "      <td>1.0</td>\n",
       "    </tr>\n",
       "    <tr>\n",
       "      <th>Reg PCA Test</th>\n",
       "      <td>0.122236</td>\n",
       "      <td>0.332732</td>\n",
       "    </tr>\n",
       "    <tr>\n",
       "      <th>OPT Reg Train</th>\n",
       "      <td>0.108298</td>\n",
       "      <td>0.491688</td>\n",
       "    </tr>\n",
       "    <tr>\n",
       "      <th>OPT Reg Test</th>\n",
       "      <td>0.113991</td>\n",
       "      <td>0.419715</td>\n",
       "    </tr>\n",
       "    <tr>\n",
       "      <th>LR Train</th>\n",
       "      <td>0.107263</td>\n",
       "      <td>0.501358</td>\n",
       "    </tr>\n",
       "    <tr>\n",
       "      <th>LR Test</th>\n",
       "      <td>16700429514265.517578</td>\n",
       "      <td>-12455311841198355443634667520.0</td>\n",
       "    </tr>\n",
       "  </tbody>\n",
       "</table>\n",
       "</div>"
      ],
      "text/plain": [
       "                                RMSE                              R^2\n",
       "Reg Train                        0.0                              1.0\n",
       "Reg Test                    0.127464                         0.274438\n",
       "Reg PCA Train                    0.0                              1.0\n",
       "Reg PCA Test                0.122236                         0.332732\n",
       "OPT Reg Train               0.108298                         0.491688\n",
       "OPT Reg Test                0.113991                         0.419715\n",
       "LR Train                    0.107263                         0.501358\n",
       "LR Test        16700429514265.517578 -12455311841198355443634667520.0"
      ]
     },
     "execution_count": 72,
     "metadata": {},
     "output_type": "execute_result"
    }
   ],
   "source": [
    "#keeping score\n",
    "scores_df.loc['LR Train'] = [lr_train_score[0], lr_train_score[1]]\n",
    "scores_df.loc['LR Test'] = [lr_test_score[0], lr_test_score[1]]\n",
    "scores_df"
   ]
  },
  {
   "cell_type": "markdown",
   "id": "d54d3b03",
   "metadata": {},
   "source": [
    "### Linear Regression - with PCA"
   ]
  },
  {
   "cell_type": "code",
   "execution_count": 73,
   "id": "fd927dbe",
   "metadata": {},
   "outputs": [],
   "source": [
    "#pca linear regression pipeline\n",
    "pca_lr_pipe = make_pipeline(lr_preprocessor, pca, lr)"
   ]
  },
  {
   "cell_type": "code",
   "execution_count": 74,
   "id": "047df422",
   "metadata": {},
   "outputs": [
    {
     "data": {
      "text/html": [
       "<style>#sk-f9d883c5-e68c-4a99-a7b8-6d95ca3855c4 {color: black;background-color: white;}#sk-f9d883c5-e68c-4a99-a7b8-6d95ca3855c4 pre{padding: 0;}#sk-f9d883c5-e68c-4a99-a7b8-6d95ca3855c4 div.sk-toggleable {background-color: white;}#sk-f9d883c5-e68c-4a99-a7b8-6d95ca3855c4 label.sk-toggleable__label {cursor: pointer;display: block;width: 100%;margin-bottom: 0;padding: 0.3em;box-sizing: border-box;text-align: center;}#sk-f9d883c5-e68c-4a99-a7b8-6d95ca3855c4 label.sk-toggleable__label-arrow:before {content: \"▸\";float: left;margin-right: 0.25em;color: #696969;}#sk-f9d883c5-e68c-4a99-a7b8-6d95ca3855c4 label.sk-toggleable__label-arrow:hover:before {color: black;}#sk-f9d883c5-e68c-4a99-a7b8-6d95ca3855c4 div.sk-estimator:hover label.sk-toggleable__label-arrow:before {color: black;}#sk-f9d883c5-e68c-4a99-a7b8-6d95ca3855c4 div.sk-toggleable__content {max-height: 0;max-width: 0;overflow: hidden;text-align: left;background-color: #f0f8ff;}#sk-f9d883c5-e68c-4a99-a7b8-6d95ca3855c4 div.sk-toggleable__content pre {margin: 0.2em;color: black;border-radius: 0.25em;background-color: #f0f8ff;}#sk-f9d883c5-e68c-4a99-a7b8-6d95ca3855c4 input.sk-toggleable__control:checked~div.sk-toggleable__content {max-height: 200px;max-width: 100%;overflow: auto;}#sk-f9d883c5-e68c-4a99-a7b8-6d95ca3855c4 input.sk-toggleable__control:checked~label.sk-toggleable__label-arrow:before {content: \"▾\";}#sk-f9d883c5-e68c-4a99-a7b8-6d95ca3855c4 div.sk-estimator input.sk-toggleable__control:checked~label.sk-toggleable__label {background-color: #d4ebff;}#sk-f9d883c5-e68c-4a99-a7b8-6d95ca3855c4 div.sk-label input.sk-toggleable__control:checked~label.sk-toggleable__label {background-color: #d4ebff;}#sk-f9d883c5-e68c-4a99-a7b8-6d95ca3855c4 input.sk-hidden--visually {border: 0;clip: rect(1px 1px 1px 1px);clip: rect(1px, 1px, 1px, 1px);height: 1px;margin: -1px;overflow: hidden;padding: 0;position: absolute;width: 1px;}#sk-f9d883c5-e68c-4a99-a7b8-6d95ca3855c4 div.sk-estimator {font-family: monospace;background-color: #f0f8ff;border: 1px dotted black;border-radius: 0.25em;box-sizing: border-box;margin-bottom: 0.5em;}#sk-f9d883c5-e68c-4a99-a7b8-6d95ca3855c4 div.sk-estimator:hover {background-color: #d4ebff;}#sk-f9d883c5-e68c-4a99-a7b8-6d95ca3855c4 div.sk-parallel-item::after {content: \"\";width: 100%;border-bottom: 1px solid gray;flex-grow: 1;}#sk-f9d883c5-e68c-4a99-a7b8-6d95ca3855c4 div.sk-label:hover label.sk-toggleable__label {background-color: #d4ebff;}#sk-f9d883c5-e68c-4a99-a7b8-6d95ca3855c4 div.sk-serial::before {content: \"\";position: absolute;border-left: 1px solid gray;box-sizing: border-box;top: 2em;bottom: 0;left: 50%;}#sk-f9d883c5-e68c-4a99-a7b8-6d95ca3855c4 div.sk-serial {display: flex;flex-direction: column;align-items: center;background-color: white;padding-right: 0.2em;padding-left: 0.2em;}#sk-f9d883c5-e68c-4a99-a7b8-6d95ca3855c4 div.sk-item {z-index: 1;}#sk-f9d883c5-e68c-4a99-a7b8-6d95ca3855c4 div.sk-parallel {display: flex;align-items: stretch;justify-content: center;background-color: white;}#sk-f9d883c5-e68c-4a99-a7b8-6d95ca3855c4 div.sk-parallel::before {content: \"\";position: absolute;border-left: 1px solid gray;box-sizing: border-box;top: 2em;bottom: 0;left: 50%;}#sk-f9d883c5-e68c-4a99-a7b8-6d95ca3855c4 div.sk-parallel-item {display: flex;flex-direction: column;position: relative;background-color: white;}#sk-f9d883c5-e68c-4a99-a7b8-6d95ca3855c4 div.sk-parallel-item:first-child::after {align-self: flex-end;width: 50%;}#sk-f9d883c5-e68c-4a99-a7b8-6d95ca3855c4 div.sk-parallel-item:last-child::after {align-self: flex-start;width: 50%;}#sk-f9d883c5-e68c-4a99-a7b8-6d95ca3855c4 div.sk-parallel-item:only-child::after {width: 0;}#sk-f9d883c5-e68c-4a99-a7b8-6d95ca3855c4 div.sk-dashed-wrapped {border: 1px dashed gray;margin: 0 0.4em 0.5em 0.4em;box-sizing: border-box;padding-bottom: 0.4em;background-color: white;position: relative;}#sk-f9d883c5-e68c-4a99-a7b8-6d95ca3855c4 div.sk-label label {font-family: monospace;font-weight: bold;background-color: white;display: inline-block;line-height: 1.2em;}#sk-f9d883c5-e68c-4a99-a7b8-6d95ca3855c4 div.sk-label-container {position: relative;z-index: 2;text-align: center;}#sk-f9d883c5-e68c-4a99-a7b8-6d95ca3855c4 div.sk-container {/* jupyter's `normalize.less` sets `[hidden] { display: none; }` but bootstrap.min.css set `[hidden] { display: none !important; }` so we also need the `!important` here to be able to override the default hidden behavior on the sphinx rendered scikit-learn.org. See: https://github.com/scikit-learn/scikit-learn/issues/21755 */display: inline-block !important;position: relative;}#sk-f9d883c5-e68c-4a99-a7b8-6d95ca3855c4 div.sk-text-repr-fallback {display: none;}</style><div id=\"sk-f9d883c5-e68c-4a99-a7b8-6d95ca3855c4\" class=\"sk-top-container\"><div class=\"sk-text-repr-fallback\"><pre>Pipeline(steps=[(&#x27;columntransformer&#x27;,\n",
       "                 ColumnTransformer(remainder=&#x27;passthrough&#x27;,\n",
       "                                   transformers=[(&#x27;pipeline-1&#x27;,\n",
       "                                                  Pipeline(steps=[(&#x27;onehotencoder&#x27;,\n",
       "                                                                   OneHotEncoder(handle_unknown=&#x27;ignore&#x27;,\n",
       "                                                                                 sparse=False)),\n",
       "                                                                  (&#x27;standardscaler&#x27;,\n",
       "                                                                   StandardScaler())]),\n",
       "                                                  &lt;sklearn.compose._column_transformer.make_column_selector object at 0x7faff4c63520&gt;),\n",
       "                                                 (&#x27;pipeline-2&#x27;,\n",
       "                                                  Pipeline(steps=[(&#x27;standardscaler&#x27;,\n",
       "                                                                   StandardScaler())]),\n",
       "                                                  &lt;sklearn.compose._column_transformer.make_column_selector object at 0x7faff4c63340&gt;)])),\n",
       "                (&#x27;pca&#x27;, PCA(n_components=0.95)),\n",
       "                (&#x27;linearregression&#x27;, LinearRegression())])</pre><b>Please rerun this cell to show the HTML repr or trust the notebook.</b></div><div class=\"sk-container\" hidden><div class=\"sk-item sk-dashed-wrapped\"><div class=\"sk-label-container\"><div class=\"sk-label sk-toggleable\"><input class=\"sk-toggleable__control sk-hidden--visually\" id=\"924c6bc3-f511-4702-bb6e-a51497066d0e\" type=\"checkbox\" ><label for=\"924c6bc3-f511-4702-bb6e-a51497066d0e\" class=\"sk-toggleable__label sk-toggleable__label-arrow\">Pipeline</label><div class=\"sk-toggleable__content\"><pre>Pipeline(steps=[(&#x27;columntransformer&#x27;,\n",
       "                 ColumnTransformer(remainder=&#x27;passthrough&#x27;,\n",
       "                                   transformers=[(&#x27;pipeline-1&#x27;,\n",
       "                                                  Pipeline(steps=[(&#x27;onehotencoder&#x27;,\n",
       "                                                                   OneHotEncoder(handle_unknown=&#x27;ignore&#x27;,\n",
       "                                                                                 sparse=False)),\n",
       "                                                                  (&#x27;standardscaler&#x27;,\n",
       "                                                                   StandardScaler())]),\n",
       "                                                  &lt;sklearn.compose._column_transformer.make_column_selector object at 0x7faff4c63520&gt;),\n",
       "                                                 (&#x27;pipeline-2&#x27;,\n",
       "                                                  Pipeline(steps=[(&#x27;standardscaler&#x27;,\n",
       "                                                                   StandardScaler())]),\n",
       "                                                  &lt;sklearn.compose._column_transformer.make_column_selector object at 0x7faff4c63340&gt;)])),\n",
       "                (&#x27;pca&#x27;, PCA(n_components=0.95)),\n",
       "                (&#x27;linearregression&#x27;, LinearRegression())])</pre></div></div></div><div class=\"sk-serial\"><div class=\"sk-item sk-dashed-wrapped\"><div class=\"sk-label-container\"><div class=\"sk-label sk-toggleable\"><input class=\"sk-toggleable__control sk-hidden--visually\" id=\"850d6b47-8991-4c72-b99a-502ad12225bb\" type=\"checkbox\" ><label for=\"850d6b47-8991-4c72-b99a-502ad12225bb\" class=\"sk-toggleable__label sk-toggleable__label-arrow\">columntransformer: ColumnTransformer</label><div class=\"sk-toggleable__content\"><pre>ColumnTransformer(remainder=&#x27;passthrough&#x27;,\n",
       "                  transformers=[(&#x27;pipeline-1&#x27;,\n",
       "                                 Pipeline(steps=[(&#x27;onehotencoder&#x27;,\n",
       "                                                  OneHotEncoder(handle_unknown=&#x27;ignore&#x27;,\n",
       "                                                                sparse=False)),\n",
       "                                                 (&#x27;standardscaler&#x27;,\n",
       "                                                  StandardScaler())]),\n",
       "                                 &lt;sklearn.compose._column_transformer.make_column_selector object at 0x7faff4c63520&gt;),\n",
       "                                (&#x27;pipeline-2&#x27;,\n",
       "                                 Pipeline(steps=[(&#x27;standardscaler&#x27;,\n",
       "                                                  StandardScaler())]),\n",
       "                                 &lt;sklearn.compose._column_transformer.make_column_selector object at 0x7faff4c63340&gt;)])</pre></div></div></div><div class=\"sk-parallel\"><div class=\"sk-parallel-item\"><div class=\"sk-item\"><div class=\"sk-label-container\"><div class=\"sk-label sk-toggleable\"><input class=\"sk-toggleable__control sk-hidden--visually\" id=\"b4a918f1-6776-47e1-bd97-76d024b61a85\" type=\"checkbox\" ><label for=\"b4a918f1-6776-47e1-bd97-76d024b61a85\" class=\"sk-toggleable__label sk-toggleable__label-arrow\">pipeline-1</label><div class=\"sk-toggleable__content\"><pre>&lt;sklearn.compose._column_transformer.make_column_selector object at 0x7faff4c63520&gt;</pre></div></div></div><div class=\"sk-serial\"><div class=\"sk-item\"><div class=\"sk-serial\"><div class=\"sk-item\"><div class=\"sk-estimator sk-toggleable\"><input class=\"sk-toggleable__control sk-hidden--visually\" id=\"5ce52254-5ee4-4e40-b601-d19e3bd1b048\" type=\"checkbox\" ><label for=\"5ce52254-5ee4-4e40-b601-d19e3bd1b048\" class=\"sk-toggleable__label sk-toggleable__label-arrow\">OneHotEncoder</label><div class=\"sk-toggleable__content\"><pre>OneHotEncoder(handle_unknown=&#x27;ignore&#x27;, sparse=False)</pre></div></div></div><div class=\"sk-item\"><div class=\"sk-estimator sk-toggleable\"><input class=\"sk-toggleable__control sk-hidden--visually\" id=\"d79dfe04-d758-4e47-ac9d-7893de713396\" type=\"checkbox\" ><label for=\"d79dfe04-d758-4e47-ac9d-7893de713396\" class=\"sk-toggleable__label sk-toggleable__label-arrow\">StandardScaler</label><div class=\"sk-toggleable__content\"><pre>StandardScaler()</pre></div></div></div></div></div></div></div></div><div class=\"sk-parallel-item\"><div class=\"sk-item\"><div class=\"sk-label-container\"><div class=\"sk-label sk-toggleable\"><input class=\"sk-toggleable__control sk-hidden--visually\" id=\"20159de9-b4e7-47bf-9802-14e253341e46\" type=\"checkbox\" ><label for=\"20159de9-b4e7-47bf-9802-14e253341e46\" class=\"sk-toggleable__label sk-toggleable__label-arrow\">pipeline-2</label><div class=\"sk-toggleable__content\"><pre>&lt;sklearn.compose._column_transformer.make_column_selector object at 0x7faff4c63340&gt;</pre></div></div></div><div class=\"sk-serial\"><div class=\"sk-item\"><div class=\"sk-serial\"><div class=\"sk-item\"><div class=\"sk-estimator sk-toggleable\"><input class=\"sk-toggleable__control sk-hidden--visually\" id=\"db046a0e-8672-45f2-96d3-4b46d8b1809c\" type=\"checkbox\" ><label for=\"db046a0e-8672-45f2-96d3-4b46d8b1809c\" class=\"sk-toggleable__label sk-toggleable__label-arrow\">StandardScaler</label><div class=\"sk-toggleable__content\"><pre>StandardScaler()</pre></div></div></div></div></div></div></div></div><div class=\"sk-parallel-item\"><div class=\"sk-item\"><div class=\"sk-label-container\"><div class=\"sk-label sk-toggleable\"><input class=\"sk-toggleable__control sk-hidden--visually\" id=\"f9882eba-eac4-4715-93cd-a66d22897399\" type=\"checkbox\" ><label for=\"f9882eba-eac4-4715-93cd-a66d22897399\" class=\"sk-toggleable__label sk-toggleable__label-arrow\">remainder</label><div class=\"sk-toggleable__content\"><pre>[]</pre></div></div></div><div class=\"sk-serial\"><div class=\"sk-item\"><div class=\"sk-estimator sk-toggleable\"><input class=\"sk-toggleable__control sk-hidden--visually\" id=\"cb545a0e-d2ca-4518-b79c-0463757914b0\" type=\"checkbox\" ><label for=\"cb545a0e-d2ca-4518-b79c-0463757914b0\" class=\"sk-toggleable__label sk-toggleable__label-arrow\">passthrough</label><div class=\"sk-toggleable__content\"><pre>passthrough</pre></div></div></div></div></div></div></div></div><div class=\"sk-item\"><div class=\"sk-estimator sk-toggleable\"><input class=\"sk-toggleable__control sk-hidden--visually\" id=\"6c092a06-dd36-4c07-87ce-4b867c22c871\" type=\"checkbox\" ><label for=\"6c092a06-dd36-4c07-87ce-4b867c22c871\" class=\"sk-toggleable__label sk-toggleable__label-arrow\">PCA</label><div class=\"sk-toggleable__content\"><pre>PCA(n_components=0.95)</pre></div></div></div><div class=\"sk-item\"><div class=\"sk-estimator sk-toggleable\"><input class=\"sk-toggleable__control sk-hidden--visually\" id=\"41314b87-85ce-4fed-b24b-2c086b6cfcb4\" type=\"checkbox\" ><label for=\"41314b87-85ce-4fed-b24b-2c086b6cfcb4\" class=\"sk-toggleable__label sk-toggleable__label-arrow\">LinearRegression</label><div class=\"sk-toggleable__content\"><pre>LinearRegression()</pre></div></div></div></div></div></div></div>"
      ],
      "text/plain": [
       "Pipeline(steps=[('columntransformer',\n",
       "                 ColumnTransformer(remainder='passthrough',\n",
       "                                   transformers=[('pipeline-1',\n",
       "                                                  Pipeline(steps=[('onehotencoder',\n",
       "                                                                   OneHotEncoder(handle_unknown='ignore',\n",
       "                                                                                 sparse=False)),\n",
       "                                                                  ('standardscaler',\n",
       "                                                                   StandardScaler())]),\n",
       "                                                  <sklearn.compose._column_transformer.make_column_selector object at 0x7faff4c63520>),\n",
       "                                                 ('pipeline-2',\n",
       "                                                  Pipeline(steps=[('standardscaler',\n",
       "                                                                   StandardScaler())]),\n",
       "                                                  <sklearn.compose._column_transformer.make_column_selector object at 0x7faff4c63340>)])),\n",
       "                ('pca', PCA(n_components=0.95)),\n",
       "                ('linearregression', LinearRegression())])"
      ]
     },
     "execution_count": 74,
     "metadata": {},
     "output_type": "execute_result"
    }
   ],
   "source": [
    "pca_lr_pipe.fit(X_train, y_train)"
   ]
  },
  {
   "cell_type": "code",
   "execution_count": 75,
   "id": "c909ac87",
   "metadata": {},
   "outputs": [
    {
     "name": "stdout",
     "output_type": "stream",
     "text": [
      "Linear Regression Training Results\n",
      "RMSE Score: 0.07570969361290898\n",
      "R^2 Score: 0.751577794943132\n",
      "\n",
      "Linear Regression Testing Results\n",
      "RMSE Score: 0.10260781894033891\n",
      "R^2 Score: 0.5298242389543628\n",
      "\n",
      "CPU times: user 218 ms, sys: 16.2 ms, total: 234 ms\n",
      "Wall time: 69.3 ms\n"
     ]
    }
   ],
   "source": [
    "%%time\n",
    "#predictions\n",
    "pca_lr_train_score = eval_regression(y_train, pca_lr_pipe.predict(X_train))\n",
    "pca_lr_test_score = eval_regression(y_test, pca_lr_pipe.predict(X_test))\n",
    "print('Linear Regression Training Results')\n",
    "print(f'RMSE Score: {pca_lr_train_score[0]}')\n",
    "print(f'R^2 Score: {pca_lr_train_score[1]}\\n')\n",
    "\n",
    "print('Linear Regression Testing Results')\n",
    "print(f'RMSE Score: {pca_lr_test_score[0]}')\n",
    "print(f'R^2 Score: {pca_lr_test_score[1]}\\n')"
   ]
  },
  {
   "cell_type": "code",
   "execution_count": 76,
   "id": "79209576",
   "metadata": {},
   "outputs": [
    {
     "data": {
      "text/html": [
       "<div>\n",
       "<style scoped>\n",
       "    .dataframe tbody tr th:only-of-type {\n",
       "        vertical-align: middle;\n",
       "    }\n",
       "\n",
       "    .dataframe tbody tr th {\n",
       "        vertical-align: top;\n",
       "    }\n",
       "\n",
       "    .dataframe thead th {\n",
       "        text-align: right;\n",
       "    }\n",
       "</style>\n",
       "<table border=\"1\" class=\"dataframe\">\n",
       "  <thead>\n",
       "    <tr style=\"text-align: right;\">\n",
       "      <th></th>\n",
       "      <th>RMSE</th>\n",
       "      <th>R^2</th>\n",
       "    </tr>\n",
       "  </thead>\n",
       "  <tbody>\n",
       "    <tr>\n",
       "      <th>Reg Train</th>\n",
       "      <td>0.0</td>\n",
       "      <td>1.0</td>\n",
       "    </tr>\n",
       "    <tr>\n",
       "      <th>Reg Test</th>\n",
       "      <td>0.127464</td>\n",
       "      <td>0.274438</td>\n",
       "    </tr>\n",
       "    <tr>\n",
       "      <th>Reg PCA Train</th>\n",
       "      <td>0.0</td>\n",
       "      <td>1.0</td>\n",
       "    </tr>\n",
       "    <tr>\n",
       "      <th>Reg PCA Test</th>\n",
       "      <td>0.122236</td>\n",
       "      <td>0.332732</td>\n",
       "    </tr>\n",
       "    <tr>\n",
       "      <th>OPT Reg Train</th>\n",
       "      <td>0.108298</td>\n",
       "      <td>0.491688</td>\n",
       "    </tr>\n",
       "    <tr>\n",
       "      <th>OPT Reg Test</th>\n",
       "      <td>0.113991</td>\n",
       "      <td>0.419715</td>\n",
       "    </tr>\n",
       "    <tr>\n",
       "      <th>LR Train</th>\n",
       "      <td>0.107263</td>\n",
       "      <td>0.501358</td>\n",
       "    </tr>\n",
       "    <tr>\n",
       "      <th>LR Test</th>\n",
       "      <td>16700429514265.517578</td>\n",
       "      <td>-12455311841198355443634667520.0</td>\n",
       "    </tr>\n",
       "    <tr>\n",
       "      <th>LR PCA Train</th>\n",
       "      <td>0.07571</td>\n",
       "      <td>0.751578</td>\n",
       "    </tr>\n",
       "    <tr>\n",
       "      <th>LR PCA Test</th>\n",
       "      <td>0.102608</td>\n",
       "      <td>0.529824</td>\n",
       "    </tr>\n",
       "  </tbody>\n",
       "</table>\n",
       "</div>"
      ],
      "text/plain": [
       "                                RMSE                              R^2\n",
       "Reg Train                        0.0                              1.0\n",
       "Reg Test                    0.127464                         0.274438\n",
       "Reg PCA Train                    0.0                              1.0\n",
       "Reg PCA Test                0.122236                         0.332732\n",
       "OPT Reg Train               0.108298                         0.491688\n",
       "OPT Reg Test                0.113991                         0.419715\n",
       "LR Train                    0.107263                         0.501358\n",
       "LR Test        16700429514265.517578 -12455311841198355443634667520.0\n",
       "LR PCA Train                 0.07571                         0.751578\n",
       "LR PCA Test                 0.102608                         0.529824"
      ]
     },
     "execution_count": 76,
     "metadata": {},
     "output_type": "execute_result"
    }
   ],
   "source": [
    "#keeping score\n",
    "scores_df.loc['LR PCA Train'] = [pca_lr_train_score[0], pca_lr_train_score[1]]\n",
    "scores_df.loc['LR PCA Test'] = [pca_lr_test_score[0], pca_lr_test_score[1]]\n",
    "scores_df"
   ]
  },
  {
   "cell_type": "markdown",
   "id": "dd0f1db9",
   "metadata": {},
   "source": [
    "## Feature Engineering 1\n",
    "Method - Dropping 'wine' to see if it will help the model from overfitting on the training data, because it has the largest unique categorical values."
   ]
  },
  {
   "cell_type": "code",
   "execution_count": 77,
   "id": "9782793a",
   "metadata": {},
   "outputs": [
    {
     "data": {
      "text/html": [
       "<div>\n",
       "<style scoped>\n",
       "    .dataframe tbody tr th:only-of-type {\n",
       "        vertical-align: middle;\n",
       "    }\n",
       "\n",
       "    .dataframe tbody tr th {\n",
       "        vertical-align: top;\n",
       "    }\n",
       "\n",
       "    .dataframe thead th {\n",
       "        text-align: right;\n",
       "    }\n",
       "</style>\n",
       "<table border=\"1\" class=\"dataframe\">\n",
       "  <thead>\n",
       "    <tr style=\"text-align: right;\">\n",
       "      <th></th>\n",
       "      <th>winery</th>\n",
       "      <th>wine</th>\n",
       "      <th>vintage</th>\n",
       "      <th>rating</th>\n",
       "      <th>num_reviews</th>\n",
       "      <th>region</th>\n",
       "      <th>price</th>\n",
       "      <th>type</th>\n",
       "      <th>body</th>\n",
       "      <th>acidity</th>\n",
       "    </tr>\n",
       "  </thead>\n",
       "  <tbody>\n",
       "    <tr>\n",
       "      <th>0</th>\n",
       "      <td>Teso La Monja</td>\n",
       "      <td>Tinto</td>\n",
       "      <td>2013</td>\n",
       "      <td>4.9</td>\n",
       "      <td>58</td>\n",
       "      <td>Toro</td>\n",
       "      <td>995.00</td>\n",
       "      <td>Toro Red</td>\n",
       "      <td>5.0</td>\n",
       "      <td>3.0</td>\n",
       "    </tr>\n",
       "    <tr>\n",
       "      <th>1</th>\n",
       "      <td>Artadi</td>\n",
       "      <td>Vina El Pison</td>\n",
       "      <td>2018</td>\n",
       "      <td>4.9</td>\n",
       "      <td>31</td>\n",
       "      <td>Vino de Espana</td>\n",
       "      <td>313.50</td>\n",
       "      <td>Tempranillo</td>\n",
       "      <td>4.0</td>\n",
       "      <td>2.0</td>\n",
       "    </tr>\n",
       "    <tr>\n",
       "      <th>2</th>\n",
       "      <td>Vega Sicilia</td>\n",
       "      <td>Unico</td>\n",
       "      <td>2009</td>\n",
       "      <td>4.8</td>\n",
       "      <td>1793</td>\n",
       "      <td>Ribera del Duero</td>\n",
       "      <td>324.95</td>\n",
       "      <td>Ribera Del Duero Red</td>\n",
       "      <td>5.0</td>\n",
       "      <td>3.0</td>\n",
       "    </tr>\n",
       "    <tr>\n",
       "      <th>3</th>\n",
       "      <td>Vega Sicilia</td>\n",
       "      <td>Unico</td>\n",
       "      <td>1999</td>\n",
       "      <td>4.8</td>\n",
       "      <td>1705</td>\n",
       "      <td>Ribera del Duero</td>\n",
       "      <td>692.96</td>\n",
       "      <td>Ribera Del Duero Red</td>\n",
       "      <td>5.0</td>\n",
       "      <td>3.0</td>\n",
       "    </tr>\n",
       "    <tr>\n",
       "      <th>4</th>\n",
       "      <td>Vega Sicilia</td>\n",
       "      <td>Unico</td>\n",
       "      <td>1996</td>\n",
       "      <td>4.8</td>\n",
       "      <td>1309</td>\n",
       "      <td>Ribera del Duero</td>\n",
       "      <td>778.06</td>\n",
       "      <td>Ribera Del Duero Red</td>\n",
       "      <td>5.0</td>\n",
       "      <td>3.0</td>\n",
       "    </tr>\n",
       "  </tbody>\n",
       "</table>\n",
       "</div>"
      ],
      "text/plain": [
       "          winery           wine  vintage  rating  num_reviews  \\\n",
       "0  Teso La Monja          Tinto     2013     4.9           58   \n",
       "1         Artadi  Vina El Pison     2018     4.9           31   \n",
       "2   Vega Sicilia          Unico     2009     4.8         1793   \n",
       "3   Vega Sicilia          Unico     1999     4.8         1705   \n",
       "4   Vega Sicilia          Unico     1996     4.8         1309   \n",
       "\n",
       "             region   price                  type  body  acidity  \n",
       "0              Toro  995.00              Toro Red   5.0      3.0  \n",
       "1    Vino de Espana  313.50           Tempranillo   4.0      2.0  \n",
       "2  Ribera del Duero  324.95  Ribera Del Duero Red   5.0      3.0  \n",
       "3  Ribera del Duero  692.96  Ribera Del Duero Red   5.0      3.0  \n",
       "4  Ribera del Duero  778.06  Ribera Del Duero Red   5.0      3.0  "
      ]
     },
     "execution_count": 77,
     "metadata": {},
     "output_type": "execute_result"
    }
   ],
   "source": [
    "#DF copy\n",
    "df2 = df_ml.copy()\n",
    "df2.head()"
   ]
  },
  {
   "cell_type": "code",
   "execution_count": 78,
   "id": "ec6b59bc",
   "metadata": {},
   "outputs": [
    {
     "name": "stdout",
     "output_type": "stream",
     "text": [
      "winery          395\n",
      "wine            677\n",
      "vintage          70\n",
      "rating            8\n",
      "num_reviews     730\n",
      "region           63\n",
      "price          1153\n",
      "type             21\n",
      "body              4\n",
      "acidity           3\n",
      "dtype: int64\n"
     ]
    }
   ],
   "source": [
    "print(df2.apply(lambda col: col.nunique()))"
   ]
  },
  {
   "cell_type": "markdown",
   "id": "5a01c129",
   "metadata": {},
   "source": [
    "### Preprocessing"
   ]
  },
  {
   "cell_type": "code",
   "execution_count": 79,
   "id": "5b98b3d1",
   "metadata": {},
   "outputs": [
    {
     "data": {
      "text/html": [
       "<div>\n",
       "<style scoped>\n",
       "    .dataframe tbody tr th:only-of-type {\n",
       "        vertical-align: middle;\n",
       "    }\n",
       "\n",
       "    .dataframe tbody tr th {\n",
       "        vertical-align: top;\n",
       "    }\n",
       "\n",
       "    .dataframe thead th {\n",
       "        text-align: right;\n",
       "    }\n",
       "</style>\n",
       "<table border=\"1\" class=\"dataframe\">\n",
       "  <thead>\n",
       "    <tr style=\"text-align: right;\">\n",
       "      <th></th>\n",
       "      <th>winery</th>\n",
       "      <th>vintage</th>\n",
       "      <th>rating</th>\n",
       "      <th>num_reviews</th>\n",
       "      <th>region</th>\n",
       "      <th>price</th>\n",
       "      <th>type</th>\n",
       "      <th>body</th>\n",
       "      <th>acidity</th>\n",
       "    </tr>\n",
       "  </thead>\n",
       "  <tbody>\n",
       "    <tr>\n",
       "      <th>0</th>\n",
       "      <td>Teso La Monja</td>\n",
       "      <td>2013</td>\n",
       "      <td>4.9</td>\n",
       "      <td>58</td>\n",
       "      <td>Toro</td>\n",
       "      <td>995.00</td>\n",
       "      <td>Toro Red</td>\n",
       "      <td>5.0</td>\n",
       "      <td>3.0</td>\n",
       "    </tr>\n",
       "    <tr>\n",
       "      <th>1</th>\n",
       "      <td>Artadi</td>\n",
       "      <td>2018</td>\n",
       "      <td>4.9</td>\n",
       "      <td>31</td>\n",
       "      <td>Vino de Espana</td>\n",
       "      <td>313.50</td>\n",
       "      <td>Tempranillo</td>\n",
       "      <td>4.0</td>\n",
       "      <td>2.0</td>\n",
       "    </tr>\n",
       "    <tr>\n",
       "      <th>2</th>\n",
       "      <td>Vega Sicilia</td>\n",
       "      <td>2009</td>\n",
       "      <td>4.8</td>\n",
       "      <td>1793</td>\n",
       "      <td>Ribera del Duero</td>\n",
       "      <td>324.95</td>\n",
       "      <td>Ribera Del Duero Red</td>\n",
       "      <td>5.0</td>\n",
       "      <td>3.0</td>\n",
       "    </tr>\n",
       "    <tr>\n",
       "      <th>3</th>\n",
       "      <td>Vega Sicilia</td>\n",
       "      <td>1999</td>\n",
       "      <td>4.8</td>\n",
       "      <td>1705</td>\n",
       "      <td>Ribera del Duero</td>\n",
       "      <td>692.96</td>\n",
       "      <td>Ribera Del Duero Red</td>\n",
       "      <td>5.0</td>\n",
       "      <td>3.0</td>\n",
       "    </tr>\n",
       "    <tr>\n",
       "      <th>4</th>\n",
       "      <td>Vega Sicilia</td>\n",
       "      <td>1996</td>\n",
       "      <td>4.8</td>\n",
       "      <td>1309</td>\n",
       "      <td>Ribera del Duero</td>\n",
       "      <td>778.06</td>\n",
       "      <td>Ribera Del Duero Red</td>\n",
       "      <td>5.0</td>\n",
       "      <td>3.0</td>\n",
       "    </tr>\n",
       "  </tbody>\n",
       "</table>\n",
       "</div>"
      ],
      "text/plain": [
       "          winery  vintage  rating  num_reviews            region   price  \\\n",
       "0  Teso La Monja     2013     4.9           58              Toro  995.00   \n",
       "1         Artadi     2018     4.9           31    Vino de Espana  313.50   \n",
       "2   Vega Sicilia     2009     4.8         1793  Ribera del Duero  324.95   \n",
       "3   Vega Sicilia     1999     4.8         1705  Ribera del Duero  692.96   \n",
       "4   Vega Sicilia     1996     4.8         1309  Ribera del Duero  778.06   \n",
       "\n",
       "                   type  body  acidity  \n",
       "0              Toro Red   5.0      3.0  \n",
       "1           Tempranillo   4.0      2.0  \n",
       "2  Ribera Del Duero Red   5.0      3.0  \n",
       "3  Ribera Del Duero Red   5.0      3.0  \n",
       "4  Ribera Del Duero Red   5.0      3.0  "
      ]
     },
     "execution_count": 79,
     "metadata": {},
     "output_type": "execute_result"
    }
   ],
   "source": [
    "#dropping wine\n",
    "df2.drop(columns='wine', inplace=True)\n",
    "df2.head()"
   ]
  },
  {
   "cell_type": "code",
   "execution_count": 80,
   "id": "781e15a4",
   "metadata": {},
   "outputs": [],
   "source": [
    "#Features Matrix and Target\n",
    "X = df2.drop(columns='rating')\n",
    "y = df2['rating']\n",
    "\n",
    "#train test split\n",
    "X_train, X_test, y_train, y_test = train_test_split(X, y, random_state=42)"
   ]
  },
  {
   "cell_type": "markdown",
   "id": "e25ae25a",
   "metadata": {},
   "source": [
    "## Method 3 - Ridge Regression"
   ]
  },
  {
   "cell_type": "markdown",
   "id": "4c650bb5",
   "metadata": {},
   "source": [
    "###  Hypertune by using GridsearchCV"
   ]
  },
  {
   "cell_type": "code",
   "execution_count": 81,
   "id": "b7d976c2",
   "metadata": {},
   "outputs": [],
   "source": [
    "#Instantiate Ridge\n",
    "ridge = Ridge()\n",
    "#Create ridge pipeline\n",
    "ridge_pipe = make_pipeline(lr_preprocessor, pca, ridge)"
   ]
  },
  {
   "cell_type": "code",
   "execution_count": 82,
   "id": "bf54d4f7",
   "metadata": {},
   "outputs": [
    {
     "data": {
      "text/html": [
       "<style>#sk-5ecebf1b-272a-4376-ad14-9bf25a9ebb88 {color: black;background-color: white;}#sk-5ecebf1b-272a-4376-ad14-9bf25a9ebb88 pre{padding: 0;}#sk-5ecebf1b-272a-4376-ad14-9bf25a9ebb88 div.sk-toggleable {background-color: white;}#sk-5ecebf1b-272a-4376-ad14-9bf25a9ebb88 label.sk-toggleable__label {cursor: pointer;display: block;width: 100%;margin-bottom: 0;padding: 0.3em;box-sizing: border-box;text-align: center;}#sk-5ecebf1b-272a-4376-ad14-9bf25a9ebb88 label.sk-toggleable__label-arrow:before {content: \"▸\";float: left;margin-right: 0.25em;color: #696969;}#sk-5ecebf1b-272a-4376-ad14-9bf25a9ebb88 label.sk-toggleable__label-arrow:hover:before {color: black;}#sk-5ecebf1b-272a-4376-ad14-9bf25a9ebb88 div.sk-estimator:hover label.sk-toggleable__label-arrow:before {color: black;}#sk-5ecebf1b-272a-4376-ad14-9bf25a9ebb88 div.sk-toggleable__content {max-height: 0;max-width: 0;overflow: hidden;text-align: left;background-color: #f0f8ff;}#sk-5ecebf1b-272a-4376-ad14-9bf25a9ebb88 div.sk-toggleable__content pre {margin: 0.2em;color: black;border-radius: 0.25em;background-color: #f0f8ff;}#sk-5ecebf1b-272a-4376-ad14-9bf25a9ebb88 input.sk-toggleable__control:checked~div.sk-toggleable__content {max-height: 200px;max-width: 100%;overflow: auto;}#sk-5ecebf1b-272a-4376-ad14-9bf25a9ebb88 input.sk-toggleable__control:checked~label.sk-toggleable__label-arrow:before {content: \"▾\";}#sk-5ecebf1b-272a-4376-ad14-9bf25a9ebb88 div.sk-estimator input.sk-toggleable__control:checked~label.sk-toggleable__label {background-color: #d4ebff;}#sk-5ecebf1b-272a-4376-ad14-9bf25a9ebb88 div.sk-label input.sk-toggleable__control:checked~label.sk-toggleable__label {background-color: #d4ebff;}#sk-5ecebf1b-272a-4376-ad14-9bf25a9ebb88 input.sk-hidden--visually {border: 0;clip: rect(1px 1px 1px 1px);clip: rect(1px, 1px, 1px, 1px);height: 1px;margin: -1px;overflow: hidden;padding: 0;position: absolute;width: 1px;}#sk-5ecebf1b-272a-4376-ad14-9bf25a9ebb88 div.sk-estimator {font-family: monospace;background-color: #f0f8ff;border: 1px dotted black;border-radius: 0.25em;box-sizing: border-box;margin-bottom: 0.5em;}#sk-5ecebf1b-272a-4376-ad14-9bf25a9ebb88 div.sk-estimator:hover {background-color: #d4ebff;}#sk-5ecebf1b-272a-4376-ad14-9bf25a9ebb88 div.sk-parallel-item::after {content: \"\";width: 100%;border-bottom: 1px solid gray;flex-grow: 1;}#sk-5ecebf1b-272a-4376-ad14-9bf25a9ebb88 div.sk-label:hover label.sk-toggleable__label {background-color: #d4ebff;}#sk-5ecebf1b-272a-4376-ad14-9bf25a9ebb88 div.sk-serial::before {content: \"\";position: absolute;border-left: 1px solid gray;box-sizing: border-box;top: 2em;bottom: 0;left: 50%;}#sk-5ecebf1b-272a-4376-ad14-9bf25a9ebb88 div.sk-serial {display: flex;flex-direction: column;align-items: center;background-color: white;padding-right: 0.2em;padding-left: 0.2em;}#sk-5ecebf1b-272a-4376-ad14-9bf25a9ebb88 div.sk-item {z-index: 1;}#sk-5ecebf1b-272a-4376-ad14-9bf25a9ebb88 div.sk-parallel {display: flex;align-items: stretch;justify-content: center;background-color: white;}#sk-5ecebf1b-272a-4376-ad14-9bf25a9ebb88 div.sk-parallel::before {content: \"\";position: absolute;border-left: 1px solid gray;box-sizing: border-box;top: 2em;bottom: 0;left: 50%;}#sk-5ecebf1b-272a-4376-ad14-9bf25a9ebb88 div.sk-parallel-item {display: flex;flex-direction: column;position: relative;background-color: white;}#sk-5ecebf1b-272a-4376-ad14-9bf25a9ebb88 div.sk-parallel-item:first-child::after {align-self: flex-end;width: 50%;}#sk-5ecebf1b-272a-4376-ad14-9bf25a9ebb88 div.sk-parallel-item:last-child::after {align-self: flex-start;width: 50%;}#sk-5ecebf1b-272a-4376-ad14-9bf25a9ebb88 div.sk-parallel-item:only-child::after {width: 0;}#sk-5ecebf1b-272a-4376-ad14-9bf25a9ebb88 div.sk-dashed-wrapped {border: 1px dashed gray;margin: 0 0.4em 0.5em 0.4em;box-sizing: border-box;padding-bottom: 0.4em;background-color: white;position: relative;}#sk-5ecebf1b-272a-4376-ad14-9bf25a9ebb88 div.sk-label label {font-family: monospace;font-weight: bold;background-color: white;display: inline-block;line-height: 1.2em;}#sk-5ecebf1b-272a-4376-ad14-9bf25a9ebb88 div.sk-label-container {position: relative;z-index: 2;text-align: center;}#sk-5ecebf1b-272a-4376-ad14-9bf25a9ebb88 div.sk-container {/* jupyter's `normalize.less` sets `[hidden] { display: none; }` but bootstrap.min.css set `[hidden] { display: none !important; }` so we also need the `!important` here to be able to override the default hidden behavior on the sphinx rendered scikit-learn.org. See: https://github.com/scikit-learn/scikit-learn/issues/21755 */display: inline-block !important;position: relative;}#sk-5ecebf1b-272a-4376-ad14-9bf25a9ebb88 div.sk-text-repr-fallback {display: none;}</style><div id=\"sk-5ecebf1b-272a-4376-ad14-9bf25a9ebb88\" class=\"sk-top-container\"><div class=\"sk-text-repr-fallback\"><pre>Pipeline(steps=[(&#x27;columntransformer&#x27;,\n",
       "                 ColumnTransformer(remainder=&#x27;passthrough&#x27;,\n",
       "                                   transformers=[(&#x27;pipeline-1&#x27;,\n",
       "                                                  Pipeline(steps=[(&#x27;onehotencoder&#x27;,\n",
       "                                                                   OneHotEncoder(handle_unknown=&#x27;ignore&#x27;,\n",
       "                                                                                 sparse=False)),\n",
       "                                                                  (&#x27;standardscaler&#x27;,\n",
       "                                                                   StandardScaler())]),\n",
       "                                                  &lt;sklearn.compose._column_transformer.make_column_selector object at 0x7faff4c63520&gt;),\n",
       "                                                 (&#x27;pipeline-2&#x27;,\n",
       "                                                  Pipeline(steps=[(&#x27;standardscaler&#x27;,\n",
       "                                                                   StandardScaler())]),\n",
       "                                                  &lt;sklearn.compose._column_transformer.make_column_selector object at 0x7faff4c63340&gt;)])),\n",
       "                (&#x27;pca&#x27;, PCA(n_components=0.95)), (&#x27;ridge&#x27;, Ridge())])</pre><b>Please rerun this cell to show the HTML repr or trust the notebook.</b></div><div class=\"sk-container\" hidden><div class=\"sk-item sk-dashed-wrapped\"><div class=\"sk-label-container\"><div class=\"sk-label sk-toggleable\"><input class=\"sk-toggleable__control sk-hidden--visually\" id=\"2788145c-f887-4805-b203-ce2ca38bf519\" type=\"checkbox\" ><label for=\"2788145c-f887-4805-b203-ce2ca38bf519\" class=\"sk-toggleable__label sk-toggleable__label-arrow\">Pipeline</label><div class=\"sk-toggleable__content\"><pre>Pipeline(steps=[(&#x27;columntransformer&#x27;,\n",
       "                 ColumnTransformer(remainder=&#x27;passthrough&#x27;,\n",
       "                                   transformers=[(&#x27;pipeline-1&#x27;,\n",
       "                                                  Pipeline(steps=[(&#x27;onehotencoder&#x27;,\n",
       "                                                                   OneHotEncoder(handle_unknown=&#x27;ignore&#x27;,\n",
       "                                                                                 sparse=False)),\n",
       "                                                                  (&#x27;standardscaler&#x27;,\n",
       "                                                                   StandardScaler())]),\n",
       "                                                  &lt;sklearn.compose._column_transformer.make_column_selector object at 0x7faff4c63520&gt;),\n",
       "                                                 (&#x27;pipeline-2&#x27;,\n",
       "                                                  Pipeline(steps=[(&#x27;standardscaler&#x27;,\n",
       "                                                                   StandardScaler())]),\n",
       "                                                  &lt;sklearn.compose._column_transformer.make_column_selector object at 0x7faff4c63340&gt;)])),\n",
       "                (&#x27;pca&#x27;, PCA(n_components=0.95)), (&#x27;ridge&#x27;, Ridge())])</pre></div></div></div><div class=\"sk-serial\"><div class=\"sk-item sk-dashed-wrapped\"><div class=\"sk-label-container\"><div class=\"sk-label sk-toggleable\"><input class=\"sk-toggleable__control sk-hidden--visually\" id=\"dbd13dcc-990b-4e0b-8f4d-0d5d67200587\" type=\"checkbox\" ><label for=\"dbd13dcc-990b-4e0b-8f4d-0d5d67200587\" class=\"sk-toggleable__label sk-toggleable__label-arrow\">columntransformer: ColumnTransformer</label><div class=\"sk-toggleable__content\"><pre>ColumnTransformer(remainder=&#x27;passthrough&#x27;,\n",
       "                  transformers=[(&#x27;pipeline-1&#x27;,\n",
       "                                 Pipeline(steps=[(&#x27;onehotencoder&#x27;,\n",
       "                                                  OneHotEncoder(handle_unknown=&#x27;ignore&#x27;,\n",
       "                                                                sparse=False)),\n",
       "                                                 (&#x27;standardscaler&#x27;,\n",
       "                                                  StandardScaler())]),\n",
       "                                 &lt;sklearn.compose._column_transformer.make_column_selector object at 0x7faff4c63520&gt;),\n",
       "                                (&#x27;pipeline-2&#x27;,\n",
       "                                 Pipeline(steps=[(&#x27;standardscaler&#x27;,\n",
       "                                                  StandardScaler())]),\n",
       "                                 &lt;sklearn.compose._column_transformer.make_column_selector object at 0x7faff4c63340&gt;)])</pre></div></div></div><div class=\"sk-parallel\"><div class=\"sk-parallel-item\"><div class=\"sk-item\"><div class=\"sk-label-container\"><div class=\"sk-label sk-toggleable\"><input class=\"sk-toggleable__control sk-hidden--visually\" id=\"03b09b6e-ddc0-423f-ba3e-89e680905b07\" type=\"checkbox\" ><label for=\"03b09b6e-ddc0-423f-ba3e-89e680905b07\" class=\"sk-toggleable__label sk-toggleable__label-arrow\">pipeline-1</label><div class=\"sk-toggleable__content\"><pre>&lt;sklearn.compose._column_transformer.make_column_selector object at 0x7faff4c63520&gt;</pre></div></div></div><div class=\"sk-serial\"><div class=\"sk-item\"><div class=\"sk-serial\"><div class=\"sk-item\"><div class=\"sk-estimator sk-toggleable\"><input class=\"sk-toggleable__control sk-hidden--visually\" id=\"a121b399-9ae8-46c8-84ad-2baa66aa885d\" type=\"checkbox\" ><label for=\"a121b399-9ae8-46c8-84ad-2baa66aa885d\" class=\"sk-toggleable__label sk-toggleable__label-arrow\">OneHotEncoder</label><div class=\"sk-toggleable__content\"><pre>OneHotEncoder(handle_unknown=&#x27;ignore&#x27;, sparse=False)</pre></div></div></div><div class=\"sk-item\"><div class=\"sk-estimator sk-toggleable\"><input class=\"sk-toggleable__control sk-hidden--visually\" id=\"4f33dc0c-e08a-471b-ad73-d024947d646f\" type=\"checkbox\" ><label for=\"4f33dc0c-e08a-471b-ad73-d024947d646f\" class=\"sk-toggleable__label sk-toggleable__label-arrow\">StandardScaler</label><div class=\"sk-toggleable__content\"><pre>StandardScaler()</pre></div></div></div></div></div></div></div></div><div class=\"sk-parallel-item\"><div class=\"sk-item\"><div class=\"sk-label-container\"><div class=\"sk-label sk-toggleable\"><input class=\"sk-toggleable__control sk-hidden--visually\" id=\"a3737f75-d756-47f7-a4cd-48d8a863f248\" type=\"checkbox\" ><label for=\"a3737f75-d756-47f7-a4cd-48d8a863f248\" class=\"sk-toggleable__label sk-toggleable__label-arrow\">pipeline-2</label><div class=\"sk-toggleable__content\"><pre>&lt;sklearn.compose._column_transformer.make_column_selector object at 0x7faff4c63340&gt;</pre></div></div></div><div class=\"sk-serial\"><div class=\"sk-item\"><div class=\"sk-serial\"><div class=\"sk-item\"><div class=\"sk-estimator sk-toggleable\"><input class=\"sk-toggleable__control sk-hidden--visually\" id=\"c0c1021e-be64-4a58-a4a0-660efa9bffdd\" type=\"checkbox\" ><label for=\"c0c1021e-be64-4a58-a4a0-660efa9bffdd\" class=\"sk-toggleable__label sk-toggleable__label-arrow\">StandardScaler</label><div class=\"sk-toggleable__content\"><pre>StandardScaler()</pre></div></div></div></div></div></div></div></div><div class=\"sk-parallel-item\"><div class=\"sk-item\"><div class=\"sk-label-container\"><div class=\"sk-label sk-toggleable\"><input class=\"sk-toggleable__control sk-hidden--visually\" id=\"18f94559-51a5-40dc-b4f8-18a5bc06bcc6\" type=\"checkbox\" ><label for=\"18f94559-51a5-40dc-b4f8-18a5bc06bcc6\" class=\"sk-toggleable__label sk-toggleable__label-arrow\">remainder</label><div class=\"sk-toggleable__content\"><pre>[]</pre></div></div></div><div class=\"sk-serial\"><div class=\"sk-item\"><div class=\"sk-estimator sk-toggleable\"><input class=\"sk-toggleable__control sk-hidden--visually\" id=\"0ec6bacc-6ffc-4cbf-abf6-ad3361fabac2\" type=\"checkbox\" ><label for=\"0ec6bacc-6ffc-4cbf-abf6-ad3361fabac2\" class=\"sk-toggleable__label sk-toggleable__label-arrow\">passthrough</label><div class=\"sk-toggleable__content\"><pre>passthrough</pre></div></div></div></div></div></div></div></div><div class=\"sk-item\"><div class=\"sk-estimator sk-toggleable\"><input class=\"sk-toggleable__control sk-hidden--visually\" id=\"9cf72882-2e3d-48db-a023-b3df2f8b38c8\" type=\"checkbox\" ><label for=\"9cf72882-2e3d-48db-a023-b3df2f8b38c8\" class=\"sk-toggleable__label sk-toggleable__label-arrow\">PCA</label><div class=\"sk-toggleable__content\"><pre>PCA(n_components=0.95)</pre></div></div></div><div class=\"sk-item\"><div class=\"sk-estimator sk-toggleable\"><input class=\"sk-toggleable__control sk-hidden--visually\" id=\"41ec37a2-6e1b-420b-bb99-ce9b6522beba\" type=\"checkbox\" ><label for=\"41ec37a2-6e1b-420b-bb99-ce9b6522beba\" class=\"sk-toggleable__label sk-toggleable__label-arrow\">Ridge</label><div class=\"sk-toggleable__content\"><pre>Ridge()</pre></div></div></div></div></div></div></div>"
      ],
      "text/plain": [
       "Pipeline(steps=[('columntransformer',\n",
       "                 ColumnTransformer(remainder='passthrough',\n",
       "                                   transformers=[('pipeline-1',\n",
       "                                                  Pipeline(steps=[('onehotencoder',\n",
       "                                                                   OneHotEncoder(handle_unknown='ignore',\n",
       "                                                                                 sparse=False)),\n",
       "                                                                  ('standardscaler',\n",
       "                                                                   StandardScaler())]),\n",
       "                                                  <sklearn.compose._column_transformer.make_column_selector object at 0x7faff4c63520>),\n",
       "                                                 ('pipeline-2',\n",
       "                                                  Pipeline(steps=[('standardscaler',\n",
       "                                                                   StandardScaler())]),\n",
       "                                                  <sklearn.compose._column_transformer.make_column_selector object at 0x7faff4c63340>)])),\n",
       "                ('pca', PCA(n_components=0.95)), ('ridge', Ridge())])"
      ]
     },
     "execution_count": 82,
     "metadata": {},
     "output_type": "execute_result"
    }
   ],
   "source": [
    "#Fit pipeline\n",
    "ridge_pipe.fit(X_train, y_train)"
   ]
  },
  {
   "cell_type": "code",
   "execution_count": 83,
   "id": "f193dbf5",
   "metadata": {},
   "outputs": [],
   "source": [
    "#Create params for GridSearchCV\n",
    "grid_params = {\"ridge__max_iter\": [1000],\n",
    "                      'ridge__alpha': range(10,1000,100),\n",
    "                       'ridge__fit_intercept': [True, False]}"
   ]
  },
  {
   "cell_type": "code",
   "execution_count": 84,
   "id": "5e066d7d",
   "metadata": {},
   "outputs": [],
   "source": [
    "#Instantiate GridSearchCV\n",
    "ridge_grid = GridSearchCV(ridge_pipe, grid_params)"
   ]
  },
  {
   "cell_type": "code",
   "execution_count": 85,
   "id": "cf0fca74",
   "metadata": {},
   "outputs": [
    {
     "name": "stdout",
     "output_type": "stream",
     "text": [
      "CPU times: user 21.3 s, sys: 691 ms, total: 22 s\n",
      "Wall time: 6.39 s\n"
     ]
    },
    {
     "data": {
      "text/html": [
       "<style>#sk-a3ecfbac-02f7-4b4e-8336-16b6ab596ae4 {color: black;background-color: white;}#sk-a3ecfbac-02f7-4b4e-8336-16b6ab596ae4 pre{padding: 0;}#sk-a3ecfbac-02f7-4b4e-8336-16b6ab596ae4 div.sk-toggleable {background-color: white;}#sk-a3ecfbac-02f7-4b4e-8336-16b6ab596ae4 label.sk-toggleable__label {cursor: pointer;display: block;width: 100%;margin-bottom: 0;padding: 0.3em;box-sizing: border-box;text-align: center;}#sk-a3ecfbac-02f7-4b4e-8336-16b6ab596ae4 label.sk-toggleable__label-arrow:before {content: \"▸\";float: left;margin-right: 0.25em;color: #696969;}#sk-a3ecfbac-02f7-4b4e-8336-16b6ab596ae4 label.sk-toggleable__label-arrow:hover:before {color: black;}#sk-a3ecfbac-02f7-4b4e-8336-16b6ab596ae4 div.sk-estimator:hover label.sk-toggleable__label-arrow:before {color: black;}#sk-a3ecfbac-02f7-4b4e-8336-16b6ab596ae4 div.sk-toggleable__content {max-height: 0;max-width: 0;overflow: hidden;text-align: left;background-color: #f0f8ff;}#sk-a3ecfbac-02f7-4b4e-8336-16b6ab596ae4 div.sk-toggleable__content pre {margin: 0.2em;color: black;border-radius: 0.25em;background-color: #f0f8ff;}#sk-a3ecfbac-02f7-4b4e-8336-16b6ab596ae4 input.sk-toggleable__control:checked~div.sk-toggleable__content {max-height: 200px;max-width: 100%;overflow: auto;}#sk-a3ecfbac-02f7-4b4e-8336-16b6ab596ae4 input.sk-toggleable__control:checked~label.sk-toggleable__label-arrow:before {content: \"▾\";}#sk-a3ecfbac-02f7-4b4e-8336-16b6ab596ae4 div.sk-estimator input.sk-toggleable__control:checked~label.sk-toggleable__label {background-color: #d4ebff;}#sk-a3ecfbac-02f7-4b4e-8336-16b6ab596ae4 div.sk-label input.sk-toggleable__control:checked~label.sk-toggleable__label {background-color: #d4ebff;}#sk-a3ecfbac-02f7-4b4e-8336-16b6ab596ae4 input.sk-hidden--visually {border: 0;clip: rect(1px 1px 1px 1px);clip: rect(1px, 1px, 1px, 1px);height: 1px;margin: -1px;overflow: hidden;padding: 0;position: absolute;width: 1px;}#sk-a3ecfbac-02f7-4b4e-8336-16b6ab596ae4 div.sk-estimator {font-family: monospace;background-color: #f0f8ff;border: 1px dotted black;border-radius: 0.25em;box-sizing: border-box;margin-bottom: 0.5em;}#sk-a3ecfbac-02f7-4b4e-8336-16b6ab596ae4 div.sk-estimator:hover {background-color: #d4ebff;}#sk-a3ecfbac-02f7-4b4e-8336-16b6ab596ae4 div.sk-parallel-item::after {content: \"\";width: 100%;border-bottom: 1px solid gray;flex-grow: 1;}#sk-a3ecfbac-02f7-4b4e-8336-16b6ab596ae4 div.sk-label:hover label.sk-toggleable__label {background-color: #d4ebff;}#sk-a3ecfbac-02f7-4b4e-8336-16b6ab596ae4 div.sk-serial::before {content: \"\";position: absolute;border-left: 1px solid gray;box-sizing: border-box;top: 2em;bottom: 0;left: 50%;}#sk-a3ecfbac-02f7-4b4e-8336-16b6ab596ae4 div.sk-serial {display: flex;flex-direction: column;align-items: center;background-color: white;padding-right: 0.2em;padding-left: 0.2em;}#sk-a3ecfbac-02f7-4b4e-8336-16b6ab596ae4 div.sk-item {z-index: 1;}#sk-a3ecfbac-02f7-4b4e-8336-16b6ab596ae4 div.sk-parallel {display: flex;align-items: stretch;justify-content: center;background-color: white;}#sk-a3ecfbac-02f7-4b4e-8336-16b6ab596ae4 div.sk-parallel::before {content: \"\";position: absolute;border-left: 1px solid gray;box-sizing: border-box;top: 2em;bottom: 0;left: 50%;}#sk-a3ecfbac-02f7-4b4e-8336-16b6ab596ae4 div.sk-parallel-item {display: flex;flex-direction: column;position: relative;background-color: white;}#sk-a3ecfbac-02f7-4b4e-8336-16b6ab596ae4 div.sk-parallel-item:first-child::after {align-self: flex-end;width: 50%;}#sk-a3ecfbac-02f7-4b4e-8336-16b6ab596ae4 div.sk-parallel-item:last-child::after {align-self: flex-start;width: 50%;}#sk-a3ecfbac-02f7-4b4e-8336-16b6ab596ae4 div.sk-parallel-item:only-child::after {width: 0;}#sk-a3ecfbac-02f7-4b4e-8336-16b6ab596ae4 div.sk-dashed-wrapped {border: 1px dashed gray;margin: 0 0.4em 0.5em 0.4em;box-sizing: border-box;padding-bottom: 0.4em;background-color: white;position: relative;}#sk-a3ecfbac-02f7-4b4e-8336-16b6ab596ae4 div.sk-label label {font-family: monospace;font-weight: bold;background-color: white;display: inline-block;line-height: 1.2em;}#sk-a3ecfbac-02f7-4b4e-8336-16b6ab596ae4 div.sk-label-container {position: relative;z-index: 2;text-align: center;}#sk-a3ecfbac-02f7-4b4e-8336-16b6ab596ae4 div.sk-container {/* jupyter's `normalize.less` sets `[hidden] { display: none; }` but bootstrap.min.css set `[hidden] { display: none !important; }` so we also need the `!important` here to be able to override the default hidden behavior on the sphinx rendered scikit-learn.org. See: https://github.com/scikit-learn/scikit-learn/issues/21755 */display: inline-block !important;position: relative;}#sk-a3ecfbac-02f7-4b4e-8336-16b6ab596ae4 div.sk-text-repr-fallback {display: none;}</style><div id=\"sk-a3ecfbac-02f7-4b4e-8336-16b6ab596ae4\" class=\"sk-top-container\"><div class=\"sk-text-repr-fallback\"><pre>GridSearchCV(estimator=Pipeline(steps=[(&#x27;columntransformer&#x27;,\n",
       "                                        ColumnTransformer(remainder=&#x27;passthrough&#x27;,\n",
       "                                                          transformers=[(&#x27;pipeline-1&#x27;,\n",
       "                                                                         Pipeline(steps=[(&#x27;onehotencoder&#x27;,\n",
       "                                                                                          OneHotEncoder(handle_unknown=&#x27;ignore&#x27;,\n",
       "                                                                                                        sparse=False)),\n",
       "                                                                                         (&#x27;standardscaler&#x27;,\n",
       "                                                                                          StandardScaler())]),\n",
       "                                                                         &lt;sklearn.compose._column_transformer.make_column_selector object at 0x7faff4c63520&gt;),\n",
       "                                                                        (&#x27;pipeline-2&#x27;,\n",
       "                                                                         Pipeline(steps=[(&#x27;standardscaler&#x27;,\n",
       "                                                                                          StandardScaler())]),\n",
       "                                                                         &lt;sklearn.compose._column_transformer.make_column_selector object at 0x7faff4c63340&gt;)])),\n",
       "                                       (&#x27;pca&#x27;, PCA(n_components=0.95)),\n",
       "                                       (&#x27;ridge&#x27;, Ridge())]),\n",
       "             param_grid={&#x27;ridge__alpha&#x27;: range(10, 1000, 100),\n",
       "                         &#x27;ridge__fit_intercept&#x27;: [True, False],\n",
       "                         &#x27;ridge__max_iter&#x27;: [1000]})</pre><b>Please rerun this cell to show the HTML repr or trust the notebook.</b></div><div class=\"sk-container\" hidden><div class=\"sk-item sk-dashed-wrapped\"><div class=\"sk-label-container\"><div class=\"sk-label sk-toggleable\"><input class=\"sk-toggleable__control sk-hidden--visually\" id=\"95f9bd1e-8872-4893-bb91-f3303865ea96\" type=\"checkbox\" ><label for=\"95f9bd1e-8872-4893-bb91-f3303865ea96\" class=\"sk-toggleable__label sk-toggleable__label-arrow\">GridSearchCV</label><div class=\"sk-toggleable__content\"><pre>GridSearchCV(estimator=Pipeline(steps=[(&#x27;columntransformer&#x27;,\n",
       "                                        ColumnTransformer(remainder=&#x27;passthrough&#x27;,\n",
       "                                                          transformers=[(&#x27;pipeline-1&#x27;,\n",
       "                                                                         Pipeline(steps=[(&#x27;onehotencoder&#x27;,\n",
       "                                                                                          OneHotEncoder(handle_unknown=&#x27;ignore&#x27;,\n",
       "                                                                                                        sparse=False)),\n",
       "                                                                                         (&#x27;standardscaler&#x27;,\n",
       "                                                                                          StandardScaler())]),\n",
       "                                                                         &lt;sklearn.compose._column_transformer.make_column_selector object at 0x7faff4c63520&gt;),\n",
       "                                                                        (&#x27;pipeline-2&#x27;,\n",
       "                                                                         Pipeline(steps=[(&#x27;standardscaler&#x27;,\n",
       "                                                                                          StandardScaler())]),\n",
       "                                                                         &lt;sklearn.compose._column_transformer.make_column_selector object at 0x7faff4c63340&gt;)])),\n",
       "                                       (&#x27;pca&#x27;, PCA(n_components=0.95)),\n",
       "                                       (&#x27;ridge&#x27;, Ridge())]),\n",
       "             param_grid={&#x27;ridge__alpha&#x27;: range(10, 1000, 100),\n",
       "                         &#x27;ridge__fit_intercept&#x27;: [True, False],\n",
       "                         &#x27;ridge__max_iter&#x27;: [1000]})</pre></div></div></div><div class=\"sk-parallel\"><div class=\"sk-parallel-item\"><div class=\"sk-item\"><div class=\"sk-serial\"><div class=\"sk-item\"><div class=\"sk-serial\"><div class=\"sk-item sk-dashed-wrapped\"><div class=\"sk-label-container\"><div class=\"sk-label sk-toggleable\"><input class=\"sk-toggleable__control sk-hidden--visually\" id=\"8c53cc39-2f92-42c9-b73f-896f91ca136d\" type=\"checkbox\" ><label for=\"8c53cc39-2f92-42c9-b73f-896f91ca136d\" class=\"sk-toggleable__label sk-toggleable__label-arrow\">columntransformer: ColumnTransformer</label><div class=\"sk-toggleable__content\"><pre>ColumnTransformer(remainder=&#x27;passthrough&#x27;,\n",
       "                  transformers=[(&#x27;pipeline-1&#x27;,\n",
       "                                 Pipeline(steps=[(&#x27;onehotencoder&#x27;,\n",
       "                                                  OneHotEncoder(handle_unknown=&#x27;ignore&#x27;,\n",
       "                                                                sparse=False)),\n",
       "                                                 (&#x27;standardscaler&#x27;,\n",
       "                                                  StandardScaler())]),\n",
       "                                 &lt;sklearn.compose._column_transformer.make_column_selector object at 0x7faff4c63520&gt;),\n",
       "                                (&#x27;pipeline-2&#x27;,\n",
       "                                 Pipeline(steps=[(&#x27;standardscaler&#x27;,\n",
       "                                                  StandardScaler())]),\n",
       "                                 &lt;sklearn.compose._column_transformer.make_column_selector object at 0x7faff4c63340&gt;)])</pre></div></div></div><div class=\"sk-parallel\"><div class=\"sk-parallel-item\"><div class=\"sk-item\"><div class=\"sk-label-container\"><div class=\"sk-label sk-toggleable\"><input class=\"sk-toggleable__control sk-hidden--visually\" id=\"aced2993-45f3-43c2-865c-328f2d132503\" type=\"checkbox\" ><label for=\"aced2993-45f3-43c2-865c-328f2d132503\" class=\"sk-toggleable__label sk-toggleable__label-arrow\">pipeline-1</label><div class=\"sk-toggleable__content\"><pre>&lt;sklearn.compose._column_transformer.make_column_selector object at 0x7faff4c63520&gt;</pre></div></div></div><div class=\"sk-serial\"><div class=\"sk-item\"><div class=\"sk-serial\"><div class=\"sk-item\"><div class=\"sk-estimator sk-toggleable\"><input class=\"sk-toggleable__control sk-hidden--visually\" id=\"6b2e7b16-e60a-4abb-844b-504cfe623758\" type=\"checkbox\" ><label for=\"6b2e7b16-e60a-4abb-844b-504cfe623758\" class=\"sk-toggleable__label sk-toggleable__label-arrow\">OneHotEncoder</label><div class=\"sk-toggleable__content\"><pre>OneHotEncoder(handle_unknown=&#x27;ignore&#x27;, sparse=False)</pre></div></div></div><div class=\"sk-item\"><div class=\"sk-estimator sk-toggleable\"><input class=\"sk-toggleable__control sk-hidden--visually\" id=\"bf6fe757-e80a-465e-8d87-296617578035\" type=\"checkbox\" ><label for=\"bf6fe757-e80a-465e-8d87-296617578035\" class=\"sk-toggleable__label sk-toggleable__label-arrow\">StandardScaler</label><div class=\"sk-toggleable__content\"><pre>StandardScaler()</pre></div></div></div></div></div></div></div></div><div class=\"sk-parallel-item\"><div class=\"sk-item\"><div class=\"sk-label-container\"><div class=\"sk-label sk-toggleable\"><input class=\"sk-toggleable__control sk-hidden--visually\" id=\"863ca5be-21b4-4f24-90ec-0c1ed5193fea\" type=\"checkbox\" ><label for=\"863ca5be-21b4-4f24-90ec-0c1ed5193fea\" class=\"sk-toggleable__label sk-toggleable__label-arrow\">pipeline-2</label><div class=\"sk-toggleable__content\"><pre>&lt;sklearn.compose._column_transformer.make_column_selector object at 0x7faff4c63340&gt;</pre></div></div></div><div class=\"sk-serial\"><div class=\"sk-item\"><div class=\"sk-serial\"><div class=\"sk-item\"><div class=\"sk-estimator sk-toggleable\"><input class=\"sk-toggleable__control sk-hidden--visually\" id=\"7e23896c-07c3-4ab3-952d-a504a7585b77\" type=\"checkbox\" ><label for=\"7e23896c-07c3-4ab3-952d-a504a7585b77\" class=\"sk-toggleable__label sk-toggleable__label-arrow\">StandardScaler</label><div class=\"sk-toggleable__content\"><pre>StandardScaler()</pre></div></div></div></div></div></div></div></div><div class=\"sk-parallel-item\"><div class=\"sk-item\"><div class=\"sk-label-container\"><div class=\"sk-label sk-toggleable\"><input class=\"sk-toggleable__control sk-hidden--visually\" id=\"3547d5f4-4680-48be-93e8-59cee1a96cb1\" type=\"checkbox\" ><label for=\"3547d5f4-4680-48be-93e8-59cee1a96cb1\" class=\"sk-toggleable__label sk-toggleable__label-arrow\">remainder</label><div class=\"sk-toggleable__content\"><pre>[]</pre></div></div></div><div class=\"sk-serial\"><div class=\"sk-item\"><div class=\"sk-estimator sk-toggleable\"><input class=\"sk-toggleable__control sk-hidden--visually\" id=\"dbc8e401-e954-4065-b5db-57292af461b7\" type=\"checkbox\" ><label for=\"dbc8e401-e954-4065-b5db-57292af461b7\" class=\"sk-toggleable__label sk-toggleable__label-arrow\">passthrough</label><div class=\"sk-toggleable__content\"><pre>passthrough</pre></div></div></div></div></div></div></div></div><div class=\"sk-item\"><div class=\"sk-estimator sk-toggleable\"><input class=\"sk-toggleable__control sk-hidden--visually\" id=\"a4b6bc24-38d8-43aa-bea5-b84629194aeb\" type=\"checkbox\" ><label for=\"a4b6bc24-38d8-43aa-bea5-b84629194aeb\" class=\"sk-toggleable__label sk-toggleable__label-arrow\">PCA</label><div class=\"sk-toggleable__content\"><pre>PCA(n_components=0.95)</pre></div></div></div><div class=\"sk-item\"><div class=\"sk-estimator sk-toggleable\"><input class=\"sk-toggleable__control sk-hidden--visually\" id=\"26b6f354-5e26-482f-a341-21091a42f69f\" type=\"checkbox\" ><label for=\"26b6f354-5e26-482f-a341-21091a42f69f\" class=\"sk-toggleable__label sk-toggleable__label-arrow\">Ridge</label><div class=\"sk-toggleable__content\"><pre>Ridge()</pre></div></div></div></div></div></div></div></div></div></div></div></div>"
      ],
      "text/plain": [
       "GridSearchCV(estimator=Pipeline(steps=[('columntransformer',\n",
       "                                        ColumnTransformer(remainder='passthrough',\n",
       "                                                          transformers=[('pipeline-1',\n",
       "                                                                         Pipeline(steps=[('onehotencoder',\n",
       "                                                                                          OneHotEncoder(handle_unknown='ignore',\n",
       "                                                                                                        sparse=False)),\n",
       "                                                                                         ('standardscaler',\n",
       "                                                                                          StandardScaler())]),\n",
       "                                                                         <sklearn.compose._column_transformer.make_column_selector object at 0x7faff4c63520>),\n",
       "                                                                        ('pipeline-2',\n",
       "                                                                         Pipeline(steps=[('standardscaler',\n",
       "                                                                                          StandardScaler())]),\n",
       "                                                                         <sklearn.compose._column_transformer.make_column_selector object at 0x7faff4c63340>)])),\n",
       "                                       ('pca', PCA(n_components=0.95)),\n",
       "                                       ('ridge', Ridge())]),\n",
       "             param_grid={'ridge__alpha': range(10, 1000, 100),\n",
       "                         'ridge__fit_intercept': [True, False],\n",
       "                         'ridge__max_iter': [1000]})"
      ]
     },
     "execution_count": 85,
     "metadata": {},
     "output_type": "execute_result"
    }
   ],
   "source": [
    "%%time\n",
    "#Fit GridSearchCV\n",
    "ridge_grid.fit(X_train, y_train)"
   ]
  },
  {
   "cell_type": "code",
   "execution_count": 86,
   "id": "702e5563",
   "metadata": {},
   "outputs": [
    {
     "data": {
      "text/plain": [
       "{'ridge__alpha': 510, 'ridge__fit_intercept': True, 'ridge__max_iter': 1000}"
      ]
     },
     "execution_count": 86,
     "metadata": {},
     "output_type": "execute_result"
    }
   ],
   "source": [
    "#Determine best params\n",
    "ridge_grid.best_params_"
   ]
  },
  {
   "cell_type": "code",
   "execution_count": 87,
   "id": "fa5fa375",
   "metadata": {},
   "outputs": [],
   "source": [
    "#Instantiate Ridge with previous best max iter and intercept\n",
    "ridge = Ridge(max_iter=1000, fit_intercept=True)\n",
    "#Hypertuning alpha within 510 range\n",
    "grid_params = {'ridge__alpha': [480,490,500,510,520,530,540,550]}\n",
    "#Update ridge pipeline\n",
    "ridge_pipe = make_pipeline(lr_preprocessor, pca, ridge)"
   ]
  },
  {
   "cell_type": "code",
   "execution_count": 88,
   "id": "1322b06f",
   "metadata": {},
   "outputs": [],
   "source": [
    "#Instantiate GridSearchCV\n",
    "ridge_grid = GridSearchCV(ridge_pipe, grid_params)"
   ]
  },
  {
   "cell_type": "code",
   "execution_count": 89,
   "id": "29da7175",
   "metadata": {},
   "outputs": [
    {
     "name": "stdout",
     "output_type": "stream",
     "text": [
      "CPU times: user 8.66 s, sys: 244 ms, total: 8.91 s\n",
      "Wall time: 2.34 s\n"
     ]
    },
    {
     "data": {
      "text/html": [
       "<style>#sk-6be18819-583c-4c08-a358-ea1bacdba647 {color: black;background-color: white;}#sk-6be18819-583c-4c08-a358-ea1bacdba647 pre{padding: 0;}#sk-6be18819-583c-4c08-a358-ea1bacdba647 div.sk-toggleable {background-color: white;}#sk-6be18819-583c-4c08-a358-ea1bacdba647 label.sk-toggleable__label {cursor: pointer;display: block;width: 100%;margin-bottom: 0;padding: 0.3em;box-sizing: border-box;text-align: center;}#sk-6be18819-583c-4c08-a358-ea1bacdba647 label.sk-toggleable__label-arrow:before {content: \"▸\";float: left;margin-right: 0.25em;color: #696969;}#sk-6be18819-583c-4c08-a358-ea1bacdba647 label.sk-toggleable__label-arrow:hover:before {color: black;}#sk-6be18819-583c-4c08-a358-ea1bacdba647 div.sk-estimator:hover label.sk-toggleable__label-arrow:before {color: black;}#sk-6be18819-583c-4c08-a358-ea1bacdba647 div.sk-toggleable__content {max-height: 0;max-width: 0;overflow: hidden;text-align: left;background-color: #f0f8ff;}#sk-6be18819-583c-4c08-a358-ea1bacdba647 div.sk-toggleable__content pre {margin: 0.2em;color: black;border-radius: 0.25em;background-color: #f0f8ff;}#sk-6be18819-583c-4c08-a358-ea1bacdba647 input.sk-toggleable__control:checked~div.sk-toggleable__content {max-height: 200px;max-width: 100%;overflow: auto;}#sk-6be18819-583c-4c08-a358-ea1bacdba647 input.sk-toggleable__control:checked~label.sk-toggleable__label-arrow:before {content: \"▾\";}#sk-6be18819-583c-4c08-a358-ea1bacdba647 div.sk-estimator input.sk-toggleable__control:checked~label.sk-toggleable__label {background-color: #d4ebff;}#sk-6be18819-583c-4c08-a358-ea1bacdba647 div.sk-label input.sk-toggleable__control:checked~label.sk-toggleable__label {background-color: #d4ebff;}#sk-6be18819-583c-4c08-a358-ea1bacdba647 input.sk-hidden--visually {border: 0;clip: rect(1px 1px 1px 1px);clip: rect(1px, 1px, 1px, 1px);height: 1px;margin: -1px;overflow: hidden;padding: 0;position: absolute;width: 1px;}#sk-6be18819-583c-4c08-a358-ea1bacdba647 div.sk-estimator {font-family: monospace;background-color: #f0f8ff;border: 1px dotted black;border-radius: 0.25em;box-sizing: border-box;margin-bottom: 0.5em;}#sk-6be18819-583c-4c08-a358-ea1bacdba647 div.sk-estimator:hover {background-color: #d4ebff;}#sk-6be18819-583c-4c08-a358-ea1bacdba647 div.sk-parallel-item::after {content: \"\";width: 100%;border-bottom: 1px solid gray;flex-grow: 1;}#sk-6be18819-583c-4c08-a358-ea1bacdba647 div.sk-label:hover label.sk-toggleable__label {background-color: #d4ebff;}#sk-6be18819-583c-4c08-a358-ea1bacdba647 div.sk-serial::before {content: \"\";position: absolute;border-left: 1px solid gray;box-sizing: border-box;top: 2em;bottom: 0;left: 50%;}#sk-6be18819-583c-4c08-a358-ea1bacdba647 div.sk-serial {display: flex;flex-direction: column;align-items: center;background-color: white;padding-right: 0.2em;padding-left: 0.2em;}#sk-6be18819-583c-4c08-a358-ea1bacdba647 div.sk-item {z-index: 1;}#sk-6be18819-583c-4c08-a358-ea1bacdba647 div.sk-parallel {display: flex;align-items: stretch;justify-content: center;background-color: white;}#sk-6be18819-583c-4c08-a358-ea1bacdba647 div.sk-parallel::before {content: \"\";position: absolute;border-left: 1px solid gray;box-sizing: border-box;top: 2em;bottom: 0;left: 50%;}#sk-6be18819-583c-4c08-a358-ea1bacdba647 div.sk-parallel-item {display: flex;flex-direction: column;position: relative;background-color: white;}#sk-6be18819-583c-4c08-a358-ea1bacdba647 div.sk-parallel-item:first-child::after {align-self: flex-end;width: 50%;}#sk-6be18819-583c-4c08-a358-ea1bacdba647 div.sk-parallel-item:last-child::after {align-self: flex-start;width: 50%;}#sk-6be18819-583c-4c08-a358-ea1bacdba647 div.sk-parallel-item:only-child::after {width: 0;}#sk-6be18819-583c-4c08-a358-ea1bacdba647 div.sk-dashed-wrapped {border: 1px dashed gray;margin: 0 0.4em 0.5em 0.4em;box-sizing: border-box;padding-bottom: 0.4em;background-color: white;position: relative;}#sk-6be18819-583c-4c08-a358-ea1bacdba647 div.sk-label label {font-family: monospace;font-weight: bold;background-color: white;display: inline-block;line-height: 1.2em;}#sk-6be18819-583c-4c08-a358-ea1bacdba647 div.sk-label-container {position: relative;z-index: 2;text-align: center;}#sk-6be18819-583c-4c08-a358-ea1bacdba647 div.sk-container {/* jupyter's `normalize.less` sets `[hidden] { display: none; }` but bootstrap.min.css set `[hidden] { display: none !important; }` so we also need the `!important` here to be able to override the default hidden behavior on the sphinx rendered scikit-learn.org. See: https://github.com/scikit-learn/scikit-learn/issues/21755 */display: inline-block !important;position: relative;}#sk-6be18819-583c-4c08-a358-ea1bacdba647 div.sk-text-repr-fallback {display: none;}</style><div id=\"sk-6be18819-583c-4c08-a358-ea1bacdba647\" class=\"sk-top-container\"><div class=\"sk-text-repr-fallback\"><pre>GridSearchCV(estimator=Pipeline(steps=[(&#x27;columntransformer&#x27;,\n",
       "                                        ColumnTransformer(remainder=&#x27;passthrough&#x27;,\n",
       "                                                          transformers=[(&#x27;pipeline-1&#x27;,\n",
       "                                                                         Pipeline(steps=[(&#x27;onehotencoder&#x27;,\n",
       "                                                                                          OneHotEncoder(handle_unknown=&#x27;ignore&#x27;,\n",
       "                                                                                                        sparse=False)),\n",
       "                                                                                         (&#x27;standardscaler&#x27;,\n",
       "                                                                                          StandardScaler())]),\n",
       "                                                                         &lt;sklearn.compose._column_transformer.make_column_selector object at 0x7faff4c63520&gt;),\n",
       "                                                                        (&#x27;pipeline-2&#x27;,\n",
       "                                                                         Pipeline(steps=[(&#x27;standardscaler&#x27;,\n",
       "                                                                                          StandardScaler())]),\n",
       "                                                                         &lt;sklearn.compose._column_transformer.make_column_selector object at 0x7faff4c63340&gt;)])),\n",
       "                                       (&#x27;pca&#x27;, PCA(n_components=0.95)),\n",
       "                                       (&#x27;ridge&#x27;, Ridge(max_iter=1000))]),\n",
       "             param_grid={&#x27;ridge__alpha&#x27;: [480, 490, 500, 510, 520, 530, 540,\n",
       "                                          550]})</pre><b>Please rerun this cell to show the HTML repr or trust the notebook.</b></div><div class=\"sk-container\" hidden><div class=\"sk-item sk-dashed-wrapped\"><div class=\"sk-label-container\"><div class=\"sk-label sk-toggleable\"><input class=\"sk-toggleable__control sk-hidden--visually\" id=\"0afc24af-feee-472e-85f8-f0a78a141588\" type=\"checkbox\" ><label for=\"0afc24af-feee-472e-85f8-f0a78a141588\" class=\"sk-toggleable__label sk-toggleable__label-arrow\">GridSearchCV</label><div class=\"sk-toggleable__content\"><pre>GridSearchCV(estimator=Pipeline(steps=[(&#x27;columntransformer&#x27;,\n",
       "                                        ColumnTransformer(remainder=&#x27;passthrough&#x27;,\n",
       "                                                          transformers=[(&#x27;pipeline-1&#x27;,\n",
       "                                                                         Pipeline(steps=[(&#x27;onehotencoder&#x27;,\n",
       "                                                                                          OneHotEncoder(handle_unknown=&#x27;ignore&#x27;,\n",
       "                                                                                                        sparse=False)),\n",
       "                                                                                         (&#x27;standardscaler&#x27;,\n",
       "                                                                                          StandardScaler())]),\n",
       "                                                                         &lt;sklearn.compose._column_transformer.make_column_selector object at 0x7faff4c63520&gt;),\n",
       "                                                                        (&#x27;pipeline-2&#x27;,\n",
       "                                                                         Pipeline(steps=[(&#x27;standardscaler&#x27;,\n",
       "                                                                                          StandardScaler())]),\n",
       "                                                                         &lt;sklearn.compose._column_transformer.make_column_selector object at 0x7faff4c63340&gt;)])),\n",
       "                                       (&#x27;pca&#x27;, PCA(n_components=0.95)),\n",
       "                                       (&#x27;ridge&#x27;, Ridge(max_iter=1000))]),\n",
       "             param_grid={&#x27;ridge__alpha&#x27;: [480, 490, 500, 510, 520, 530, 540,\n",
       "                                          550]})</pre></div></div></div><div class=\"sk-parallel\"><div class=\"sk-parallel-item\"><div class=\"sk-item\"><div class=\"sk-serial\"><div class=\"sk-item\"><div class=\"sk-serial\"><div class=\"sk-item sk-dashed-wrapped\"><div class=\"sk-label-container\"><div class=\"sk-label sk-toggleable\"><input class=\"sk-toggleable__control sk-hidden--visually\" id=\"8dd2343f-fbcf-46b1-b218-ebcf94a528ed\" type=\"checkbox\" ><label for=\"8dd2343f-fbcf-46b1-b218-ebcf94a528ed\" class=\"sk-toggleable__label sk-toggleable__label-arrow\">columntransformer: ColumnTransformer</label><div class=\"sk-toggleable__content\"><pre>ColumnTransformer(remainder=&#x27;passthrough&#x27;,\n",
       "                  transformers=[(&#x27;pipeline-1&#x27;,\n",
       "                                 Pipeline(steps=[(&#x27;onehotencoder&#x27;,\n",
       "                                                  OneHotEncoder(handle_unknown=&#x27;ignore&#x27;,\n",
       "                                                                sparse=False)),\n",
       "                                                 (&#x27;standardscaler&#x27;,\n",
       "                                                  StandardScaler())]),\n",
       "                                 &lt;sklearn.compose._column_transformer.make_column_selector object at 0x7faff4c63520&gt;),\n",
       "                                (&#x27;pipeline-2&#x27;,\n",
       "                                 Pipeline(steps=[(&#x27;standardscaler&#x27;,\n",
       "                                                  StandardScaler())]),\n",
       "                                 &lt;sklearn.compose._column_transformer.make_column_selector object at 0x7faff4c63340&gt;)])</pre></div></div></div><div class=\"sk-parallel\"><div class=\"sk-parallel-item\"><div class=\"sk-item\"><div class=\"sk-label-container\"><div class=\"sk-label sk-toggleable\"><input class=\"sk-toggleable__control sk-hidden--visually\" id=\"51f32de9-7f6a-4af6-acb2-b14d971cd36a\" type=\"checkbox\" ><label for=\"51f32de9-7f6a-4af6-acb2-b14d971cd36a\" class=\"sk-toggleable__label sk-toggleable__label-arrow\">pipeline-1</label><div class=\"sk-toggleable__content\"><pre>&lt;sklearn.compose._column_transformer.make_column_selector object at 0x7faff4c63520&gt;</pre></div></div></div><div class=\"sk-serial\"><div class=\"sk-item\"><div class=\"sk-serial\"><div class=\"sk-item\"><div class=\"sk-estimator sk-toggleable\"><input class=\"sk-toggleable__control sk-hidden--visually\" id=\"b473421b-7d10-4f87-aa68-4328707b52a1\" type=\"checkbox\" ><label for=\"b473421b-7d10-4f87-aa68-4328707b52a1\" class=\"sk-toggleable__label sk-toggleable__label-arrow\">OneHotEncoder</label><div class=\"sk-toggleable__content\"><pre>OneHotEncoder(handle_unknown=&#x27;ignore&#x27;, sparse=False)</pre></div></div></div><div class=\"sk-item\"><div class=\"sk-estimator sk-toggleable\"><input class=\"sk-toggleable__control sk-hidden--visually\" id=\"49102ec2-5c2b-4df6-98bb-ab4fdd14c3d0\" type=\"checkbox\" ><label for=\"49102ec2-5c2b-4df6-98bb-ab4fdd14c3d0\" class=\"sk-toggleable__label sk-toggleable__label-arrow\">StandardScaler</label><div class=\"sk-toggleable__content\"><pre>StandardScaler()</pre></div></div></div></div></div></div></div></div><div class=\"sk-parallel-item\"><div class=\"sk-item\"><div class=\"sk-label-container\"><div class=\"sk-label sk-toggleable\"><input class=\"sk-toggleable__control sk-hidden--visually\" id=\"159dda51-baac-4bae-a569-1fca313876a8\" type=\"checkbox\" ><label for=\"159dda51-baac-4bae-a569-1fca313876a8\" class=\"sk-toggleable__label sk-toggleable__label-arrow\">pipeline-2</label><div class=\"sk-toggleable__content\"><pre>&lt;sklearn.compose._column_transformer.make_column_selector object at 0x7faff4c63340&gt;</pre></div></div></div><div class=\"sk-serial\"><div class=\"sk-item\"><div class=\"sk-serial\"><div class=\"sk-item\"><div class=\"sk-estimator sk-toggleable\"><input class=\"sk-toggleable__control sk-hidden--visually\" id=\"e939dbcf-70bc-45c9-b250-6fd1f0c1b545\" type=\"checkbox\" ><label for=\"e939dbcf-70bc-45c9-b250-6fd1f0c1b545\" class=\"sk-toggleable__label sk-toggleable__label-arrow\">StandardScaler</label><div class=\"sk-toggleable__content\"><pre>StandardScaler()</pre></div></div></div></div></div></div></div></div><div class=\"sk-parallel-item\"><div class=\"sk-item\"><div class=\"sk-label-container\"><div class=\"sk-label sk-toggleable\"><input class=\"sk-toggleable__control sk-hidden--visually\" id=\"1c58e701-2d8a-4c03-9ccc-dffde435fa1d\" type=\"checkbox\" ><label for=\"1c58e701-2d8a-4c03-9ccc-dffde435fa1d\" class=\"sk-toggleable__label sk-toggleable__label-arrow\">remainder</label><div class=\"sk-toggleable__content\"><pre>[]</pre></div></div></div><div class=\"sk-serial\"><div class=\"sk-item\"><div class=\"sk-estimator sk-toggleable\"><input class=\"sk-toggleable__control sk-hidden--visually\" id=\"f8d9c64f-0438-47ff-8449-6db9f7168f6e\" type=\"checkbox\" ><label for=\"f8d9c64f-0438-47ff-8449-6db9f7168f6e\" class=\"sk-toggleable__label sk-toggleable__label-arrow\">passthrough</label><div class=\"sk-toggleable__content\"><pre>passthrough</pre></div></div></div></div></div></div></div></div><div class=\"sk-item\"><div class=\"sk-estimator sk-toggleable\"><input class=\"sk-toggleable__control sk-hidden--visually\" id=\"8f0052be-61e6-45a2-b034-26e362364aaf\" type=\"checkbox\" ><label for=\"8f0052be-61e6-45a2-b034-26e362364aaf\" class=\"sk-toggleable__label sk-toggleable__label-arrow\">PCA</label><div class=\"sk-toggleable__content\"><pre>PCA(n_components=0.95)</pre></div></div></div><div class=\"sk-item\"><div class=\"sk-estimator sk-toggleable\"><input class=\"sk-toggleable__control sk-hidden--visually\" id=\"b5336760-7b2f-4ac6-a5af-edc46c19a143\" type=\"checkbox\" ><label for=\"b5336760-7b2f-4ac6-a5af-edc46c19a143\" class=\"sk-toggleable__label sk-toggleable__label-arrow\">Ridge</label><div class=\"sk-toggleable__content\"><pre>Ridge(max_iter=1000)</pre></div></div></div></div></div></div></div></div></div></div></div></div>"
      ],
      "text/plain": [
       "GridSearchCV(estimator=Pipeline(steps=[('columntransformer',\n",
       "                                        ColumnTransformer(remainder='passthrough',\n",
       "                                                          transformers=[('pipeline-1',\n",
       "                                                                         Pipeline(steps=[('onehotencoder',\n",
       "                                                                                          OneHotEncoder(handle_unknown='ignore',\n",
       "                                                                                                        sparse=False)),\n",
       "                                                                                         ('standardscaler',\n",
       "                                                                                          StandardScaler())]),\n",
       "                                                                         <sklearn.compose._column_transformer.make_column_selector object at 0x7faff4c63520>),\n",
       "                                                                        ('pipeline-2',\n",
       "                                                                         Pipeline(steps=[('standardscaler',\n",
       "                                                                                          StandardScaler())]),\n",
       "                                                                         <sklearn.compose._column_transformer.make_column_selector object at 0x7faff4c63340>)])),\n",
       "                                       ('pca', PCA(n_components=0.95)),\n",
       "                                       ('ridge', Ridge(max_iter=1000))]),\n",
       "             param_grid={'ridge__alpha': [480, 490, 500, 510, 520, 530, 540,\n",
       "                                          550]})"
      ]
     },
     "execution_count": 89,
     "metadata": {},
     "output_type": "execute_result"
    }
   ],
   "source": [
    "%%time\n",
    "#Fit GridSearchCV\n",
    "ridge_grid.fit(X_train, y_train)"
   ]
  },
  {
   "cell_type": "code",
   "execution_count": 90,
   "id": "5e655c8b",
   "metadata": {},
   "outputs": [
    {
     "data": {
      "text/plain": [
       "{'ridge__alpha': 520}"
      ]
     },
     "execution_count": 90,
     "metadata": {},
     "output_type": "execute_result"
    }
   ],
   "source": [
    "#Determine best params\n",
    "ridge_grid.best_params_"
   ]
  },
  {
   "cell_type": "code",
   "execution_count": 91,
   "id": "8620ba4d",
   "metadata": {},
   "outputs": [],
   "source": [
    "#Ridge model with updated optimal params\n",
    "ridge = Ridge(alpha=520, fit_intercept=True, max_iter=1000)\n",
    "#Create ridge pipeline\n",
    "ridge_pipe = make_pipeline(lr_preprocessor, pca, ridge)"
   ]
  },
  {
   "cell_type": "code",
   "execution_count": 92,
   "id": "ec7c0708",
   "metadata": {},
   "outputs": [
    {
     "data": {
      "text/html": [
       "<style>#sk-082f76e6-474f-48ec-9758-2c51bc630621 {color: black;background-color: white;}#sk-082f76e6-474f-48ec-9758-2c51bc630621 pre{padding: 0;}#sk-082f76e6-474f-48ec-9758-2c51bc630621 div.sk-toggleable {background-color: white;}#sk-082f76e6-474f-48ec-9758-2c51bc630621 label.sk-toggleable__label {cursor: pointer;display: block;width: 100%;margin-bottom: 0;padding: 0.3em;box-sizing: border-box;text-align: center;}#sk-082f76e6-474f-48ec-9758-2c51bc630621 label.sk-toggleable__label-arrow:before {content: \"▸\";float: left;margin-right: 0.25em;color: #696969;}#sk-082f76e6-474f-48ec-9758-2c51bc630621 label.sk-toggleable__label-arrow:hover:before {color: black;}#sk-082f76e6-474f-48ec-9758-2c51bc630621 div.sk-estimator:hover label.sk-toggleable__label-arrow:before {color: black;}#sk-082f76e6-474f-48ec-9758-2c51bc630621 div.sk-toggleable__content {max-height: 0;max-width: 0;overflow: hidden;text-align: left;background-color: #f0f8ff;}#sk-082f76e6-474f-48ec-9758-2c51bc630621 div.sk-toggleable__content pre {margin: 0.2em;color: black;border-radius: 0.25em;background-color: #f0f8ff;}#sk-082f76e6-474f-48ec-9758-2c51bc630621 input.sk-toggleable__control:checked~div.sk-toggleable__content {max-height: 200px;max-width: 100%;overflow: auto;}#sk-082f76e6-474f-48ec-9758-2c51bc630621 input.sk-toggleable__control:checked~label.sk-toggleable__label-arrow:before {content: \"▾\";}#sk-082f76e6-474f-48ec-9758-2c51bc630621 div.sk-estimator input.sk-toggleable__control:checked~label.sk-toggleable__label {background-color: #d4ebff;}#sk-082f76e6-474f-48ec-9758-2c51bc630621 div.sk-label input.sk-toggleable__control:checked~label.sk-toggleable__label {background-color: #d4ebff;}#sk-082f76e6-474f-48ec-9758-2c51bc630621 input.sk-hidden--visually {border: 0;clip: rect(1px 1px 1px 1px);clip: rect(1px, 1px, 1px, 1px);height: 1px;margin: -1px;overflow: hidden;padding: 0;position: absolute;width: 1px;}#sk-082f76e6-474f-48ec-9758-2c51bc630621 div.sk-estimator {font-family: monospace;background-color: #f0f8ff;border: 1px dotted black;border-radius: 0.25em;box-sizing: border-box;margin-bottom: 0.5em;}#sk-082f76e6-474f-48ec-9758-2c51bc630621 div.sk-estimator:hover {background-color: #d4ebff;}#sk-082f76e6-474f-48ec-9758-2c51bc630621 div.sk-parallel-item::after {content: \"\";width: 100%;border-bottom: 1px solid gray;flex-grow: 1;}#sk-082f76e6-474f-48ec-9758-2c51bc630621 div.sk-label:hover label.sk-toggleable__label {background-color: #d4ebff;}#sk-082f76e6-474f-48ec-9758-2c51bc630621 div.sk-serial::before {content: \"\";position: absolute;border-left: 1px solid gray;box-sizing: border-box;top: 2em;bottom: 0;left: 50%;}#sk-082f76e6-474f-48ec-9758-2c51bc630621 div.sk-serial {display: flex;flex-direction: column;align-items: center;background-color: white;padding-right: 0.2em;padding-left: 0.2em;}#sk-082f76e6-474f-48ec-9758-2c51bc630621 div.sk-item {z-index: 1;}#sk-082f76e6-474f-48ec-9758-2c51bc630621 div.sk-parallel {display: flex;align-items: stretch;justify-content: center;background-color: white;}#sk-082f76e6-474f-48ec-9758-2c51bc630621 div.sk-parallel::before {content: \"\";position: absolute;border-left: 1px solid gray;box-sizing: border-box;top: 2em;bottom: 0;left: 50%;}#sk-082f76e6-474f-48ec-9758-2c51bc630621 div.sk-parallel-item {display: flex;flex-direction: column;position: relative;background-color: white;}#sk-082f76e6-474f-48ec-9758-2c51bc630621 div.sk-parallel-item:first-child::after {align-self: flex-end;width: 50%;}#sk-082f76e6-474f-48ec-9758-2c51bc630621 div.sk-parallel-item:last-child::after {align-self: flex-start;width: 50%;}#sk-082f76e6-474f-48ec-9758-2c51bc630621 div.sk-parallel-item:only-child::after {width: 0;}#sk-082f76e6-474f-48ec-9758-2c51bc630621 div.sk-dashed-wrapped {border: 1px dashed gray;margin: 0 0.4em 0.5em 0.4em;box-sizing: border-box;padding-bottom: 0.4em;background-color: white;position: relative;}#sk-082f76e6-474f-48ec-9758-2c51bc630621 div.sk-label label {font-family: monospace;font-weight: bold;background-color: white;display: inline-block;line-height: 1.2em;}#sk-082f76e6-474f-48ec-9758-2c51bc630621 div.sk-label-container {position: relative;z-index: 2;text-align: center;}#sk-082f76e6-474f-48ec-9758-2c51bc630621 div.sk-container {/* jupyter's `normalize.less` sets `[hidden] { display: none; }` but bootstrap.min.css set `[hidden] { display: none !important; }` so we also need the `!important` here to be able to override the default hidden behavior on the sphinx rendered scikit-learn.org. See: https://github.com/scikit-learn/scikit-learn/issues/21755 */display: inline-block !important;position: relative;}#sk-082f76e6-474f-48ec-9758-2c51bc630621 div.sk-text-repr-fallback {display: none;}</style><div id=\"sk-082f76e6-474f-48ec-9758-2c51bc630621\" class=\"sk-top-container\"><div class=\"sk-text-repr-fallback\"><pre>Pipeline(steps=[(&#x27;columntransformer&#x27;,\n",
       "                 ColumnTransformer(remainder=&#x27;passthrough&#x27;,\n",
       "                                   transformers=[(&#x27;pipeline-1&#x27;,\n",
       "                                                  Pipeline(steps=[(&#x27;onehotencoder&#x27;,\n",
       "                                                                   OneHotEncoder(handle_unknown=&#x27;ignore&#x27;,\n",
       "                                                                                 sparse=False)),\n",
       "                                                                  (&#x27;standardscaler&#x27;,\n",
       "                                                                   StandardScaler())]),\n",
       "                                                  &lt;sklearn.compose._column_transformer.make_column_selector object at 0x7faff4c63520&gt;),\n",
       "                                                 (&#x27;pipeline-2&#x27;,\n",
       "                                                  Pipeline(steps=[(&#x27;standardscaler&#x27;,\n",
       "                                                                   StandardScaler())]),\n",
       "                                                  &lt;sklearn.compose._column_transformer.make_column_selector object at 0x7faff4c63340&gt;)])),\n",
       "                (&#x27;pca&#x27;, PCA(n_components=0.95)),\n",
       "                (&#x27;ridge&#x27;, Ridge(alpha=520, max_iter=1000))])</pre><b>Please rerun this cell to show the HTML repr or trust the notebook.</b></div><div class=\"sk-container\" hidden><div class=\"sk-item sk-dashed-wrapped\"><div class=\"sk-label-container\"><div class=\"sk-label sk-toggleable\"><input class=\"sk-toggleable__control sk-hidden--visually\" id=\"f1fe8c14-df17-4da5-97fa-6ebb3eb2c201\" type=\"checkbox\" ><label for=\"f1fe8c14-df17-4da5-97fa-6ebb3eb2c201\" class=\"sk-toggleable__label sk-toggleable__label-arrow\">Pipeline</label><div class=\"sk-toggleable__content\"><pre>Pipeline(steps=[(&#x27;columntransformer&#x27;,\n",
       "                 ColumnTransformer(remainder=&#x27;passthrough&#x27;,\n",
       "                                   transformers=[(&#x27;pipeline-1&#x27;,\n",
       "                                                  Pipeline(steps=[(&#x27;onehotencoder&#x27;,\n",
       "                                                                   OneHotEncoder(handle_unknown=&#x27;ignore&#x27;,\n",
       "                                                                                 sparse=False)),\n",
       "                                                                  (&#x27;standardscaler&#x27;,\n",
       "                                                                   StandardScaler())]),\n",
       "                                                  &lt;sklearn.compose._column_transformer.make_column_selector object at 0x7faff4c63520&gt;),\n",
       "                                                 (&#x27;pipeline-2&#x27;,\n",
       "                                                  Pipeline(steps=[(&#x27;standardscaler&#x27;,\n",
       "                                                                   StandardScaler())]),\n",
       "                                                  &lt;sklearn.compose._column_transformer.make_column_selector object at 0x7faff4c63340&gt;)])),\n",
       "                (&#x27;pca&#x27;, PCA(n_components=0.95)),\n",
       "                (&#x27;ridge&#x27;, Ridge(alpha=520, max_iter=1000))])</pre></div></div></div><div class=\"sk-serial\"><div class=\"sk-item sk-dashed-wrapped\"><div class=\"sk-label-container\"><div class=\"sk-label sk-toggleable\"><input class=\"sk-toggleable__control sk-hidden--visually\" id=\"300ed095-4254-4dd4-91b9-1f3619fb7ac7\" type=\"checkbox\" ><label for=\"300ed095-4254-4dd4-91b9-1f3619fb7ac7\" class=\"sk-toggleable__label sk-toggleable__label-arrow\">columntransformer: ColumnTransformer</label><div class=\"sk-toggleable__content\"><pre>ColumnTransformer(remainder=&#x27;passthrough&#x27;,\n",
       "                  transformers=[(&#x27;pipeline-1&#x27;,\n",
       "                                 Pipeline(steps=[(&#x27;onehotencoder&#x27;,\n",
       "                                                  OneHotEncoder(handle_unknown=&#x27;ignore&#x27;,\n",
       "                                                                sparse=False)),\n",
       "                                                 (&#x27;standardscaler&#x27;,\n",
       "                                                  StandardScaler())]),\n",
       "                                 &lt;sklearn.compose._column_transformer.make_column_selector object at 0x7faff4c63520&gt;),\n",
       "                                (&#x27;pipeline-2&#x27;,\n",
       "                                 Pipeline(steps=[(&#x27;standardscaler&#x27;,\n",
       "                                                  StandardScaler())]),\n",
       "                                 &lt;sklearn.compose._column_transformer.make_column_selector object at 0x7faff4c63340&gt;)])</pre></div></div></div><div class=\"sk-parallel\"><div class=\"sk-parallel-item\"><div class=\"sk-item\"><div class=\"sk-label-container\"><div class=\"sk-label sk-toggleable\"><input class=\"sk-toggleable__control sk-hidden--visually\" id=\"d82adb78-487d-447f-a12a-a2c1565c7400\" type=\"checkbox\" ><label for=\"d82adb78-487d-447f-a12a-a2c1565c7400\" class=\"sk-toggleable__label sk-toggleable__label-arrow\">pipeline-1</label><div class=\"sk-toggleable__content\"><pre>&lt;sklearn.compose._column_transformer.make_column_selector object at 0x7faff4c63520&gt;</pre></div></div></div><div class=\"sk-serial\"><div class=\"sk-item\"><div class=\"sk-serial\"><div class=\"sk-item\"><div class=\"sk-estimator sk-toggleable\"><input class=\"sk-toggleable__control sk-hidden--visually\" id=\"435b7127-9a08-464a-9e6c-36673737410f\" type=\"checkbox\" ><label for=\"435b7127-9a08-464a-9e6c-36673737410f\" class=\"sk-toggleable__label sk-toggleable__label-arrow\">OneHotEncoder</label><div class=\"sk-toggleable__content\"><pre>OneHotEncoder(handle_unknown=&#x27;ignore&#x27;, sparse=False)</pre></div></div></div><div class=\"sk-item\"><div class=\"sk-estimator sk-toggleable\"><input class=\"sk-toggleable__control sk-hidden--visually\" id=\"b9a4708a-bc0d-4a63-ab17-dfe2d81051a7\" type=\"checkbox\" ><label for=\"b9a4708a-bc0d-4a63-ab17-dfe2d81051a7\" class=\"sk-toggleable__label sk-toggleable__label-arrow\">StandardScaler</label><div class=\"sk-toggleable__content\"><pre>StandardScaler()</pre></div></div></div></div></div></div></div></div><div class=\"sk-parallel-item\"><div class=\"sk-item\"><div class=\"sk-label-container\"><div class=\"sk-label sk-toggleable\"><input class=\"sk-toggleable__control sk-hidden--visually\" id=\"fc6eb116-d8ee-4c79-91e7-1804875534a9\" type=\"checkbox\" ><label for=\"fc6eb116-d8ee-4c79-91e7-1804875534a9\" class=\"sk-toggleable__label sk-toggleable__label-arrow\">pipeline-2</label><div class=\"sk-toggleable__content\"><pre>&lt;sklearn.compose._column_transformer.make_column_selector object at 0x7faff4c63340&gt;</pre></div></div></div><div class=\"sk-serial\"><div class=\"sk-item\"><div class=\"sk-serial\"><div class=\"sk-item\"><div class=\"sk-estimator sk-toggleable\"><input class=\"sk-toggleable__control sk-hidden--visually\" id=\"f2fc619d-9317-4191-9a5d-682ac1a3a3a7\" type=\"checkbox\" ><label for=\"f2fc619d-9317-4191-9a5d-682ac1a3a3a7\" class=\"sk-toggleable__label sk-toggleable__label-arrow\">StandardScaler</label><div class=\"sk-toggleable__content\"><pre>StandardScaler()</pre></div></div></div></div></div></div></div></div><div class=\"sk-parallel-item\"><div class=\"sk-item\"><div class=\"sk-label-container\"><div class=\"sk-label sk-toggleable\"><input class=\"sk-toggleable__control sk-hidden--visually\" id=\"74d98c05-f689-4d15-8fc8-88d194605f9d\" type=\"checkbox\" ><label for=\"74d98c05-f689-4d15-8fc8-88d194605f9d\" class=\"sk-toggleable__label sk-toggleable__label-arrow\">remainder</label><div class=\"sk-toggleable__content\"><pre>[]</pre></div></div></div><div class=\"sk-serial\"><div class=\"sk-item\"><div class=\"sk-estimator sk-toggleable\"><input class=\"sk-toggleable__control sk-hidden--visually\" id=\"41974e61-6df7-47f1-ac06-87a85cab6509\" type=\"checkbox\" ><label for=\"41974e61-6df7-47f1-ac06-87a85cab6509\" class=\"sk-toggleable__label sk-toggleable__label-arrow\">passthrough</label><div class=\"sk-toggleable__content\"><pre>passthrough</pre></div></div></div></div></div></div></div></div><div class=\"sk-item\"><div class=\"sk-estimator sk-toggleable\"><input class=\"sk-toggleable__control sk-hidden--visually\" id=\"c640589e-ffe9-4139-868a-31712d9e5e94\" type=\"checkbox\" ><label for=\"c640589e-ffe9-4139-868a-31712d9e5e94\" class=\"sk-toggleable__label sk-toggleable__label-arrow\">PCA</label><div class=\"sk-toggleable__content\"><pre>PCA(n_components=0.95)</pre></div></div></div><div class=\"sk-item\"><div class=\"sk-estimator sk-toggleable\"><input class=\"sk-toggleable__control sk-hidden--visually\" id=\"34e1a668-4909-4bc1-9bbb-c2156359503d\" type=\"checkbox\" ><label for=\"34e1a668-4909-4bc1-9bbb-c2156359503d\" class=\"sk-toggleable__label sk-toggleable__label-arrow\">Ridge</label><div class=\"sk-toggleable__content\"><pre>Ridge(alpha=520, max_iter=1000)</pre></div></div></div></div></div></div></div>"
      ],
      "text/plain": [
       "Pipeline(steps=[('columntransformer',\n",
       "                 ColumnTransformer(remainder='passthrough',\n",
       "                                   transformers=[('pipeline-1',\n",
       "                                                  Pipeline(steps=[('onehotencoder',\n",
       "                                                                   OneHotEncoder(handle_unknown='ignore',\n",
       "                                                                                 sparse=False)),\n",
       "                                                                  ('standardscaler',\n",
       "                                                                   StandardScaler())]),\n",
       "                                                  <sklearn.compose._column_transformer.make_column_selector object at 0x7faff4c63520>),\n",
       "                                                 ('pipeline-2',\n",
       "                                                  Pipeline(steps=[('standardscaler',\n",
       "                                                                   StandardScaler())]),\n",
       "                                                  <sklearn.compose._column_transformer.make_column_selector object at 0x7faff4c63340>)])),\n",
       "                ('pca', PCA(n_components=0.95)),\n",
       "                ('ridge', Ridge(alpha=520, max_iter=1000))])"
      ]
     },
     "execution_count": 92,
     "metadata": {},
     "output_type": "execute_result"
    }
   ],
   "source": [
    "#Fit pipeline\n",
    "ridge_pipe.fit(X_train, y_train)"
   ]
  },
  {
   "cell_type": "code",
   "execution_count": 93,
   "id": "e31da781",
   "metadata": {},
   "outputs": [
    {
     "name": "stdout",
     "output_type": "stream",
     "text": [
      "Ridge with Optimal Params\n",
      "RMSE Training Score: 0.10370326872219524\n",
      "R^2 Training Score: 0.5441104881530849\n",
      "\n",
      "RMSE Testing Score: 0.12253758080052325\n",
      "R^2 Testing Score: 0.2804276521419836\n",
      "\n",
      "CPU times: user 114 ms, sys: 9.72 ms, total: 124 ms\n",
      "Wall time: 37 ms\n"
     ]
    }
   ],
   "source": [
    "%%time\n",
    "#predictions \n",
    "ridge_train_score = eval_regression(y_train, ridge_pipe.predict(X_train))\n",
    "ridge_test_score = eval_regression(y_test, ridge_pipe.predict(X_test))\n",
    "print('Ridge with Optimal Params')\n",
    "print(f'RMSE Training Score: {ridge_train_score[0]}')\n",
    "print(f'R^2 Training Score: {ridge_train_score[1]}\\n')\n",
    "\n",
    "print(f'RMSE Testing Score: {ridge_test_score[0]}')\n",
    "print(f'R^2 Testing Score: {ridge_test_score[1]}\\n')"
   ]
  },
  {
   "cell_type": "code",
   "execution_count": 94,
   "id": "d69a4c13",
   "metadata": {},
   "outputs": [
    {
     "data": {
      "text/html": [
       "<div>\n",
       "<style scoped>\n",
       "    .dataframe tbody tr th:only-of-type {\n",
       "        vertical-align: middle;\n",
       "    }\n",
       "\n",
       "    .dataframe tbody tr th {\n",
       "        vertical-align: top;\n",
       "    }\n",
       "\n",
       "    .dataframe thead th {\n",
       "        text-align: right;\n",
       "    }\n",
       "</style>\n",
       "<table border=\"1\" class=\"dataframe\">\n",
       "  <thead>\n",
       "    <tr style=\"text-align: right;\">\n",
       "      <th></th>\n",
       "      <th>RMSE</th>\n",
       "      <th>R^2</th>\n",
       "    </tr>\n",
       "  </thead>\n",
       "  <tbody>\n",
       "    <tr>\n",
       "      <th>Reg Train</th>\n",
       "      <td>0.0</td>\n",
       "      <td>1.0</td>\n",
       "    </tr>\n",
       "    <tr>\n",
       "      <th>Reg Test</th>\n",
       "      <td>0.127464</td>\n",
       "      <td>0.274438</td>\n",
       "    </tr>\n",
       "    <tr>\n",
       "      <th>Reg PCA Train</th>\n",
       "      <td>0.0</td>\n",
       "      <td>1.0</td>\n",
       "    </tr>\n",
       "    <tr>\n",
       "      <th>Reg PCA Test</th>\n",
       "      <td>0.122236</td>\n",
       "      <td>0.332732</td>\n",
       "    </tr>\n",
       "    <tr>\n",
       "      <th>OPT Reg Train</th>\n",
       "      <td>0.108298</td>\n",
       "      <td>0.491688</td>\n",
       "    </tr>\n",
       "    <tr>\n",
       "      <th>OPT Reg Test</th>\n",
       "      <td>0.113991</td>\n",
       "      <td>0.419715</td>\n",
       "    </tr>\n",
       "    <tr>\n",
       "      <th>LR Train</th>\n",
       "      <td>0.107263</td>\n",
       "      <td>0.501358</td>\n",
       "    </tr>\n",
       "    <tr>\n",
       "      <th>LR Test</th>\n",
       "      <td>16700429514265.517578</td>\n",
       "      <td>-12455311841198355443634667520.0</td>\n",
       "    </tr>\n",
       "    <tr>\n",
       "      <th>LR PCA Train</th>\n",
       "      <td>0.07571</td>\n",
       "      <td>0.751578</td>\n",
       "    </tr>\n",
       "    <tr>\n",
       "      <th>LR PCA Test</th>\n",
       "      <td>0.102608</td>\n",
       "      <td>0.529824</td>\n",
       "    </tr>\n",
       "    <tr>\n",
       "      <th>Ridge Train</th>\n",
       "      <td>0.103703</td>\n",
       "      <td>0.54411</td>\n",
       "    </tr>\n",
       "    <tr>\n",
       "      <th>Ridge Test</th>\n",
       "      <td>0.122538</td>\n",
       "      <td>0.280428</td>\n",
       "    </tr>\n",
       "  </tbody>\n",
       "</table>\n",
       "</div>"
      ],
      "text/plain": [
       "                                RMSE                              R^2\n",
       "Reg Train                        0.0                              1.0\n",
       "Reg Test                    0.127464                         0.274438\n",
       "Reg PCA Train                    0.0                              1.0\n",
       "Reg PCA Test                0.122236                         0.332732\n",
       "OPT Reg Train               0.108298                         0.491688\n",
       "OPT Reg Test                0.113991                         0.419715\n",
       "LR Train                    0.107263                         0.501358\n",
       "LR Test        16700429514265.517578 -12455311841198355443634667520.0\n",
       "LR PCA Train                 0.07571                         0.751578\n",
       "LR PCA Test                 0.102608                         0.529824\n",
       "Ridge Train                 0.103703                          0.54411\n",
       "Ridge Test                  0.122538                         0.280428"
      ]
     },
     "execution_count": 94,
     "metadata": {},
     "output_type": "execute_result"
    }
   ],
   "source": [
    "#keeping score\n",
    "scores_df.loc['Ridge Train'] = [ridge_train_score[0], ridge_train_score[1]]\n",
    "scores_df.loc['Ridge Test'] = [ridge_test_score[0], ridge_test_score[1]]\n",
    "scores_df"
   ]
  },
  {
   "cell_type": "markdown",
   "id": "b6dfe12c",
   "metadata": {},
   "source": [
    "## Feature Engineering 2\n",
    "Combining body and acidity for a larger range, then dropping the original redundant columns. ML models will work with a new df that has greater than or equal to 13 points of data in winery. This should help to minimize the amount of single unique values"
   ]
  },
  {
   "cell_type": "code",
   "execution_count": 114,
   "id": "c9f7d0a1",
   "metadata": {},
   "outputs": [
    {
     "data": {
      "text/html": [
       "<div>\n",
       "<style scoped>\n",
       "    .dataframe tbody tr th:only-of-type {\n",
       "        vertical-align: middle;\n",
       "    }\n",
       "\n",
       "    .dataframe tbody tr th {\n",
       "        vertical-align: top;\n",
       "    }\n",
       "\n",
       "    .dataframe thead th {\n",
       "        text-align: right;\n",
       "    }\n",
       "</style>\n",
       "<table border=\"1\" class=\"dataframe\">\n",
       "  <thead>\n",
       "    <tr style=\"text-align: right;\">\n",
       "      <th></th>\n",
       "      <th>winery</th>\n",
       "      <th>wine</th>\n",
       "      <th>vintage</th>\n",
       "      <th>rating</th>\n",
       "      <th>num_reviews</th>\n",
       "      <th>region</th>\n",
       "      <th>price</th>\n",
       "      <th>type</th>\n",
       "      <th>body</th>\n",
       "      <th>acidity</th>\n",
       "    </tr>\n",
       "  </thead>\n",
       "  <tbody>\n",
       "    <tr>\n",
       "      <th>0</th>\n",
       "      <td>Teso La Monja</td>\n",
       "      <td>Tinto</td>\n",
       "      <td>2013</td>\n",
       "      <td>4.9</td>\n",
       "      <td>58</td>\n",
       "      <td>Toro</td>\n",
       "      <td>995.00</td>\n",
       "      <td>Toro Red</td>\n",
       "      <td>5.0</td>\n",
       "      <td>3.0</td>\n",
       "    </tr>\n",
       "    <tr>\n",
       "      <th>1</th>\n",
       "      <td>Artadi</td>\n",
       "      <td>Vina El Pison</td>\n",
       "      <td>2018</td>\n",
       "      <td>4.9</td>\n",
       "      <td>31</td>\n",
       "      <td>Vino de Espana</td>\n",
       "      <td>313.50</td>\n",
       "      <td>Tempranillo</td>\n",
       "      <td>4.0</td>\n",
       "      <td>2.0</td>\n",
       "    </tr>\n",
       "    <tr>\n",
       "      <th>2</th>\n",
       "      <td>Vega Sicilia</td>\n",
       "      <td>Unico</td>\n",
       "      <td>2009</td>\n",
       "      <td>4.8</td>\n",
       "      <td>1793</td>\n",
       "      <td>Ribera del Duero</td>\n",
       "      <td>324.95</td>\n",
       "      <td>Ribera Del Duero Red</td>\n",
       "      <td>5.0</td>\n",
       "      <td>3.0</td>\n",
       "    </tr>\n",
       "    <tr>\n",
       "      <th>3</th>\n",
       "      <td>Vega Sicilia</td>\n",
       "      <td>Unico</td>\n",
       "      <td>1999</td>\n",
       "      <td>4.8</td>\n",
       "      <td>1705</td>\n",
       "      <td>Ribera del Duero</td>\n",
       "      <td>692.96</td>\n",
       "      <td>Ribera Del Duero Red</td>\n",
       "      <td>5.0</td>\n",
       "      <td>3.0</td>\n",
       "    </tr>\n",
       "    <tr>\n",
       "      <th>4</th>\n",
       "      <td>Vega Sicilia</td>\n",
       "      <td>Unico</td>\n",
       "      <td>1996</td>\n",
       "      <td>4.8</td>\n",
       "      <td>1309</td>\n",
       "      <td>Ribera del Duero</td>\n",
       "      <td>778.06</td>\n",
       "      <td>Ribera Del Duero Red</td>\n",
       "      <td>5.0</td>\n",
       "      <td>3.0</td>\n",
       "    </tr>\n",
       "  </tbody>\n",
       "</table>\n",
       "</div>"
      ],
      "text/plain": [
       "          winery           wine  vintage  rating  num_reviews  \\\n",
       "0  Teso La Monja          Tinto     2013     4.9           58   \n",
       "1         Artadi  Vina El Pison     2018     4.9           31   \n",
       "2   Vega Sicilia          Unico     2009     4.8         1793   \n",
       "3   Vega Sicilia          Unico     1999     4.8         1705   \n",
       "4   Vega Sicilia          Unico     1996     4.8         1309   \n",
       "\n",
       "             region   price                  type  body  acidity  \n",
       "0              Toro  995.00              Toro Red   5.0      3.0  \n",
       "1    Vino de Espana  313.50           Tempranillo   4.0      2.0  \n",
       "2  Ribera del Duero  324.95  Ribera Del Duero Red   5.0      3.0  \n",
       "3  Ribera del Duero  692.96  Ribera Del Duero Red   5.0      3.0  \n",
       "4  Ribera del Duero  778.06  Ribera Del Duero Red   5.0      3.0  "
      ]
     },
     "execution_count": 114,
     "metadata": {},
     "output_type": "execute_result"
    }
   ],
   "source": [
    "#Create copy of ml data\n",
    "df3 = df_ml.copy()\n",
    "df3.head()"
   ]
  },
  {
   "cell_type": "code",
   "execution_count": 115,
   "id": "af992973",
   "metadata": {},
   "outputs": [
    {
     "data": {
      "text/html": [
       "<div>\n",
       "<style scoped>\n",
       "    .dataframe tbody tr th:only-of-type {\n",
       "        vertical-align: middle;\n",
       "    }\n",
       "\n",
       "    .dataframe tbody tr th {\n",
       "        vertical-align: top;\n",
       "    }\n",
       "\n",
       "    .dataframe thead th {\n",
       "        text-align: right;\n",
       "    }\n",
       "</style>\n",
       "<table border=\"1\" class=\"dataframe\">\n",
       "  <thead>\n",
       "    <tr style=\"text-align: right;\">\n",
       "      <th></th>\n",
       "      <th>winery</th>\n",
       "      <th>wine</th>\n",
       "      <th>vintage</th>\n",
       "      <th>rating</th>\n",
       "      <th>num_reviews</th>\n",
       "      <th>region</th>\n",
       "      <th>price</th>\n",
       "      <th>type</th>\n",
       "      <th>body_acidity</th>\n",
       "    </tr>\n",
       "  </thead>\n",
       "  <tbody>\n",
       "    <tr>\n",
       "      <th>0</th>\n",
       "      <td>Teso La Monja</td>\n",
       "      <td>Tinto</td>\n",
       "      <td>2013</td>\n",
       "      <td>4.9</td>\n",
       "      <td>58</td>\n",
       "      <td>Toro</td>\n",
       "      <td>995.00</td>\n",
       "      <td>Toro Red</td>\n",
       "      <td>8.0</td>\n",
       "    </tr>\n",
       "    <tr>\n",
       "      <th>1</th>\n",
       "      <td>Artadi</td>\n",
       "      <td>Vina El Pison</td>\n",
       "      <td>2018</td>\n",
       "      <td>4.9</td>\n",
       "      <td>31</td>\n",
       "      <td>Vino de Espana</td>\n",
       "      <td>313.50</td>\n",
       "      <td>Tempranillo</td>\n",
       "      <td>6.0</td>\n",
       "    </tr>\n",
       "    <tr>\n",
       "      <th>2</th>\n",
       "      <td>Vega Sicilia</td>\n",
       "      <td>Unico</td>\n",
       "      <td>2009</td>\n",
       "      <td>4.8</td>\n",
       "      <td>1793</td>\n",
       "      <td>Ribera del Duero</td>\n",
       "      <td>324.95</td>\n",
       "      <td>Ribera Del Duero Red</td>\n",
       "      <td>8.0</td>\n",
       "    </tr>\n",
       "    <tr>\n",
       "      <th>3</th>\n",
       "      <td>Vega Sicilia</td>\n",
       "      <td>Unico</td>\n",
       "      <td>1999</td>\n",
       "      <td>4.8</td>\n",
       "      <td>1705</td>\n",
       "      <td>Ribera del Duero</td>\n",
       "      <td>692.96</td>\n",
       "      <td>Ribera Del Duero Red</td>\n",
       "      <td>8.0</td>\n",
       "    </tr>\n",
       "    <tr>\n",
       "      <th>4</th>\n",
       "      <td>Vega Sicilia</td>\n",
       "      <td>Unico</td>\n",
       "      <td>1996</td>\n",
       "      <td>4.8</td>\n",
       "      <td>1309</td>\n",
       "      <td>Ribera del Duero</td>\n",
       "      <td>778.06</td>\n",
       "      <td>Ribera Del Duero Red</td>\n",
       "      <td>8.0</td>\n",
       "    </tr>\n",
       "  </tbody>\n",
       "</table>\n",
       "</div>"
      ],
      "text/plain": [
       "          winery           wine  vintage  rating  num_reviews  \\\n",
       "0  Teso La Monja          Tinto     2013     4.9           58   \n",
       "1         Artadi  Vina El Pison     2018     4.9           31   \n",
       "2   Vega Sicilia          Unico     2009     4.8         1793   \n",
       "3   Vega Sicilia          Unico     1999     4.8         1705   \n",
       "4   Vega Sicilia          Unico     1996     4.8         1309   \n",
       "\n",
       "             region   price                  type  body_acidity  \n",
       "0              Toro  995.00              Toro Red           8.0  \n",
       "1    Vino de Espana  313.50           Tempranillo           6.0  \n",
       "2  Ribera del Duero  324.95  Ribera Del Duero Red           8.0  \n",
       "3  Ribera del Duero  692.96  Ribera Del Duero Red           8.0  \n",
       "4  Ribera del Duero  778.06  Ribera Del Duero Red           8.0  "
      ]
     },
     "execution_count": 115,
     "metadata": {},
     "output_type": "execute_result"
    }
   ],
   "source": [
    "#Combining body and acidity\n",
    "df3['body_acidity'] = df3['body'] + df3['acidity']\n",
    "#Dropping redundant columns\n",
    "df3.drop(columns=['body', 'acidity'], inplace=True)\n",
    "df3.head()"
   ]
  },
  {
   "cell_type": "code",
   "execution_count": 97,
   "id": "026d7a3a",
   "metadata": {},
   "outputs": [
    {
     "data": {
      "text/html": [
       "<div>\n",
       "<style scoped>\n",
       "    .dataframe tbody tr th:only-of-type {\n",
       "        vertical-align: middle;\n",
       "    }\n",
       "\n",
       "    .dataframe tbody tr th {\n",
       "        vertical-align: top;\n",
       "    }\n",
       "\n",
       "    .dataframe thead th {\n",
       "        text-align: right;\n",
       "    }\n",
       "</style>\n",
       "<table border=\"1\" class=\"dataframe\">\n",
       "  <thead>\n",
       "    <tr style=\"text-align: right;\">\n",
       "      <th></th>\n",
       "      <th>winery</th>\n",
       "      <th>wine</th>\n",
       "      <th>vintage</th>\n",
       "      <th>rating</th>\n",
       "      <th>num_reviews</th>\n",
       "      <th>region</th>\n",
       "      <th>price</th>\n",
       "      <th>type</th>\n",
       "      <th>body_acidity</th>\n",
       "    </tr>\n",
       "  </thead>\n",
       "  <tbody>\n",
       "    <tr>\n",
       "      <th>0</th>\n",
       "      <td>Teso La Monja</td>\n",
       "      <td>Tinto</td>\n",
       "      <td>2013</td>\n",
       "      <td>4.9</td>\n",
       "      <td>58</td>\n",
       "      <td>Toro</td>\n",
       "      <td>995.00</td>\n",
       "      <td>Toro Red</td>\n",
       "      <td>8.0</td>\n",
       "    </tr>\n",
       "    <tr>\n",
       "      <th>1</th>\n",
       "      <td>Artadi</td>\n",
       "      <td>Vina El Pison</td>\n",
       "      <td>2018</td>\n",
       "      <td>4.9</td>\n",
       "      <td>31</td>\n",
       "      <td>Vino de Espana</td>\n",
       "      <td>313.50</td>\n",
       "      <td>Tempranillo</td>\n",
       "      <td>6.0</td>\n",
       "    </tr>\n",
       "    <tr>\n",
       "      <th>2</th>\n",
       "      <td>Vega Sicilia</td>\n",
       "      <td>Unico</td>\n",
       "      <td>2009</td>\n",
       "      <td>4.8</td>\n",
       "      <td>1793</td>\n",
       "      <td>Ribera del Duero</td>\n",
       "      <td>324.95</td>\n",
       "      <td>Ribera Del Duero Red</td>\n",
       "      <td>8.0</td>\n",
       "    </tr>\n",
       "    <tr>\n",
       "      <th>3</th>\n",
       "      <td>Vega Sicilia</td>\n",
       "      <td>Unico</td>\n",
       "      <td>1999</td>\n",
       "      <td>4.8</td>\n",
       "      <td>1705</td>\n",
       "      <td>Ribera del Duero</td>\n",
       "      <td>692.96</td>\n",
       "      <td>Ribera Del Duero Red</td>\n",
       "      <td>8.0</td>\n",
       "    </tr>\n",
       "    <tr>\n",
       "      <th>4</th>\n",
       "      <td>Vega Sicilia</td>\n",
       "      <td>Unico</td>\n",
       "      <td>1996</td>\n",
       "      <td>4.8</td>\n",
       "      <td>1309</td>\n",
       "      <td>Ribera del Duero</td>\n",
       "      <td>778.06</td>\n",
       "      <td>Ribera Del Duero Red</td>\n",
       "      <td>8.0</td>\n",
       "    </tr>\n",
       "    <tr>\n",
       "      <th>...</th>\n",
       "      <td>...</td>\n",
       "      <td>...</td>\n",
       "      <td>...</td>\n",
       "      <td>...</td>\n",
       "      <td>...</td>\n",
       "      <td>...</td>\n",
       "      <td>...</td>\n",
       "      <td>...</td>\n",
       "      <td>...</td>\n",
       "    </tr>\n",
       "    <tr>\n",
       "      <th>2028</th>\n",
       "      <td>Sierra Cantabria</td>\n",
       "      <td>Coleccion Privada</td>\n",
       "      <td>2012</td>\n",
       "      <td>4.2</td>\n",
       "      <td>420</td>\n",
       "      <td>Rioja</td>\n",
       "      <td>28.30</td>\n",
       "      <td>Rioja Red</td>\n",
       "      <td>7.0</td>\n",
       "    </tr>\n",
       "    <tr>\n",
       "      <th>2032</th>\n",
       "      <td>La Rioja Alta</td>\n",
       "      <td>Vina Alberdi Crianza</td>\n",
       "      <td>2018</td>\n",
       "      <td>4.2</td>\n",
       "      <td>410</td>\n",
       "      <td>Rioja</td>\n",
       "      <td>13.58</td>\n",
       "      <td>Rioja Red</td>\n",
       "      <td>7.0</td>\n",
       "    </tr>\n",
       "    <tr>\n",
       "      <th>2042</th>\n",
       "      <td>Artadi</td>\n",
       "      <td>Valdegines</td>\n",
       "      <td>2016</td>\n",
       "      <td>4.2</td>\n",
       "      <td>398</td>\n",
       "      <td>Vino de Espana</td>\n",
       "      <td>48.96</td>\n",
       "      <td>Tempranillo</td>\n",
       "      <td>6.0</td>\n",
       "    </tr>\n",
       "    <tr>\n",
       "      <th>2043</th>\n",
       "      <td>Contino</td>\n",
       "      <td>Rioja Graciano</td>\n",
       "      <td>2011</td>\n",
       "      <td>4.2</td>\n",
       "      <td>395</td>\n",
       "      <td>Rioja</td>\n",
       "      <td>61.94</td>\n",
       "      <td>Rioja Red</td>\n",
       "      <td>7.0</td>\n",
       "    </tr>\n",
       "    <tr>\n",
       "      <th>2044</th>\n",
       "      <td>Contino</td>\n",
       "      <td>Reserva</td>\n",
       "      <td>2016</td>\n",
       "      <td>4.2</td>\n",
       "      <td>392</td>\n",
       "      <td>Rioja</td>\n",
       "      <td>19.98</td>\n",
       "      <td>Rioja Red</td>\n",
       "      <td>7.0</td>\n",
       "    </tr>\n",
       "  </tbody>\n",
       "</table>\n",
       "<p>647 rows × 9 columns</p>\n",
       "</div>"
      ],
      "text/plain": [
       "                winery                  wine  vintage  rating  num_reviews  \\\n",
       "0        Teso La Monja                 Tinto     2013     4.9           58   \n",
       "1               Artadi         Vina El Pison     2018     4.9           31   \n",
       "2         Vega Sicilia                 Unico     2009     4.8         1793   \n",
       "3         Vega Sicilia                 Unico     1999     4.8         1705   \n",
       "4         Vega Sicilia                 Unico     1996     4.8         1309   \n",
       "...                ...                   ...      ...     ...          ...   \n",
       "2028  Sierra Cantabria     Coleccion Privada     2012     4.2          420   \n",
       "2032     La Rioja Alta  Vina Alberdi Crianza     2018     4.2          410   \n",
       "2042            Artadi            Valdegines     2016     4.2          398   \n",
       "2043           Contino        Rioja Graciano     2011     4.2          395   \n",
       "2044           Contino               Reserva     2016     4.2          392   \n",
       "\n",
       "                region   price                  type  body_acidity  \n",
       "0                 Toro  995.00              Toro Red           8.0  \n",
       "1       Vino de Espana  313.50           Tempranillo           6.0  \n",
       "2     Ribera del Duero  324.95  Ribera Del Duero Red           8.0  \n",
       "3     Ribera del Duero  692.96  Ribera Del Duero Red           8.0  \n",
       "4     Ribera del Duero  778.06  Ribera Del Duero Red           8.0  \n",
       "...                ...     ...                   ...           ...  \n",
       "2028             Rioja   28.30             Rioja Red           7.0  \n",
       "2032             Rioja   13.58             Rioja Red           7.0  \n",
       "2042    Vino de Espana   48.96           Tempranillo           6.0  \n",
       "2043             Rioja   61.94             Rioja Red           7.0  \n",
       "2044             Rioja   19.98             Rioja Red           7.0  \n",
       "\n",
       "[647 rows x 9 columns]"
      ]
     },
     "execution_count": 97,
     "metadata": {},
     "output_type": "execute_result"
    }
   ],
   "source": [
    "df4 = df3[df3['winery'].map(df3['winery'].value_counts()) >= 13] \n",
    "df4"
   ]
  },
  {
   "cell_type": "code",
   "execution_count": 98,
   "id": "996b320f",
   "metadata": {},
   "outputs": [],
   "source": [
    "# Matrix features and target\n",
    "X = df4.drop(columns='rating')\n",
    "y = df4['rating']\n",
    "\n",
    "#train test split\n",
    "X_train, X_test, y_train, y_test = train_test_split(X, y, random_state=42)"
   ]
  },
  {
   "cell_type": "markdown",
   "id": "c2b9ad78",
   "metadata": {},
   "source": [
    "## Method 4 - Linear Regression with PCA"
   ]
  },
  {
   "cell_type": "code",
   "execution_count": 99,
   "id": "ba3362eb",
   "metadata": {},
   "outputs": [],
   "source": [
    "#create lr pipeline\n",
    "lr2_pca_pipe = make_pipeline( lr_preprocessor, pca, lr)"
   ]
  },
  {
   "cell_type": "code",
   "execution_count": 100,
   "id": "8838a7df",
   "metadata": {},
   "outputs": [
    {
     "data": {
      "text/html": [
       "<style>#sk-7483a173-d70f-414f-963b-bfc67c631962 {color: black;background-color: white;}#sk-7483a173-d70f-414f-963b-bfc67c631962 pre{padding: 0;}#sk-7483a173-d70f-414f-963b-bfc67c631962 div.sk-toggleable {background-color: white;}#sk-7483a173-d70f-414f-963b-bfc67c631962 label.sk-toggleable__label {cursor: pointer;display: block;width: 100%;margin-bottom: 0;padding: 0.3em;box-sizing: border-box;text-align: center;}#sk-7483a173-d70f-414f-963b-bfc67c631962 label.sk-toggleable__label-arrow:before {content: \"▸\";float: left;margin-right: 0.25em;color: #696969;}#sk-7483a173-d70f-414f-963b-bfc67c631962 label.sk-toggleable__label-arrow:hover:before {color: black;}#sk-7483a173-d70f-414f-963b-bfc67c631962 div.sk-estimator:hover label.sk-toggleable__label-arrow:before {color: black;}#sk-7483a173-d70f-414f-963b-bfc67c631962 div.sk-toggleable__content {max-height: 0;max-width: 0;overflow: hidden;text-align: left;background-color: #f0f8ff;}#sk-7483a173-d70f-414f-963b-bfc67c631962 div.sk-toggleable__content pre {margin: 0.2em;color: black;border-radius: 0.25em;background-color: #f0f8ff;}#sk-7483a173-d70f-414f-963b-bfc67c631962 input.sk-toggleable__control:checked~div.sk-toggleable__content {max-height: 200px;max-width: 100%;overflow: auto;}#sk-7483a173-d70f-414f-963b-bfc67c631962 input.sk-toggleable__control:checked~label.sk-toggleable__label-arrow:before {content: \"▾\";}#sk-7483a173-d70f-414f-963b-bfc67c631962 div.sk-estimator input.sk-toggleable__control:checked~label.sk-toggleable__label {background-color: #d4ebff;}#sk-7483a173-d70f-414f-963b-bfc67c631962 div.sk-label input.sk-toggleable__control:checked~label.sk-toggleable__label {background-color: #d4ebff;}#sk-7483a173-d70f-414f-963b-bfc67c631962 input.sk-hidden--visually {border: 0;clip: rect(1px 1px 1px 1px);clip: rect(1px, 1px, 1px, 1px);height: 1px;margin: -1px;overflow: hidden;padding: 0;position: absolute;width: 1px;}#sk-7483a173-d70f-414f-963b-bfc67c631962 div.sk-estimator {font-family: monospace;background-color: #f0f8ff;border: 1px dotted black;border-radius: 0.25em;box-sizing: border-box;margin-bottom: 0.5em;}#sk-7483a173-d70f-414f-963b-bfc67c631962 div.sk-estimator:hover {background-color: #d4ebff;}#sk-7483a173-d70f-414f-963b-bfc67c631962 div.sk-parallel-item::after {content: \"\";width: 100%;border-bottom: 1px solid gray;flex-grow: 1;}#sk-7483a173-d70f-414f-963b-bfc67c631962 div.sk-label:hover label.sk-toggleable__label {background-color: #d4ebff;}#sk-7483a173-d70f-414f-963b-bfc67c631962 div.sk-serial::before {content: \"\";position: absolute;border-left: 1px solid gray;box-sizing: border-box;top: 2em;bottom: 0;left: 50%;}#sk-7483a173-d70f-414f-963b-bfc67c631962 div.sk-serial {display: flex;flex-direction: column;align-items: center;background-color: white;padding-right: 0.2em;padding-left: 0.2em;}#sk-7483a173-d70f-414f-963b-bfc67c631962 div.sk-item {z-index: 1;}#sk-7483a173-d70f-414f-963b-bfc67c631962 div.sk-parallel {display: flex;align-items: stretch;justify-content: center;background-color: white;}#sk-7483a173-d70f-414f-963b-bfc67c631962 div.sk-parallel::before {content: \"\";position: absolute;border-left: 1px solid gray;box-sizing: border-box;top: 2em;bottom: 0;left: 50%;}#sk-7483a173-d70f-414f-963b-bfc67c631962 div.sk-parallel-item {display: flex;flex-direction: column;position: relative;background-color: white;}#sk-7483a173-d70f-414f-963b-bfc67c631962 div.sk-parallel-item:first-child::after {align-self: flex-end;width: 50%;}#sk-7483a173-d70f-414f-963b-bfc67c631962 div.sk-parallel-item:last-child::after {align-self: flex-start;width: 50%;}#sk-7483a173-d70f-414f-963b-bfc67c631962 div.sk-parallel-item:only-child::after {width: 0;}#sk-7483a173-d70f-414f-963b-bfc67c631962 div.sk-dashed-wrapped {border: 1px dashed gray;margin: 0 0.4em 0.5em 0.4em;box-sizing: border-box;padding-bottom: 0.4em;background-color: white;position: relative;}#sk-7483a173-d70f-414f-963b-bfc67c631962 div.sk-label label {font-family: monospace;font-weight: bold;background-color: white;display: inline-block;line-height: 1.2em;}#sk-7483a173-d70f-414f-963b-bfc67c631962 div.sk-label-container {position: relative;z-index: 2;text-align: center;}#sk-7483a173-d70f-414f-963b-bfc67c631962 div.sk-container {/* jupyter's `normalize.less` sets `[hidden] { display: none; }` but bootstrap.min.css set `[hidden] { display: none !important; }` so we also need the `!important` here to be able to override the default hidden behavior on the sphinx rendered scikit-learn.org. See: https://github.com/scikit-learn/scikit-learn/issues/21755 */display: inline-block !important;position: relative;}#sk-7483a173-d70f-414f-963b-bfc67c631962 div.sk-text-repr-fallback {display: none;}</style><div id=\"sk-7483a173-d70f-414f-963b-bfc67c631962\" class=\"sk-top-container\"><div class=\"sk-text-repr-fallback\"><pre>Pipeline(steps=[(&#x27;columntransformer&#x27;,\n",
       "                 ColumnTransformer(remainder=&#x27;passthrough&#x27;,\n",
       "                                   transformers=[(&#x27;pipeline-1&#x27;,\n",
       "                                                  Pipeline(steps=[(&#x27;onehotencoder&#x27;,\n",
       "                                                                   OneHotEncoder(handle_unknown=&#x27;ignore&#x27;,\n",
       "                                                                                 sparse=False)),\n",
       "                                                                  (&#x27;standardscaler&#x27;,\n",
       "                                                                   StandardScaler())]),\n",
       "                                                  &lt;sklearn.compose._column_transformer.make_column_selector object at 0x7faff4c63520&gt;),\n",
       "                                                 (&#x27;pipeline-2&#x27;,\n",
       "                                                  Pipeline(steps=[(&#x27;standardscaler&#x27;,\n",
       "                                                                   StandardScaler())]),\n",
       "                                                  &lt;sklearn.compose._column_transformer.make_column_selector object at 0x7faff4c63340&gt;)])),\n",
       "                (&#x27;pca&#x27;, PCA(n_components=0.95)),\n",
       "                (&#x27;linearregression&#x27;, LinearRegression())])</pre><b>Please rerun this cell to show the HTML repr or trust the notebook.</b></div><div class=\"sk-container\" hidden><div class=\"sk-item sk-dashed-wrapped\"><div class=\"sk-label-container\"><div class=\"sk-label sk-toggleable\"><input class=\"sk-toggleable__control sk-hidden--visually\" id=\"ba5f0a56-0b78-4754-ada7-fd8ffe417820\" type=\"checkbox\" ><label for=\"ba5f0a56-0b78-4754-ada7-fd8ffe417820\" class=\"sk-toggleable__label sk-toggleable__label-arrow\">Pipeline</label><div class=\"sk-toggleable__content\"><pre>Pipeline(steps=[(&#x27;columntransformer&#x27;,\n",
       "                 ColumnTransformer(remainder=&#x27;passthrough&#x27;,\n",
       "                                   transformers=[(&#x27;pipeline-1&#x27;,\n",
       "                                                  Pipeline(steps=[(&#x27;onehotencoder&#x27;,\n",
       "                                                                   OneHotEncoder(handle_unknown=&#x27;ignore&#x27;,\n",
       "                                                                                 sparse=False)),\n",
       "                                                                  (&#x27;standardscaler&#x27;,\n",
       "                                                                   StandardScaler())]),\n",
       "                                                  &lt;sklearn.compose._column_transformer.make_column_selector object at 0x7faff4c63520&gt;),\n",
       "                                                 (&#x27;pipeline-2&#x27;,\n",
       "                                                  Pipeline(steps=[(&#x27;standardscaler&#x27;,\n",
       "                                                                   StandardScaler())]),\n",
       "                                                  &lt;sklearn.compose._column_transformer.make_column_selector object at 0x7faff4c63340&gt;)])),\n",
       "                (&#x27;pca&#x27;, PCA(n_components=0.95)),\n",
       "                (&#x27;linearregression&#x27;, LinearRegression())])</pre></div></div></div><div class=\"sk-serial\"><div class=\"sk-item sk-dashed-wrapped\"><div class=\"sk-label-container\"><div class=\"sk-label sk-toggleable\"><input class=\"sk-toggleable__control sk-hidden--visually\" id=\"006ff7e1-5c6d-44df-9e6f-c428ec2c0b3f\" type=\"checkbox\" ><label for=\"006ff7e1-5c6d-44df-9e6f-c428ec2c0b3f\" class=\"sk-toggleable__label sk-toggleable__label-arrow\">columntransformer: ColumnTransformer</label><div class=\"sk-toggleable__content\"><pre>ColumnTransformer(remainder=&#x27;passthrough&#x27;,\n",
       "                  transformers=[(&#x27;pipeline-1&#x27;,\n",
       "                                 Pipeline(steps=[(&#x27;onehotencoder&#x27;,\n",
       "                                                  OneHotEncoder(handle_unknown=&#x27;ignore&#x27;,\n",
       "                                                                sparse=False)),\n",
       "                                                 (&#x27;standardscaler&#x27;,\n",
       "                                                  StandardScaler())]),\n",
       "                                 &lt;sklearn.compose._column_transformer.make_column_selector object at 0x7faff4c63520&gt;),\n",
       "                                (&#x27;pipeline-2&#x27;,\n",
       "                                 Pipeline(steps=[(&#x27;standardscaler&#x27;,\n",
       "                                                  StandardScaler())]),\n",
       "                                 &lt;sklearn.compose._column_transformer.make_column_selector object at 0x7faff4c63340&gt;)])</pre></div></div></div><div class=\"sk-parallel\"><div class=\"sk-parallel-item\"><div class=\"sk-item\"><div class=\"sk-label-container\"><div class=\"sk-label sk-toggleable\"><input class=\"sk-toggleable__control sk-hidden--visually\" id=\"adc81145-bfe4-40a5-a432-ce60c4c90dc8\" type=\"checkbox\" ><label for=\"adc81145-bfe4-40a5-a432-ce60c4c90dc8\" class=\"sk-toggleable__label sk-toggleable__label-arrow\">pipeline-1</label><div class=\"sk-toggleable__content\"><pre>&lt;sklearn.compose._column_transformer.make_column_selector object at 0x7faff4c63520&gt;</pre></div></div></div><div class=\"sk-serial\"><div class=\"sk-item\"><div class=\"sk-serial\"><div class=\"sk-item\"><div class=\"sk-estimator sk-toggleable\"><input class=\"sk-toggleable__control sk-hidden--visually\" id=\"5b651998-15fb-42b5-be42-f78e3c8a835e\" type=\"checkbox\" ><label for=\"5b651998-15fb-42b5-be42-f78e3c8a835e\" class=\"sk-toggleable__label sk-toggleable__label-arrow\">OneHotEncoder</label><div class=\"sk-toggleable__content\"><pre>OneHotEncoder(handle_unknown=&#x27;ignore&#x27;, sparse=False)</pre></div></div></div><div class=\"sk-item\"><div class=\"sk-estimator sk-toggleable\"><input class=\"sk-toggleable__control sk-hidden--visually\" id=\"ca8dfd72-e16d-496c-8caf-f1aacb790a87\" type=\"checkbox\" ><label for=\"ca8dfd72-e16d-496c-8caf-f1aacb790a87\" class=\"sk-toggleable__label sk-toggleable__label-arrow\">StandardScaler</label><div class=\"sk-toggleable__content\"><pre>StandardScaler()</pre></div></div></div></div></div></div></div></div><div class=\"sk-parallel-item\"><div class=\"sk-item\"><div class=\"sk-label-container\"><div class=\"sk-label sk-toggleable\"><input class=\"sk-toggleable__control sk-hidden--visually\" id=\"9dbdafcf-d3c9-4374-8e12-eb5e0a91cd76\" type=\"checkbox\" ><label for=\"9dbdafcf-d3c9-4374-8e12-eb5e0a91cd76\" class=\"sk-toggleable__label sk-toggleable__label-arrow\">pipeline-2</label><div class=\"sk-toggleable__content\"><pre>&lt;sklearn.compose._column_transformer.make_column_selector object at 0x7faff4c63340&gt;</pre></div></div></div><div class=\"sk-serial\"><div class=\"sk-item\"><div class=\"sk-serial\"><div class=\"sk-item\"><div class=\"sk-estimator sk-toggleable\"><input class=\"sk-toggleable__control sk-hidden--visually\" id=\"b92de163-6259-4d3f-b2b5-815f17c7a33c\" type=\"checkbox\" ><label for=\"b92de163-6259-4d3f-b2b5-815f17c7a33c\" class=\"sk-toggleable__label sk-toggleable__label-arrow\">StandardScaler</label><div class=\"sk-toggleable__content\"><pre>StandardScaler()</pre></div></div></div></div></div></div></div></div><div class=\"sk-parallel-item\"><div class=\"sk-item\"><div class=\"sk-label-container\"><div class=\"sk-label sk-toggleable\"><input class=\"sk-toggleable__control sk-hidden--visually\" id=\"0539809d-7469-4100-8b72-b97e852280ec\" type=\"checkbox\" ><label for=\"0539809d-7469-4100-8b72-b97e852280ec\" class=\"sk-toggleable__label sk-toggleable__label-arrow\">remainder</label><div class=\"sk-toggleable__content\"><pre>[]</pre></div></div></div><div class=\"sk-serial\"><div class=\"sk-item\"><div class=\"sk-estimator sk-toggleable\"><input class=\"sk-toggleable__control sk-hidden--visually\" id=\"e15f3935-974d-4354-b7ae-19b78c056072\" type=\"checkbox\" ><label for=\"e15f3935-974d-4354-b7ae-19b78c056072\" class=\"sk-toggleable__label sk-toggleable__label-arrow\">passthrough</label><div class=\"sk-toggleable__content\"><pre>passthrough</pre></div></div></div></div></div></div></div></div><div class=\"sk-item\"><div class=\"sk-estimator sk-toggleable\"><input class=\"sk-toggleable__control sk-hidden--visually\" id=\"f4dc22cc-1177-484f-902b-548d1bdd730a\" type=\"checkbox\" ><label for=\"f4dc22cc-1177-484f-902b-548d1bdd730a\" class=\"sk-toggleable__label sk-toggleable__label-arrow\">PCA</label><div class=\"sk-toggleable__content\"><pre>PCA(n_components=0.95)</pre></div></div></div><div class=\"sk-item\"><div class=\"sk-estimator sk-toggleable\"><input class=\"sk-toggleable__control sk-hidden--visually\" id=\"52bed800-577b-4df1-84a2-f4882ce0b8cc\" type=\"checkbox\" ><label for=\"52bed800-577b-4df1-84a2-f4882ce0b8cc\" class=\"sk-toggleable__label sk-toggleable__label-arrow\">LinearRegression</label><div class=\"sk-toggleable__content\"><pre>LinearRegression()</pre></div></div></div></div></div></div></div>"
      ],
      "text/plain": [
       "Pipeline(steps=[('columntransformer',\n",
       "                 ColumnTransformer(remainder='passthrough',\n",
       "                                   transformers=[('pipeline-1',\n",
       "                                                  Pipeline(steps=[('onehotencoder',\n",
       "                                                                   OneHotEncoder(handle_unknown='ignore',\n",
       "                                                                                 sparse=False)),\n",
       "                                                                  ('standardscaler',\n",
       "                                                                   StandardScaler())]),\n",
       "                                                  <sklearn.compose._column_transformer.make_column_selector object at 0x7faff4c63520>),\n",
       "                                                 ('pipeline-2',\n",
       "                                                  Pipeline(steps=[('standardscaler',\n",
       "                                                                   StandardScaler())]),\n",
       "                                                  <sklearn.compose._column_transformer.make_column_selector object at 0x7faff4c63340>)])),\n",
       "                ('pca', PCA(n_components=0.95)),\n",
       "                ('linearregression', LinearRegression())])"
      ]
     },
     "execution_count": 100,
     "metadata": {},
     "output_type": "execute_result"
    }
   ],
   "source": [
    "#fit feature engineering method 2 linear regression pipeline\n",
    "lr2_pca_pipe.fit(X_train, y_train)"
   ]
  },
  {
   "cell_type": "code",
   "execution_count": 101,
   "id": "3911e357",
   "metadata": {},
   "outputs": [
    {
     "name": "stdout",
     "output_type": "stream",
     "text": [
      "Feature Engineering Training Results\n",
      "RMSE Score: 0.09021207594698888\n",
      "R^2 Score: 0.7286649089231365\n",
      "\n",
      "RMSE Score: 0.10160987760960405\n",
      "R^2 Score: 0.6397458653059985\n",
      "\n",
      "CPU times: user 53.4 ms, sys: 4.31 ms, total: 57.7 ms\n",
      "Wall time: 16.9 ms\n"
     ]
    }
   ],
   "source": [
    "%%time\n",
    "#predictions\n",
    "lr2_train_score = eval_regression(y_train, lr2_pca_pipe.predict(X_train))\n",
    "lr2_test_score = eval_regression(y_test, lr2_pca_pipe.predict(X_test))\n",
    "print('Feature Engineering Training Results')\n",
    "print(f'RMSE Score: {lr2_train_score[0]}')\n",
    "print(f'R^2 Score: {lr2_train_score[1]}\\n')\n",
    "\n",
    "print(f'RMSE Score: {lr2_test_score[0]}')\n",
    "print(f'R^2 Score: {lr2_test_score[1]}\\n')"
   ]
  },
  {
   "cell_type": "code",
   "execution_count": 102,
   "id": "59f34d49",
   "metadata": {},
   "outputs": [
    {
     "data": {
      "text/html": [
       "<div>\n",
       "<style scoped>\n",
       "    .dataframe tbody tr th:only-of-type {\n",
       "        vertical-align: middle;\n",
       "    }\n",
       "\n",
       "    .dataframe tbody tr th {\n",
       "        vertical-align: top;\n",
       "    }\n",
       "\n",
       "    .dataframe thead th {\n",
       "        text-align: right;\n",
       "    }\n",
       "</style>\n",
       "<table border=\"1\" class=\"dataframe\">\n",
       "  <thead>\n",
       "    <tr style=\"text-align: right;\">\n",
       "      <th></th>\n",
       "      <th>RMSE</th>\n",
       "      <th>R^2</th>\n",
       "    </tr>\n",
       "  </thead>\n",
       "  <tbody>\n",
       "    <tr>\n",
       "      <th>Reg Train</th>\n",
       "      <td>0.0</td>\n",
       "      <td>1.0</td>\n",
       "    </tr>\n",
       "    <tr>\n",
       "      <th>Reg Test</th>\n",
       "      <td>0.127464</td>\n",
       "      <td>0.274438</td>\n",
       "    </tr>\n",
       "    <tr>\n",
       "      <th>Reg PCA Train</th>\n",
       "      <td>0.0</td>\n",
       "      <td>1.0</td>\n",
       "    </tr>\n",
       "    <tr>\n",
       "      <th>Reg PCA Test</th>\n",
       "      <td>0.122236</td>\n",
       "      <td>0.332732</td>\n",
       "    </tr>\n",
       "    <tr>\n",
       "      <th>OPT Reg Train</th>\n",
       "      <td>0.108298</td>\n",
       "      <td>0.491688</td>\n",
       "    </tr>\n",
       "    <tr>\n",
       "      <th>OPT Reg Test</th>\n",
       "      <td>0.113991</td>\n",
       "      <td>0.419715</td>\n",
       "    </tr>\n",
       "    <tr>\n",
       "      <th>LR Train</th>\n",
       "      <td>0.107263</td>\n",
       "      <td>0.501358</td>\n",
       "    </tr>\n",
       "    <tr>\n",
       "      <th>LR Test</th>\n",
       "      <td>16700429514265.517578</td>\n",
       "      <td>-12455311841198355443634667520.0</td>\n",
       "    </tr>\n",
       "    <tr>\n",
       "      <th>LR PCA Train</th>\n",
       "      <td>0.07571</td>\n",
       "      <td>0.751578</td>\n",
       "    </tr>\n",
       "    <tr>\n",
       "      <th>LR PCA Test</th>\n",
       "      <td>0.102608</td>\n",
       "      <td>0.529824</td>\n",
       "    </tr>\n",
       "    <tr>\n",
       "      <th>Ridge Train</th>\n",
       "      <td>0.103703</td>\n",
       "      <td>0.54411</td>\n",
       "    </tr>\n",
       "    <tr>\n",
       "      <th>Ridge Test</th>\n",
       "      <td>0.122538</td>\n",
       "      <td>0.280428</td>\n",
       "    </tr>\n",
       "    <tr>\n",
       "      <th>LR 2 Train</th>\n",
       "      <td>0.090212</td>\n",
       "      <td>0.728665</td>\n",
       "    </tr>\n",
       "    <tr>\n",
       "      <th>LR 2 Test</th>\n",
       "      <td>0.10161</td>\n",
       "      <td>0.639746</td>\n",
       "    </tr>\n",
       "  </tbody>\n",
       "</table>\n",
       "</div>"
      ],
      "text/plain": [
       "                                RMSE                              R^2\n",
       "Reg Train                        0.0                              1.0\n",
       "Reg Test                    0.127464                         0.274438\n",
       "Reg PCA Train                    0.0                              1.0\n",
       "Reg PCA Test                0.122236                         0.332732\n",
       "OPT Reg Train               0.108298                         0.491688\n",
       "OPT Reg Test                0.113991                         0.419715\n",
       "LR Train                    0.107263                         0.501358\n",
       "LR Test        16700429514265.517578 -12455311841198355443634667520.0\n",
       "LR PCA Train                 0.07571                         0.751578\n",
       "LR PCA Test                 0.102608                         0.529824\n",
       "Ridge Train                 0.103703                          0.54411\n",
       "Ridge Test                  0.122538                         0.280428\n",
       "LR 2 Train                  0.090212                         0.728665\n",
       "LR 2 Test                    0.10161                         0.639746"
      ]
     },
     "execution_count": 102,
     "metadata": {},
     "output_type": "execute_result"
    }
   ],
   "source": [
    "#keeping score\n",
    "scores_df.loc['LR 2 Train'] = [lr2_train_score[0], lr2_train_score[1]]\n",
    "scores_df.loc['LR 2 Test'] = [lr2_test_score[0], lr2_test_score[1]]\n",
    "scores_df"
   ]
  },
  {
   "cell_type": "markdown",
   "id": "5e2883b5",
   "metadata": {},
   "source": [
    "## Method 5 - Linear Regression with PCA\n",
    "Dropping all columns with large unique values"
   ]
  },
  {
   "cell_type": "code",
   "execution_count": 103,
   "id": "2de29fa2",
   "metadata": {},
   "outputs": [
    {
     "data": {
      "text/html": [
       "<div>\n",
       "<style scoped>\n",
       "    .dataframe tbody tr th:only-of-type {\n",
       "        vertical-align: middle;\n",
       "    }\n",
       "\n",
       "    .dataframe tbody tr th {\n",
       "        vertical-align: top;\n",
       "    }\n",
       "\n",
       "    .dataframe thead th {\n",
       "        text-align: right;\n",
       "    }\n",
       "</style>\n",
       "<table border=\"1\" class=\"dataframe\">\n",
       "  <thead>\n",
       "    <tr style=\"text-align: right;\">\n",
       "      <th></th>\n",
       "      <th>winery</th>\n",
       "      <th>wine</th>\n",
       "      <th>vintage</th>\n",
       "      <th>rating</th>\n",
       "      <th>num_reviews</th>\n",
       "      <th>region</th>\n",
       "      <th>price</th>\n",
       "      <th>type</th>\n",
       "      <th>body</th>\n",
       "      <th>acidity</th>\n",
       "    </tr>\n",
       "  </thead>\n",
       "  <tbody>\n",
       "    <tr>\n",
       "      <th>0</th>\n",
       "      <td>Teso La Monja</td>\n",
       "      <td>Tinto</td>\n",
       "      <td>2013</td>\n",
       "      <td>4.9</td>\n",
       "      <td>58</td>\n",
       "      <td>Toro</td>\n",
       "      <td>995.00</td>\n",
       "      <td>Toro Red</td>\n",
       "      <td>5.0</td>\n",
       "      <td>3.0</td>\n",
       "    </tr>\n",
       "    <tr>\n",
       "      <th>1</th>\n",
       "      <td>Artadi</td>\n",
       "      <td>Vina El Pison</td>\n",
       "      <td>2018</td>\n",
       "      <td>4.9</td>\n",
       "      <td>31</td>\n",
       "      <td>Vino de Espana</td>\n",
       "      <td>313.50</td>\n",
       "      <td>Tempranillo</td>\n",
       "      <td>4.0</td>\n",
       "      <td>2.0</td>\n",
       "    </tr>\n",
       "    <tr>\n",
       "      <th>2</th>\n",
       "      <td>Vega Sicilia</td>\n",
       "      <td>Unico</td>\n",
       "      <td>2009</td>\n",
       "      <td>4.8</td>\n",
       "      <td>1793</td>\n",
       "      <td>Ribera del Duero</td>\n",
       "      <td>324.95</td>\n",
       "      <td>Ribera Del Duero Red</td>\n",
       "      <td>5.0</td>\n",
       "      <td>3.0</td>\n",
       "    </tr>\n",
       "    <tr>\n",
       "      <th>3</th>\n",
       "      <td>Vega Sicilia</td>\n",
       "      <td>Unico</td>\n",
       "      <td>1999</td>\n",
       "      <td>4.8</td>\n",
       "      <td>1705</td>\n",
       "      <td>Ribera del Duero</td>\n",
       "      <td>692.96</td>\n",
       "      <td>Ribera Del Duero Red</td>\n",
       "      <td>5.0</td>\n",
       "      <td>3.0</td>\n",
       "    </tr>\n",
       "    <tr>\n",
       "      <th>4</th>\n",
       "      <td>Vega Sicilia</td>\n",
       "      <td>Unico</td>\n",
       "      <td>1996</td>\n",
       "      <td>4.8</td>\n",
       "      <td>1309</td>\n",
       "      <td>Ribera del Duero</td>\n",
       "      <td>778.06</td>\n",
       "      <td>Ribera Del Duero Red</td>\n",
       "      <td>5.0</td>\n",
       "      <td>3.0</td>\n",
       "    </tr>\n",
       "  </tbody>\n",
       "</table>\n",
       "</div>"
      ],
      "text/plain": [
       "          winery           wine  vintage  rating  num_reviews  \\\n",
       "0  Teso La Monja          Tinto     2013     4.9           58   \n",
       "1         Artadi  Vina El Pison     2018     4.9           31   \n",
       "2   Vega Sicilia          Unico     2009     4.8         1793   \n",
       "3   Vega Sicilia          Unico     1999     4.8         1705   \n",
       "4   Vega Sicilia          Unico     1996     4.8         1309   \n",
       "\n",
       "             region   price                  type  body  acidity  \n",
       "0              Toro  995.00              Toro Red   5.0      3.0  \n",
       "1    Vino de Espana  313.50           Tempranillo   4.0      2.0  \n",
       "2  Ribera del Duero  324.95  Ribera Del Duero Red   5.0      3.0  \n",
       "3  Ribera del Duero  692.96  Ribera Del Duero Red   5.0      3.0  \n",
       "4  Ribera del Duero  778.06  Ribera Del Duero Red   5.0      3.0  "
      ]
     },
     "execution_count": 103,
     "metadata": {},
     "output_type": "execute_result"
    }
   ],
   "source": [
    "df5 = df_ml.copy()\n",
    "df5.head()"
   ]
  },
  {
   "cell_type": "code",
   "execution_count": 104,
   "id": "78e86243",
   "metadata": {},
   "outputs": [
    {
     "name": "stdout",
     "output_type": "stream",
     "text": [
      "winery          395\n",
      "wine            677\n",
      "vintage          70\n",
      "rating            8\n",
      "num_reviews     730\n",
      "region           63\n",
      "price          1153\n",
      "type             21\n",
      "body              4\n",
      "acidity           3\n",
      "dtype: int64\n"
     ]
    }
   ],
   "source": [
    "print(df5.apply(lambda col: col.nunique()))"
   ]
  },
  {
   "cell_type": "code",
   "execution_count": 105,
   "id": "827ae4ea",
   "metadata": {},
   "outputs": [
    {
     "data": {
      "text/html": [
       "<div>\n",
       "<style scoped>\n",
       "    .dataframe tbody tr th:only-of-type {\n",
       "        vertical-align: middle;\n",
       "    }\n",
       "\n",
       "    .dataframe tbody tr th {\n",
       "        vertical-align: top;\n",
       "    }\n",
       "\n",
       "    .dataframe thead th {\n",
       "        text-align: right;\n",
       "    }\n",
       "</style>\n",
       "<table border=\"1\" class=\"dataframe\">\n",
       "  <thead>\n",
       "    <tr style=\"text-align: right;\">\n",
       "      <th></th>\n",
       "      <th>vintage</th>\n",
       "      <th>rating</th>\n",
       "      <th>region</th>\n",
       "      <th>type</th>\n",
       "      <th>body</th>\n",
       "      <th>acidity</th>\n",
       "    </tr>\n",
       "  </thead>\n",
       "  <tbody>\n",
       "    <tr>\n",
       "      <th>0</th>\n",
       "      <td>2013</td>\n",
       "      <td>4.9</td>\n",
       "      <td>Toro</td>\n",
       "      <td>Toro Red</td>\n",
       "      <td>5.0</td>\n",
       "      <td>3.0</td>\n",
       "    </tr>\n",
       "    <tr>\n",
       "      <th>1</th>\n",
       "      <td>2018</td>\n",
       "      <td>4.9</td>\n",
       "      <td>Vino de Espana</td>\n",
       "      <td>Tempranillo</td>\n",
       "      <td>4.0</td>\n",
       "      <td>2.0</td>\n",
       "    </tr>\n",
       "    <tr>\n",
       "      <th>2</th>\n",
       "      <td>2009</td>\n",
       "      <td>4.8</td>\n",
       "      <td>Ribera del Duero</td>\n",
       "      <td>Ribera Del Duero Red</td>\n",
       "      <td>5.0</td>\n",
       "      <td>3.0</td>\n",
       "    </tr>\n",
       "    <tr>\n",
       "      <th>3</th>\n",
       "      <td>1999</td>\n",
       "      <td>4.8</td>\n",
       "      <td>Ribera del Duero</td>\n",
       "      <td>Ribera Del Duero Red</td>\n",
       "      <td>5.0</td>\n",
       "      <td>3.0</td>\n",
       "    </tr>\n",
       "    <tr>\n",
       "      <th>4</th>\n",
       "      <td>1996</td>\n",
       "      <td>4.8</td>\n",
       "      <td>Ribera del Duero</td>\n",
       "      <td>Ribera Del Duero Red</td>\n",
       "      <td>5.0</td>\n",
       "      <td>3.0</td>\n",
       "    </tr>\n",
       "  </tbody>\n",
       "</table>\n",
       "</div>"
      ],
      "text/plain": [
       "   vintage  rating            region                  type  body  acidity\n",
       "0     2013     4.9              Toro              Toro Red   5.0      3.0\n",
       "1     2018     4.9    Vino de Espana           Tempranillo   4.0      2.0\n",
       "2     2009     4.8  Ribera del Duero  Ribera Del Duero Red   5.0      3.0\n",
       "3     1999     4.8  Ribera del Duero  Ribera Del Duero Red   5.0      3.0\n",
       "4     1996     4.8  Ribera del Duero  Ribera Del Duero Red   5.0      3.0"
      ]
     },
     "execution_count": 105,
     "metadata": {},
     "output_type": "execute_result"
    }
   ],
   "source": [
    "df5 = df5.drop(columns=['winery', 'wine', 'num_reviews','price'])\n",
    "df5.head()"
   ]
  },
  {
   "cell_type": "code",
   "execution_count": 106,
   "id": "a23eaf6f",
   "metadata": {},
   "outputs": [],
   "source": [
    "# Matrix features and target\n",
    "X = df5.drop(columns='rating')\n",
    "y = df5['rating']\n",
    "\n",
    "#train test split\n",
    "X_train, X_test, y_train, y_test = train_test_split(X, y, random_state=42)"
   ]
  },
  {
   "cell_type": "code",
   "execution_count": 107,
   "id": "93ff4d65",
   "metadata": {},
   "outputs": [],
   "source": [
    "#create lr pipeline\n",
    "lr3_pca_pipe = make_pipeline(lr_preprocessor, pca, lr)"
   ]
  },
  {
   "cell_type": "code",
   "execution_count": 108,
   "id": "d317d2ff",
   "metadata": {},
   "outputs": [
    {
     "data": {
      "text/html": [
       "<style>#sk-ae2ca78a-3719-42e9-ace5-31a1e472217f {color: black;background-color: white;}#sk-ae2ca78a-3719-42e9-ace5-31a1e472217f pre{padding: 0;}#sk-ae2ca78a-3719-42e9-ace5-31a1e472217f div.sk-toggleable {background-color: white;}#sk-ae2ca78a-3719-42e9-ace5-31a1e472217f label.sk-toggleable__label {cursor: pointer;display: block;width: 100%;margin-bottom: 0;padding: 0.3em;box-sizing: border-box;text-align: center;}#sk-ae2ca78a-3719-42e9-ace5-31a1e472217f label.sk-toggleable__label-arrow:before {content: \"▸\";float: left;margin-right: 0.25em;color: #696969;}#sk-ae2ca78a-3719-42e9-ace5-31a1e472217f label.sk-toggleable__label-arrow:hover:before {color: black;}#sk-ae2ca78a-3719-42e9-ace5-31a1e472217f div.sk-estimator:hover label.sk-toggleable__label-arrow:before {color: black;}#sk-ae2ca78a-3719-42e9-ace5-31a1e472217f div.sk-toggleable__content {max-height: 0;max-width: 0;overflow: hidden;text-align: left;background-color: #f0f8ff;}#sk-ae2ca78a-3719-42e9-ace5-31a1e472217f div.sk-toggleable__content pre {margin: 0.2em;color: black;border-radius: 0.25em;background-color: #f0f8ff;}#sk-ae2ca78a-3719-42e9-ace5-31a1e472217f input.sk-toggleable__control:checked~div.sk-toggleable__content {max-height: 200px;max-width: 100%;overflow: auto;}#sk-ae2ca78a-3719-42e9-ace5-31a1e472217f input.sk-toggleable__control:checked~label.sk-toggleable__label-arrow:before {content: \"▾\";}#sk-ae2ca78a-3719-42e9-ace5-31a1e472217f div.sk-estimator input.sk-toggleable__control:checked~label.sk-toggleable__label {background-color: #d4ebff;}#sk-ae2ca78a-3719-42e9-ace5-31a1e472217f div.sk-label input.sk-toggleable__control:checked~label.sk-toggleable__label {background-color: #d4ebff;}#sk-ae2ca78a-3719-42e9-ace5-31a1e472217f input.sk-hidden--visually {border: 0;clip: rect(1px 1px 1px 1px);clip: rect(1px, 1px, 1px, 1px);height: 1px;margin: -1px;overflow: hidden;padding: 0;position: absolute;width: 1px;}#sk-ae2ca78a-3719-42e9-ace5-31a1e472217f div.sk-estimator {font-family: monospace;background-color: #f0f8ff;border: 1px dotted black;border-radius: 0.25em;box-sizing: border-box;margin-bottom: 0.5em;}#sk-ae2ca78a-3719-42e9-ace5-31a1e472217f div.sk-estimator:hover {background-color: #d4ebff;}#sk-ae2ca78a-3719-42e9-ace5-31a1e472217f div.sk-parallel-item::after {content: \"\";width: 100%;border-bottom: 1px solid gray;flex-grow: 1;}#sk-ae2ca78a-3719-42e9-ace5-31a1e472217f div.sk-label:hover label.sk-toggleable__label {background-color: #d4ebff;}#sk-ae2ca78a-3719-42e9-ace5-31a1e472217f div.sk-serial::before {content: \"\";position: absolute;border-left: 1px solid gray;box-sizing: border-box;top: 2em;bottom: 0;left: 50%;}#sk-ae2ca78a-3719-42e9-ace5-31a1e472217f div.sk-serial {display: flex;flex-direction: column;align-items: center;background-color: white;padding-right: 0.2em;padding-left: 0.2em;}#sk-ae2ca78a-3719-42e9-ace5-31a1e472217f div.sk-item {z-index: 1;}#sk-ae2ca78a-3719-42e9-ace5-31a1e472217f div.sk-parallel {display: flex;align-items: stretch;justify-content: center;background-color: white;}#sk-ae2ca78a-3719-42e9-ace5-31a1e472217f div.sk-parallel::before {content: \"\";position: absolute;border-left: 1px solid gray;box-sizing: border-box;top: 2em;bottom: 0;left: 50%;}#sk-ae2ca78a-3719-42e9-ace5-31a1e472217f div.sk-parallel-item {display: flex;flex-direction: column;position: relative;background-color: white;}#sk-ae2ca78a-3719-42e9-ace5-31a1e472217f div.sk-parallel-item:first-child::after {align-self: flex-end;width: 50%;}#sk-ae2ca78a-3719-42e9-ace5-31a1e472217f div.sk-parallel-item:last-child::after {align-self: flex-start;width: 50%;}#sk-ae2ca78a-3719-42e9-ace5-31a1e472217f div.sk-parallel-item:only-child::after {width: 0;}#sk-ae2ca78a-3719-42e9-ace5-31a1e472217f div.sk-dashed-wrapped {border: 1px dashed gray;margin: 0 0.4em 0.5em 0.4em;box-sizing: border-box;padding-bottom: 0.4em;background-color: white;position: relative;}#sk-ae2ca78a-3719-42e9-ace5-31a1e472217f div.sk-label label {font-family: monospace;font-weight: bold;background-color: white;display: inline-block;line-height: 1.2em;}#sk-ae2ca78a-3719-42e9-ace5-31a1e472217f div.sk-label-container {position: relative;z-index: 2;text-align: center;}#sk-ae2ca78a-3719-42e9-ace5-31a1e472217f div.sk-container {/* jupyter's `normalize.less` sets `[hidden] { display: none; }` but bootstrap.min.css set `[hidden] { display: none !important; }` so we also need the `!important` here to be able to override the default hidden behavior on the sphinx rendered scikit-learn.org. See: https://github.com/scikit-learn/scikit-learn/issues/21755 */display: inline-block !important;position: relative;}#sk-ae2ca78a-3719-42e9-ace5-31a1e472217f div.sk-text-repr-fallback {display: none;}</style><div id=\"sk-ae2ca78a-3719-42e9-ace5-31a1e472217f\" class=\"sk-top-container\"><div class=\"sk-text-repr-fallback\"><pre>Pipeline(steps=[(&#x27;columntransformer&#x27;,\n",
       "                 ColumnTransformer(remainder=&#x27;passthrough&#x27;,\n",
       "                                   transformers=[(&#x27;pipeline-1&#x27;,\n",
       "                                                  Pipeline(steps=[(&#x27;onehotencoder&#x27;,\n",
       "                                                                   OneHotEncoder(handle_unknown=&#x27;ignore&#x27;,\n",
       "                                                                                 sparse=False)),\n",
       "                                                                  (&#x27;standardscaler&#x27;,\n",
       "                                                                   StandardScaler())]),\n",
       "                                                  &lt;sklearn.compose._column_transformer.make_column_selector object at 0x7faff4c63520&gt;),\n",
       "                                                 (&#x27;pipeline-2&#x27;,\n",
       "                                                  Pipeline(steps=[(&#x27;standardscaler&#x27;,\n",
       "                                                                   StandardScaler())]),\n",
       "                                                  &lt;sklearn.compose._column_transformer.make_column_selector object at 0x7faff4c63340&gt;)])),\n",
       "                (&#x27;pca&#x27;, PCA(n_components=0.95)),\n",
       "                (&#x27;linearregression&#x27;, LinearRegression())])</pre><b>Please rerun this cell to show the HTML repr or trust the notebook.</b></div><div class=\"sk-container\" hidden><div class=\"sk-item sk-dashed-wrapped\"><div class=\"sk-label-container\"><div class=\"sk-label sk-toggleable\"><input class=\"sk-toggleable__control sk-hidden--visually\" id=\"4af51f95-905d-4f38-bd08-94d129cfff5d\" type=\"checkbox\" ><label for=\"4af51f95-905d-4f38-bd08-94d129cfff5d\" class=\"sk-toggleable__label sk-toggleable__label-arrow\">Pipeline</label><div class=\"sk-toggleable__content\"><pre>Pipeline(steps=[(&#x27;columntransformer&#x27;,\n",
       "                 ColumnTransformer(remainder=&#x27;passthrough&#x27;,\n",
       "                                   transformers=[(&#x27;pipeline-1&#x27;,\n",
       "                                                  Pipeline(steps=[(&#x27;onehotencoder&#x27;,\n",
       "                                                                   OneHotEncoder(handle_unknown=&#x27;ignore&#x27;,\n",
       "                                                                                 sparse=False)),\n",
       "                                                                  (&#x27;standardscaler&#x27;,\n",
       "                                                                   StandardScaler())]),\n",
       "                                                  &lt;sklearn.compose._column_transformer.make_column_selector object at 0x7faff4c63520&gt;),\n",
       "                                                 (&#x27;pipeline-2&#x27;,\n",
       "                                                  Pipeline(steps=[(&#x27;standardscaler&#x27;,\n",
       "                                                                   StandardScaler())]),\n",
       "                                                  &lt;sklearn.compose._column_transformer.make_column_selector object at 0x7faff4c63340&gt;)])),\n",
       "                (&#x27;pca&#x27;, PCA(n_components=0.95)),\n",
       "                (&#x27;linearregression&#x27;, LinearRegression())])</pre></div></div></div><div class=\"sk-serial\"><div class=\"sk-item sk-dashed-wrapped\"><div class=\"sk-label-container\"><div class=\"sk-label sk-toggleable\"><input class=\"sk-toggleable__control sk-hidden--visually\" id=\"3b33ee24-c7de-4e6c-bacc-b1821d902c17\" type=\"checkbox\" ><label for=\"3b33ee24-c7de-4e6c-bacc-b1821d902c17\" class=\"sk-toggleable__label sk-toggleable__label-arrow\">columntransformer: ColumnTransformer</label><div class=\"sk-toggleable__content\"><pre>ColumnTransformer(remainder=&#x27;passthrough&#x27;,\n",
       "                  transformers=[(&#x27;pipeline-1&#x27;,\n",
       "                                 Pipeline(steps=[(&#x27;onehotencoder&#x27;,\n",
       "                                                  OneHotEncoder(handle_unknown=&#x27;ignore&#x27;,\n",
       "                                                                sparse=False)),\n",
       "                                                 (&#x27;standardscaler&#x27;,\n",
       "                                                  StandardScaler())]),\n",
       "                                 &lt;sklearn.compose._column_transformer.make_column_selector object at 0x7faff4c63520&gt;),\n",
       "                                (&#x27;pipeline-2&#x27;,\n",
       "                                 Pipeline(steps=[(&#x27;standardscaler&#x27;,\n",
       "                                                  StandardScaler())]),\n",
       "                                 &lt;sklearn.compose._column_transformer.make_column_selector object at 0x7faff4c63340&gt;)])</pre></div></div></div><div class=\"sk-parallel\"><div class=\"sk-parallel-item\"><div class=\"sk-item\"><div class=\"sk-label-container\"><div class=\"sk-label sk-toggleable\"><input class=\"sk-toggleable__control sk-hidden--visually\" id=\"e29ad360-c54b-4fe4-9a07-5351530def94\" type=\"checkbox\" ><label for=\"e29ad360-c54b-4fe4-9a07-5351530def94\" class=\"sk-toggleable__label sk-toggleable__label-arrow\">pipeline-1</label><div class=\"sk-toggleable__content\"><pre>&lt;sklearn.compose._column_transformer.make_column_selector object at 0x7faff4c63520&gt;</pre></div></div></div><div class=\"sk-serial\"><div class=\"sk-item\"><div class=\"sk-serial\"><div class=\"sk-item\"><div class=\"sk-estimator sk-toggleable\"><input class=\"sk-toggleable__control sk-hidden--visually\" id=\"7e473459-65ea-43b0-b6ea-4393c1584446\" type=\"checkbox\" ><label for=\"7e473459-65ea-43b0-b6ea-4393c1584446\" class=\"sk-toggleable__label sk-toggleable__label-arrow\">OneHotEncoder</label><div class=\"sk-toggleable__content\"><pre>OneHotEncoder(handle_unknown=&#x27;ignore&#x27;, sparse=False)</pre></div></div></div><div class=\"sk-item\"><div class=\"sk-estimator sk-toggleable\"><input class=\"sk-toggleable__control sk-hidden--visually\" id=\"aa165018-204b-4919-a7a3-3f65d0b852a0\" type=\"checkbox\" ><label for=\"aa165018-204b-4919-a7a3-3f65d0b852a0\" class=\"sk-toggleable__label sk-toggleable__label-arrow\">StandardScaler</label><div class=\"sk-toggleable__content\"><pre>StandardScaler()</pre></div></div></div></div></div></div></div></div><div class=\"sk-parallel-item\"><div class=\"sk-item\"><div class=\"sk-label-container\"><div class=\"sk-label sk-toggleable\"><input class=\"sk-toggleable__control sk-hidden--visually\" id=\"c7824c1b-04e2-46c3-9e40-8aceeaff17c2\" type=\"checkbox\" ><label for=\"c7824c1b-04e2-46c3-9e40-8aceeaff17c2\" class=\"sk-toggleable__label sk-toggleable__label-arrow\">pipeline-2</label><div class=\"sk-toggleable__content\"><pre>&lt;sklearn.compose._column_transformer.make_column_selector object at 0x7faff4c63340&gt;</pre></div></div></div><div class=\"sk-serial\"><div class=\"sk-item\"><div class=\"sk-serial\"><div class=\"sk-item\"><div class=\"sk-estimator sk-toggleable\"><input class=\"sk-toggleable__control sk-hidden--visually\" id=\"1529c7b0-d438-4bf1-9cea-9490b65f1c8e\" type=\"checkbox\" ><label for=\"1529c7b0-d438-4bf1-9cea-9490b65f1c8e\" class=\"sk-toggleable__label sk-toggleable__label-arrow\">StandardScaler</label><div class=\"sk-toggleable__content\"><pre>StandardScaler()</pre></div></div></div></div></div></div></div></div><div class=\"sk-parallel-item\"><div class=\"sk-item\"><div class=\"sk-label-container\"><div class=\"sk-label sk-toggleable\"><input class=\"sk-toggleable__control sk-hidden--visually\" id=\"0accf85d-3907-4ccc-a754-4d6a66ae966c\" type=\"checkbox\" ><label for=\"0accf85d-3907-4ccc-a754-4d6a66ae966c\" class=\"sk-toggleable__label sk-toggleable__label-arrow\">remainder</label><div class=\"sk-toggleable__content\"><pre>[]</pre></div></div></div><div class=\"sk-serial\"><div class=\"sk-item\"><div class=\"sk-estimator sk-toggleable\"><input class=\"sk-toggleable__control sk-hidden--visually\" id=\"43fe7dc8-89a1-4146-a0fd-81f2de38f03d\" type=\"checkbox\" ><label for=\"43fe7dc8-89a1-4146-a0fd-81f2de38f03d\" class=\"sk-toggleable__label sk-toggleable__label-arrow\">passthrough</label><div class=\"sk-toggleable__content\"><pre>passthrough</pre></div></div></div></div></div></div></div></div><div class=\"sk-item\"><div class=\"sk-estimator sk-toggleable\"><input class=\"sk-toggleable__control sk-hidden--visually\" id=\"474eacd3-b6fe-4f71-b115-b39e0b8ef2dd\" type=\"checkbox\" ><label for=\"474eacd3-b6fe-4f71-b115-b39e0b8ef2dd\" class=\"sk-toggleable__label sk-toggleable__label-arrow\">PCA</label><div class=\"sk-toggleable__content\"><pre>PCA(n_components=0.95)</pre></div></div></div><div class=\"sk-item\"><div class=\"sk-estimator sk-toggleable\"><input class=\"sk-toggleable__control sk-hidden--visually\" id=\"eece5bda-f2cd-4f53-87af-d2904a763901\" type=\"checkbox\" ><label for=\"eece5bda-f2cd-4f53-87af-d2904a763901\" class=\"sk-toggleable__label sk-toggleable__label-arrow\">LinearRegression</label><div class=\"sk-toggleable__content\"><pre>LinearRegression()</pre></div></div></div></div></div></div></div>"
      ],
      "text/plain": [
       "Pipeline(steps=[('columntransformer',\n",
       "                 ColumnTransformer(remainder='passthrough',\n",
       "                                   transformers=[('pipeline-1',\n",
       "                                                  Pipeline(steps=[('onehotencoder',\n",
       "                                                                   OneHotEncoder(handle_unknown='ignore',\n",
       "                                                                                 sparse=False)),\n",
       "                                                                  ('standardscaler',\n",
       "                                                                   StandardScaler())]),\n",
       "                                                  <sklearn.compose._column_transformer.make_column_selector object at 0x7faff4c63520>),\n",
       "                                                 ('pipeline-2',\n",
       "                                                  Pipeline(steps=[('standardscaler',\n",
       "                                                                   StandardScaler())]),\n",
       "                                                  <sklearn.compose._column_transformer.make_column_selector object at 0x7faff4c63340>)])),\n",
       "                ('pca', PCA(n_components=0.95)),\n",
       "                ('linearregression', LinearRegression())])"
      ]
     },
     "execution_count": 108,
     "metadata": {},
     "output_type": "execute_result"
    }
   ],
   "source": [
    "#fit feature engineering method 2 linear regression pipeline\n",
    "lr3_pca_pipe.fit(X_train, y_train)"
   ]
  },
  {
   "cell_type": "code",
   "execution_count": 109,
   "id": "722635f3",
   "metadata": {},
   "outputs": [
    {
     "name": "stdout",
     "output_type": "stream",
     "text": [
      "Feature Engineering Training Results\n",
      "RMSE Score: 0.14194058784925392\n",
      "R^2 Score: 0.1459409304856727\n",
      "\n",
      "RMSE Score: 0.13977464939059175\n",
      "R^2 Score: 0.06374815886974117\n",
      "\n",
      "CPU times: user 52.3 ms, sys: 3.11 ms, total: 55.4 ms\n",
      "Wall time: 14.4 ms\n"
     ]
    }
   ],
   "source": [
    "%%time\n",
    "#predictions\n",
    "lr3_train_score = eval_regression(y_train, lr3_pca_pipe.predict(X_train))\n",
    "lr3_test_score = eval_regression(y_test, lr3_pca_pipe.predict(X_test))\n",
    "print('Feature Engineering Training Results')\n",
    "print(f'RMSE Score: {lr3_train_score[0]}')\n",
    "print(f'R^2 Score: {lr3_train_score[1]}\\n')\n",
    "\n",
    "print(f'RMSE Score: {lr3_test_score[0]}')\n",
    "print(f'R^2 Score: {lr3_test_score[1]}\\n')"
   ]
  },
  {
   "cell_type": "markdown",
   "id": "6d441965",
   "metadata": {},
   "source": [
    "### Metrics for all training and testing models"
   ]
  },
  {
   "cell_type": "code",
   "execution_count": 110,
   "id": "be7a3392",
   "metadata": {},
   "outputs": [
    {
     "data": {
      "text/html": [
       "<div>\n",
       "<style scoped>\n",
       "    .dataframe tbody tr th:only-of-type {\n",
       "        vertical-align: middle;\n",
       "    }\n",
       "\n",
       "    .dataframe tbody tr th {\n",
       "        vertical-align: top;\n",
       "    }\n",
       "\n",
       "    .dataframe thead th {\n",
       "        text-align: right;\n",
       "    }\n",
       "</style>\n",
       "<table border=\"1\" class=\"dataframe\">\n",
       "  <thead>\n",
       "    <tr style=\"text-align: right;\">\n",
       "      <th></th>\n",
       "      <th>RMSE</th>\n",
       "      <th>R^2</th>\n",
       "    </tr>\n",
       "  </thead>\n",
       "  <tbody>\n",
       "    <tr>\n",
       "      <th>Reg Train</th>\n",
       "      <td>0.0</td>\n",
       "      <td>1.0</td>\n",
       "    </tr>\n",
       "    <tr>\n",
       "      <th>Reg Test</th>\n",
       "      <td>0.127464</td>\n",
       "      <td>0.274438</td>\n",
       "    </tr>\n",
       "    <tr>\n",
       "      <th>Reg PCA Train</th>\n",
       "      <td>0.0</td>\n",
       "      <td>1.0</td>\n",
       "    </tr>\n",
       "    <tr>\n",
       "      <th>Reg PCA Test</th>\n",
       "      <td>0.122236</td>\n",
       "      <td>0.332732</td>\n",
       "    </tr>\n",
       "    <tr>\n",
       "      <th>OPT Reg Train</th>\n",
       "      <td>0.108298</td>\n",
       "      <td>0.491688</td>\n",
       "    </tr>\n",
       "    <tr>\n",
       "      <th>OPT Reg Test</th>\n",
       "      <td>0.113991</td>\n",
       "      <td>0.419715</td>\n",
       "    </tr>\n",
       "    <tr>\n",
       "      <th>LR Train</th>\n",
       "      <td>0.107263</td>\n",
       "      <td>0.501358</td>\n",
       "    </tr>\n",
       "    <tr>\n",
       "      <th>LR Test</th>\n",
       "      <td>16700429514265.517578</td>\n",
       "      <td>-12455311841198355443634667520.0</td>\n",
       "    </tr>\n",
       "    <tr>\n",
       "      <th>LR PCA Train</th>\n",
       "      <td>0.07571</td>\n",
       "      <td>0.751578</td>\n",
       "    </tr>\n",
       "    <tr>\n",
       "      <th>LR PCA Test</th>\n",
       "      <td>0.102608</td>\n",
       "      <td>0.529824</td>\n",
       "    </tr>\n",
       "    <tr>\n",
       "      <th>Ridge Train</th>\n",
       "      <td>0.103703</td>\n",
       "      <td>0.54411</td>\n",
       "    </tr>\n",
       "    <tr>\n",
       "      <th>Ridge Test</th>\n",
       "      <td>0.122538</td>\n",
       "      <td>0.280428</td>\n",
       "    </tr>\n",
       "    <tr>\n",
       "      <th>LR 2 Train</th>\n",
       "      <td>0.090212</td>\n",
       "      <td>0.728665</td>\n",
       "    </tr>\n",
       "    <tr>\n",
       "      <th>LR 2 Test</th>\n",
       "      <td>0.10161</td>\n",
       "      <td>0.639746</td>\n",
       "    </tr>\n",
       "    <tr>\n",
       "      <th>LR 3 Train</th>\n",
       "      <td>0.141941</td>\n",
       "      <td>0.145941</td>\n",
       "    </tr>\n",
       "    <tr>\n",
       "      <th>LR 3 Test</th>\n",
       "      <td>0.139775</td>\n",
       "      <td>0.063748</td>\n",
       "    </tr>\n",
       "  </tbody>\n",
       "</table>\n",
       "</div>"
      ],
      "text/plain": [
       "                                RMSE                              R^2\n",
       "Reg Train                        0.0                              1.0\n",
       "Reg Test                    0.127464                         0.274438\n",
       "Reg PCA Train                    0.0                              1.0\n",
       "Reg PCA Test                0.122236                         0.332732\n",
       "OPT Reg Train               0.108298                         0.491688\n",
       "OPT Reg Test                0.113991                         0.419715\n",
       "LR Train                    0.107263                         0.501358\n",
       "LR Test        16700429514265.517578 -12455311841198355443634667520.0\n",
       "LR PCA Train                 0.07571                         0.751578\n",
       "LR PCA Test                 0.102608                         0.529824\n",
       "Ridge Train                 0.103703                          0.54411\n",
       "Ridge Test                  0.122538                         0.280428\n",
       "LR 2 Train                  0.090212                         0.728665\n",
       "LR 2 Test                    0.10161                         0.639746\n",
       "LR 3 Train                  0.141941                         0.145941\n",
       "LR 3 Test                   0.139775                         0.063748"
      ]
     },
     "execution_count": 110,
     "metadata": {},
     "output_type": "execute_result"
    }
   ],
   "source": [
    "#keeping score\n",
    "scores_df.loc['LR 3 Train'] = [lr3_train_score[0], lr3_train_score[1]]\n",
    "scores_df.loc['LR 3 Test'] = [lr3_test_score[0], lr3_test_score[1]]\n",
    "scores_df"
   ]
  },
  {
   "cell_type": "code",
   "execution_count": 111,
   "id": "011d5715",
   "metadata": {},
   "outputs": [],
   "source": [
    "scores_df.reset_index(inplace=True)"
   ]
  },
  {
   "cell_type": "markdown",
   "id": "19622d2f",
   "metadata": {},
   "source": [
    "### Only testing scores sorted by highest to lowest"
   ]
  },
  {
   "cell_type": "code",
   "execution_count": 113,
   "id": "1e718a3b",
   "metadata": {},
   "outputs": [
    {
     "data": {
      "text/html": [
       "<div>\n",
       "<style scoped>\n",
       "    .dataframe tbody tr th:only-of-type {\n",
       "        vertical-align: middle;\n",
       "    }\n",
       "\n",
       "    .dataframe tbody tr th {\n",
       "        vertical-align: top;\n",
       "    }\n",
       "\n",
       "    .dataframe thead th {\n",
       "        text-align: right;\n",
       "    }\n",
       "</style>\n",
       "<table border=\"1\" class=\"dataframe\">\n",
       "  <thead>\n",
       "    <tr style=\"text-align: right;\">\n",
       "      <th></th>\n",
       "      <th>index</th>\n",
       "      <th>RMSE</th>\n",
       "      <th>R^2</th>\n",
       "    </tr>\n",
       "  </thead>\n",
       "  <tbody>\n",
       "    <tr>\n",
       "      <th>13</th>\n",
       "      <td>LR 2 Test</td>\n",
       "      <td>0.10161</td>\n",
       "      <td>0.639746</td>\n",
       "    </tr>\n",
       "    <tr>\n",
       "      <th>9</th>\n",
       "      <td>LR PCA Test</td>\n",
       "      <td>0.102608</td>\n",
       "      <td>0.529824</td>\n",
       "    </tr>\n",
       "    <tr>\n",
       "      <th>5</th>\n",
       "      <td>OPT Reg Test</td>\n",
       "      <td>0.113991</td>\n",
       "      <td>0.419715</td>\n",
       "    </tr>\n",
       "    <tr>\n",
       "      <th>3</th>\n",
       "      <td>Reg PCA Test</td>\n",
       "      <td>0.122236</td>\n",
       "      <td>0.332732</td>\n",
       "    </tr>\n",
       "    <tr>\n",
       "      <th>11</th>\n",
       "      <td>Ridge Test</td>\n",
       "      <td>0.122538</td>\n",
       "      <td>0.280428</td>\n",
       "    </tr>\n",
       "    <tr>\n",
       "      <th>1</th>\n",
       "      <td>Reg Test</td>\n",
       "      <td>0.127464</td>\n",
       "      <td>0.274438</td>\n",
       "    </tr>\n",
       "    <tr>\n",
       "      <th>15</th>\n",
       "      <td>LR 3 Test</td>\n",
       "      <td>0.139775</td>\n",
       "      <td>0.063748</td>\n",
       "    </tr>\n",
       "    <tr>\n",
       "      <th>7</th>\n",
       "      <td>LR Test</td>\n",
       "      <td>16700429514265.517578</td>\n",
       "      <td>-12455311841198355443634667520.0</td>\n",
       "    </tr>\n",
       "  </tbody>\n",
       "</table>\n",
       "</div>"
      ],
      "text/plain": [
       "           index                   RMSE                              R^2\n",
       "13     LR 2 Test                0.10161                         0.639746\n",
       "9    LR PCA Test               0.102608                         0.529824\n",
       "5   OPT Reg Test               0.113991                         0.419715\n",
       "3   Reg PCA Test               0.122236                         0.332732\n",
       "11    Ridge Test               0.122538                         0.280428\n",
       "1       Reg Test               0.127464                         0.274438\n",
       "15     LR 3 Test               0.139775                         0.063748\n",
       "7        LR Test  16700429514265.517578 -12455311841198355443634667520.0"
      ]
     },
     "execution_count": 113,
     "metadata": {},
     "output_type": "execute_result"
    }
   ],
   "source": [
    "scores_df[scores_df['index'].str.contains('Test')].sort_values('R^2', ascending=False)"
   ]
  },
  {
   "cell_type": "markdown",
   "id": "051a7e72",
   "metadata": {},
   "source": [
    "## Summary\n",
    "<b>Model Recommendation:</b> Linear Regression 2 Model\n",
    "\n",
    "How was the model built?\n",
    "- Model used PCA with n_components set to .95\n",
    "- Feature Engineering combining 2 features into a new column\n",
    "- Filtered categorical column with the most unique values and only keeping rows that had >= 13 data points\n",
    "- Pipeline for OneHot Encoding Categorical data and Standard Scaler on all data\n",
    "- Did not impute any missing data\n",
    "\n",
    "According to our test results the Linear Regression 2 Model had the lower RMSE scores without being overfit to the data. The two models with the best R^2 also had training data that was close in range. I think this is a good indicator that both models were well fitted to the training and the testing data. <br>\n",
    "\n",
    "#### Additional Exploration\n",
    "Due to the magnitude of unique categorical values in multiple columns, the first Linear Regression model was increidbly overfit on the training data. Because of this, PCA was able to tremedously improve the model on the testing data by colossal amount. Twelve octillion to be exact. <br>\n",
    "\n",
    "<b>Additional methods to combat large unique categorical values:</b>\n",
    ">\n",
    ">- <b>Ridge Model:</b> Dropping the largest categorical column\n",
    "    - Result: Performance was on par with default Regression Tree Model\n",
    ">- <b>Linear Regression 3:</b> Dropping all columns with large unique values\n",
    "    - Result: Performed the worst, with the exception of the hugely underfit default Linear Regression Model\n",
    "\n",
    "<b> In summary:</b>\n",
    "<br>I think this dataset is a good example of collecting too much and not enough data at the same time. Moving onward I would recommend we speak to the client to determine their goals along with how flexible their priorities are. Then communicate with a domain expert to nail down what other data could be gathered to further improve the model. Their expertise would help aid data scientist in properly identifying the target, filtering/data cleaning, feature selection and even picking machine learning models. \n",
    "\n"
   ]
  }
 ],
 "metadata": {
  "kernelspec": {
   "display_name": "Python 3 (ipykernel)",
   "language": "python",
   "name": "python3"
  },
  "language_info": {
   "codemirror_mode": {
    "name": "ipython",
    "version": 3
   },
   "file_extension": ".py",
   "mimetype": "text/x-python",
   "name": "python",
   "nbconvert_exporter": "python",
   "pygments_lexer": "ipython3",
   "version": "3.9.12"
  }
 },
 "nbformat": 4,
 "nbformat_minor": 5
}
